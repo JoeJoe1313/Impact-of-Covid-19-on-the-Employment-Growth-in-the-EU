{
 "metadata": {
  "language_info": {
   "codemirror_mode": {
    "name": "ipython",
    "version": 3
   },
   "file_extension": ".py",
   "mimetype": "text/x-python",
   "name": "python",
   "nbconvert_exporter": "python",
   "pygments_lexer": "ipython3",
   "version": "3.8.5-final"
  },
  "orig_nbformat": 2,
  "kernelspec": {
   "name": "python3",
   "display_name": "Python 3",
   "language": "python"
  }
 },
 "nbformat": 4,
 "nbformat_minor": 2,
 "cells": [
  {
   "cell_type": "code",
   "execution_count": 454,
   "metadata": {},
   "outputs": [],
   "source": [
    "from collections import Counter \n",
    "s1 = 'showman'\n",
    "s2 = 'woman'"
   ]
  },
  {
   "cell_type": "code",
   "execution_count": 455,
   "metadata": {},
   "outputs": [
    {
     "output_type": "stream",
     "name": "stdout",
     "text": [
      "Counter({'s': 1, 'h': 1, 'o': 1, 'w': 1, 'm': 1, 'a': 1, 'n': 1})\nCounter({'w': 1, 'o': 1, 'm': 1, 'a': 1, 'n': 1})\nCounter()\nCounter({'s': 1, 'h': 1})\n"
     ]
    }
   ],
   "source": [
    "c1 = Counter(s1)\n",
    "print(c1)\n",
    "c2 = Counter(s2)\n",
    "print(c2)\n",
    "print((c2 - c1))\n",
    "print((c1 - c2))"
   ]
  },
  {
   "cell_type": "code",
   "execution_count": 456,
   "metadata": {},
   "outputs": [
    {
     "output_type": "execute_result",
     "data": {
      "text/plain": [
       "0"
      ]
     },
     "metadata": {},
     "execution_count": 456
    }
   ],
   "source": [
    "sum((c2 - c1).values())"
   ]
  },
  {
   "cell_type": "code",
   "execution_count": 457,
   "metadata": {},
   "outputs": [
    {
     "output_type": "execute_result",
     "data": {
      "text/plain": [
       "2"
      ]
     },
     "metadata": {},
     "execution_count": 457
    }
   ],
   "source": [
    "sum((c1 - c2).values())"
   ]
  },
  {
   "cell_type": "code",
   "execution_count": 437,
   "metadata": {},
   "outputs": [
    {
     "output_type": "stream",
     "name": "stdout",
     "text": [
      "Counter({'c': 1, 'd': 1, 'e': 1})\nCounter({'a': 1, 'b': 1, 'c': 1})\nCounter({'d': 1, 'e': 1})\nCounter({'a': 1, 'b': 1})\n"
     ]
    }
   ],
   "source": [
    "print(Counter('cde'))\n",
    "print(Counter('abc'))\n",
    "print(Counter('cde') - Counter('abc'))\n",
    "print(Counter('abc') - Counter('cde'))"
   ]
  },
  {
   "cell_type": "code",
   "execution_count": 20,
   "metadata": {},
   "outputs": [
    {
     "output_type": "stream",
     "name": "stdout",
     "text": [
      "AAABBBAABB\n[['A', 3], ['B', 3], ['A', 2], ['B', 2]]\n"
     ]
    },
    {
     "output_type": "execute_result",
     "data": {
      "text/plain": [
       "6"
      ]
     },
     "metadata": {},
     "execution_count": 20
    }
   ],
   "source": [
    "from itertools import groupby\n",
    "\n",
    "s = 'AAABBBAABB'\n",
    "print(s)\n",
    "\n",
    "ha = [[k, len(list(g))] for k, g in groupby(s)]\n",
    "print(ha)\n",
    "\n",
    "sum = 0 \n",
    "for el in ha:\n",
    "    sum = sum + el[1] - 1\n",
    "sum"
   ]
  },
  {
   "cell_type": "code",
   "execution_count": 2,
   "metadata": {},
   "outputs": [
    {
     "output_type": "execute_result",
     "data": {
      "text/plain": [
       "6"
      ]
     },
     "metadata": {},
     "execution_count": 2
    }
   ],
   "source": [
    "s = 'AAABBBAABB'\n",
    "sum(f == s for f, s in zip(s[:-1], s[1:]))"
   ]
  },
  {
   "cell_type": "code",
   "execution_count": 5,
   "metadata": {},
   "outputs": [
    {
     "output_type": "execute_result",
     "data": {
      "text/plain": [
       "6"
      ]
     },
     "metadata": {},
     "execution_count": 5
    }
   ],
   "source": [
    "s = 'AAABBBAABB'\n",
    "count = 0 \n",
    "for i in range(len(s)- 1):\n",
    "    if s[i] == s[i+1]:\n",
    "        count += 1\n",
    "count"
   ]
  },
  {
   "cell_type": "code",
   "execution_count": 13,
   "metadata": {},
   "outputs": [
    {
     "output_type": "stream",
     "name": "stdout",
     "text": [
      "5\n"
     ]
    }
   ],
   "source": [
    "def fibonacci(n):\n",
    "    if n == 0:\n",
    "        return 0 \n",
    "    elif n == 1:\n",
    "        return 1\n",
    "    else: \n",
    "        return fibonacci(n - 1) + fibonacci(n - 2)\n",
    "\n",
    "n = int(input())\n",
    "print(fibonacci(n))"
   ]
  },
  {
   "cell_type": "code",
   "execution_count": 25,
   "metadata": {},
   "outputs": [],
   "source": [
    "n = 10 # -> za masiva \n",
    "queries = [[2, 6, 8], [3, 5, 7], [1, 8, 1], [5, 9, 15]]\n",
    "\n"
   ]
  },
  {
   "source": [
    "[1, 2, 3, 4, 5, 6, 7, 8, 9, 10]\n",
    "[0, 0, 0, 0, 0, 0, 0, 0, 0, 0]"
   ],
   "cell_type": "code",
   "metadata": {},
   "execution_count": null,
   "outputs": []
  },
  {
   "cell_type": "code",
   "execution_count": 26,
   "metadata": {},
   "outputs": [
    {
     "output_type": "stream",
     "name": "stdout",
     "text": [
      "[2, 6, 8]\n[3, 5, 7]\n[1, 8, 1]\n[5, 9, 15]\n"
     ]
    }
   ],
   "source": [
    "for element in queries:\n",
    "    print(element)"
   ]
  },
  {
   "cell_type": "code",
   "execution_count": 29,
   "metadata": {},
   "outputs": [],
   "source": []
  },
  {
   "cell_type": "code",
   "execution_count": 30,
   "metadata": {},
   "outputs": [
    {
     "output_type": "execute_result",
     "data": {
      "text/plain": [
       "[1, 9, 16, 16, 31, 24, 16, 16, 15, 0]"
      ]
     },
     "metadata": {},
     "execution_count": 30
    }
   ],
   "source": [
    "my_list"
   ]
  },
  {
   "cell_type": "code",
   "execution_count": 31,
   "metadata": {},
   "outputs": [
    {
     "output_type": "execute_result",
     "data": {
      "text/plain": [
       "31"
      ]
     },
     "metadata": {},
     "execution_count": 31
    }
   ],
   "source": []
  },
  {
   "cell_type": "code",
   "execution_count": 32,
   "metadata": {},
   "outputs": [
    {
     "output_type": "execute_result",
     "data": {
      "text/plain": [
       "31"
      ]
     },
     "metadata": {},
     "execution_count": 32
    }
   ],
   "source": [
    "my_list = [0] * n \n",
    "for element in queries:\n",
    "    for i in range(element[0]-1, element[1]):\n",
    "        my_list[i] = my_list[i] + element[2]\n",
    "max(my_list)"
   ]
  },
  {
   "cell_type": "code",
   "execution_count": 33,
   "metadata": {},
   "outputs": [
    {
     "output_type": "error",
     "ename": "SyntaxError",
     "evalue": "invalid syntax (<ipython-input-33-e254ce9f91a4>, line 6)",
     "traceback": [
      "\u001b[0;36m  File \u001b[0;32m\"<ipython-input-33-e254ce9f91a4>\"\u001b[0;36m, line \u001b[0;32m6\u001b[0m\n\u001b[0;31m    using namespace std;\u001b[0m\n\u001b[0m          ^\u001b[0m\n\u001b[0;31mSyntaxError\u001b[0m\u001b[0;31m:\u001b[0m invalid syntax\n"
     ]
    }
   ],
   "source": [
    "#include <cmath>\n",
    "#include <cstdio>\n",
    "#include <vector>\n",
    "#include <iostream>\n",
    "#include <algorithm>\n",
    "\n",
    "using namespace std;\n",
    "\n",
    "\n",
    "int main() {\n",
    "    long int N, K, p, q, sum, i, j, max = 0, x = 0;\n",
    "\n",
    "    cin >> N >> K;\n",
    "    long int *a = new long int[N+1]();\n",
    "\n",
    "    for(i = 0; i < K; i++) {\n",
    "        cin >> p >> q >> sum;\n",
    "        a[p] += sum;\n",
    "        if((q+1) <= N) a[q+1] -= sum;\n",
    "    }\n",
    "\n",
    "    for(i = 1; i <= N; i++) {\n",
    "       x = x + a[i];\n",
    "       if(max < x) max = x;\n",
    "    }\n",
    "\n",
    "    cout << max;\n",
    "    return 0;\n",
    "}"
   ]
  },
  {
   "cell_type": "code",
   "execution_count": 34,
   "metadata": {},
   "outputs": [],
   "source": [
    "def arrayManipulation(n, queries):\n",
    "    for q in queries:\n",
    "        q[0] -= 1\n",
    "        q[1] -= 1\n",
    "    \n",
    "    queries = sorted(queries)\n",
    "    i = 0\n",
    "    max_sum = 0\n",
    "    cur_sum = 0\n",
    "    ending = defaultdict(int)\n",
    "    for f, s, k in queries:\n",
    "        while i < f:\n",
    "            cur_sum -= ending.get(i, 0)\n",
    "            i += 1\n",
    "        ending[s] += k\n",
    "        cur_sum += k\n",
    "        max_sum = max([cur_sum, max_sum])\n",
    "    return max_sum"
   ]
  },
  {
   "cell_type": "code",
   "execution_count": 35,
   "metadata": {},
   "outputs": [],
   "source": [
    "x = 123"
   ]
  },
  {
   "cell_type": "code",
   "execution_count": 53,
   "metadata": {},
   "outputs": [
    {
     "output_type": "execute_result",
     "data": {
      "text/plain": [
       "3"
      ]
     },
     "metadata": {},
     "execution_count": 53
    }
   ],
   "source": [
    "123 % 10"
   ]
  },
  {
   "cell_type": "code",
   "execution_count": 79,
   "metadata": {},
   "outputs": [
    {
     "output_type": "execute_result",
     "data": {
      "text/plain": [
       "12"
      ]
     },
     "metadata": {},
     "execution_count": 79
    }
   ],
   "source": [
    "123 // 10 "
   ]
  },
  {
   "cell_type": "code",
   "execution_count": 80,
   "metadata": {},
   "outputs": [
    {
     "output_type": "execute_result",
     "data": {
      "text/plain": [
       "int"
      ]
     },
     "metadata": {},
     "execution_count": 80
    }
   ],
   "source": [
    "type(x)"
   ]
  },
  {
   "cell_type": "code",
   "execution_count": 83,
   "metadata": {},
   "outputs": [
    {
     "output_type": "execute_result",
     "data": {
      "text/plain": [
       "12"
      ]
     },
     "metadata": {},
     "execution_count": 83
    }
   ],
   "source": [
    "120 // 10 "
   ]
  },
  {
   "cell_type": "code",
   "execution_count": 86,
   "metadata": {},
   "outputs": [
    {
     "output_type": "execute_result",
     "data": {
      "text/plain": [
       "1"
      ]
     },
     "metadata": {},
     "execution_count": 86
    }
   ],
   "source": [
    "12 // 10"
   ]
  },
  {
   "cell_type": "code",
   "execution_count": 87,
   "metadata": {},
   "outputs": [
    {
     "output_type": "execute_result",
     "data": {
      "text/plain": [
       "0"
      ]
     },
     "metadata": {},
     "execution_count": 87
    }
   ],
   "source": [
    "1 // 10"
   ]
  },
  {
   "cell_type": "code",
   "execution_count": 88,
   "metadata": {},
   "outputs": [
    {
     "output_type": "execute_result",
     "data": {
      "text/plain": [
       "2"
      ]
     },
     "metadata": {},
     "execution_count": 88
    }
   ],
   "source": [
    "312 % 10 "
   ]
  },
  {
   "cell_type": "code",
   "execution_count": 6,
   "metadata": {},
   "outputs": [
    {
     "output_type": "stream",
     "name": "stdout",
     "text": [
      "0\n321\n"
     ]
    }
   ],
   "source": [
    "x = -123\n",
    "\n",
    "x_copy1 = x \n",
    "x_copy2 = x\n",
    "my_count = 0 \n",
    "new_x = 0 \n",
    "\n",
    "if x < 0:\n",
    "    x_copy = abs(x)\n",
    "    x = abs(x)\n",
    "\n",
    "while x_copy != 0:\n",
    "    x_copy = x_copy // 10 \n",
    "    my_count += 1 \n",
    "\n",
    "for i in range(1, my_count+1):\n",
    "    new_x = new_x + (x % 10) * pow(10, my_count - i)\n",
    "    x = x // 10\n",
    "\n",
    "if x_copy2 >= 0:\n",
    "    return new_x\n",
    "else: \n",
    "    return - new_x"
   ]
  },
  {
   "cell_type": "code",
   "execution_count": 17,
   "metadata": {},
   "outputs": [
    {
     "output_type": "execute_result",
     "data": {
      "text/plain": [
       "321"
      ]
     },
     "metadata": {},
     "execution_count": 17
    }
   ],
   "source": [
    "x = 3212\n",
    "\n",
    "x // 10 "
   ]
  },
  {
   "cell_type": "code",
   "execution_count": 2,
   "metadata": {},
   "outputs": [],
   "source": [
    "x = 1234 \n",
    "\n",
    "while x != 0:\n",
    "    pass"
   ]
  },
  {
   "cell_type": "code",
   "execution_count": 8,
   "metadata": {},
   "outputs": [
    {
     "output_type": "error",
     "ename": "SyntaxError",
     "evalue": "'return' outside function (<ipython-input-8-892567e73757>, line 4)",
     "traceback": [
      "\u001b[0;36m  File \u001b[0;32m\"<ipython-input-8-892567e73757>\"\u001b[0;36m, line \u001b[0;32m4\u001b[0m\n\u001b[0;31m    return my\u001b[0m\n\u001b[0m    ^\u001b[0m\n\u001b[0;31mSyntaxError\u001b[0m\u001b[0;31m:\u001b[0m 'return' outside function\n"
     ]
    }
   ],
   "source": [
    "my = [0, 0]\n",
    "if (my[0] == 0) and (len(my) > 0):\n",
    "    my[-1] = 1\n",
    "    return my \n",
    "else:\n",
    "    number = 0 \n",
    "    for el in enumerate(my):\n",
    "        number = number + el[1] * pow(10, len(my)-el[0]-1)\n",
    "    number = number + 1\n",
    "    return [int(x) for x in str(number)]"
   ]
  },
  {
   "cell_type": "code",
   "execution_count": null,
   "metadata": {},
   "outputs": [],
   "source": []
  },
  {
   "source": [
    "import math \n",
    "x = 8 \n",
    "math.trunc(x**0.5)"
   ],
   "cell_type": "code",
   "metadata": {},
   "execution_count": 3,
   "outputs": [
    {
     "output_type": "execute_result",
     "data": {
      "text/plain": [
       "2"
      ]
     },
     "metadata": {},
     "execution_count": 3
    }
   ]
  },
  {
   "cell_type": "code",
   "execution_count": 10,
   "metadata": {},
   "outputs": [
    {
     "output_type": "error",
     "ename": "TypeError",
     "evalue": "sequence item 0: expected str instance, int found",
     "traceback": [
      "\u001b[0;31m---------------------------------------------------------------------------\u001b[0m",
      "\u001b[0;31mTypeError\u001b[0m                                 Traceback (most recent call last)",
      "\u001b[0;32m<ipython-input-10-4b3af7ac7a4f>\u001b[0m in \u001b[0;36m<module>\u001b[0;34m\u001b[0m\n\u001b[1;32m      1\u001b[0m \u001b[0mmy\u001b[0m \u001b[0;34m=\u001b[0m \u001b[0;34m[\u001b[0m\u001b[0;36m1\u001b[0m\u001b[0;34m,\u001b[0m \u001b[0;36m2\u001b[0m\u001b[0;34m]\u001b[0m\u001b[0;34m\u001b[0m\u001b[0;34m\u001b[0m\u001b[0m\n\u001b[0;32m----> 2\u001b[0;31m \u001b[0mha\u001b[0m \u001b[0;34m=\u001b[0m \u001b[0mint\u001b[0m\u001b[0;34m(\u001b[0m\u001b[0;34m''\u001b[0m\u001b[0;34m.\u001b[0m\u001b[0mjoin\u001b[0m\u001b[0;34m(\u001b[0m\u001b[0mmy\u001b[0m\u001b[0;34m)\u001b[0m\u001b[0;34m)\u001b[0m\u001b[0;34m\u001b[0m\u001b[0;34m\u001b[0m\u001b[0m\n\u001b[0m\u001b[1;32m      3\u001b[0m \u001b[0mha\u001b[0m\u001b[0;34m\u001b[0m\u001b[0;34m\u001b[0m\u001b[0m\n",
      "\u001b[0;31mTypeError\u001b[0m: sequence item 0: expected str instance, int found"
     ]
    }
   ],
   "source": [
    "my = [1, 2]\n",
    "ha = int(''.join(my))\n",
    "ha\n"
   ]
  },
  {
   "source": [
    "my"
   ],
   "cell_type": "code",
   "metadata": {},
   "execution_count": 11,
   "outputs": [
    {
     "output_type": "execute_result",
     "data": {
      "text/plain": [
       "[1, 2]"
      ]
     },
     "metadata": {},
     "execution_count": 11
    }
   ]
  },
  {
   "cell_type": "code",
   "execution_count": 12,
   "metadata": {},
   "outputs": [
    {
     "output_type": "execute_result",
     "data": {
      "text/plain": [
       "'[1, 2]'"
      ]
     },
     "metadata": {},
     "execution_count": 12
    }
   ],
   "source": [
    "str(my)"
   ]
  },
  {
   "cell_type": "code",
   "execution_count": 13,
   "metadata": {},
   "outputs": [],
   "source": [
    "x = 8"
   ]
  },
  {
   "cell_type": "code",
   "execution_count": 14,
   "metadata": {},
   "outputs": [
    {
     "output_type": "execute_result",
     "data": {
      "text/plain": [
       "2"
      ]
     },
     "metadata": {},
     "execution_count": 14
    }
   ],
   "source": [
    "int(x**0.5)"
   ]
  },
  {
   "cell_type": "code",
   "execution_count": 27,
   "metadata": {},
   "outputs": [
    {
     "output_type": "error",
     "ename": "SyntaxError",
     "evalue": "'return' outside function (<ipython-input-27-aaee0cf3c65d>, line 8)",
     "traceback": [
      "\u001b[0;36m  File \u001b[0;32m\"<ipython-input-27-aaee0cf3c65d>\"\u001b[0;36m, line \u001b[0;32m8\u001b[0m\n\u001b[0;31m    return sum(my_list)\u001b[0m\n\u001b[0m    ^\u001b[0m\n\u001b[0;31mSyntaxError\u001b[0m\u001b[0;31m:\u001b[0m 'return' outside function\n"
     ]
    }
   ],
   "source": [
    "from collections import Counter\n",
    "hey = [1, 2, 4, 2]\n",
    "c = Counter(hey)\n",
    "my_list = []\n",
    "for el in c.keys():\n",
    "    if c[el] == 1:\n",
    "        my_list.append(el)\n",
    "return sum(my_list)"
   ]
  },
  {
   "cell_type": "code",
   "execution_count": 34,
   "metadata": {},
   "outputs": [
    {
     "output_type": "execute_result",
     "data": {
      "text/plain": [
       "5"
      ]
     },
     "metadata": {},
     "execution_count": 34
    }
   ],
   "source": [
    "s = \"Hello World\"\n",
    "len(s.split()[-1])"
   ]
  },
  {
   "cell_type": "code",
   "execution_count": 41,
   "metadata": {},
   "outputs": [
    {
     "output_type": "execute_result",
     "data": {
      "text/plain": [
       "['a']"
      ]
     },
     "metadata": {},
     "execution_count": 41
    }
   ],
   "source": [
    "v = 'a'\n",
    "v.split()"
   ]
  },
  {
   "cell_type": "code",
   "execution_count": 8,
   "metadata": {},
   "outputs": [
    {
     "output_type": "stream",
     "name": "stdout",
     "text": [
      "not\n"
     ]
    }
   ],
   "source": [
    "v = ''\n",
    "if v:\n",
    "    print('yup')\n",
    "else: \n",
    "    print('not')"
   ]
  },
  {
   "cell_type": "code",
   "execution_count": 9,
   "metadata": {},
   "outputs": [
    {
     "output_type": "execute_result",
     "data": {
      "text/plain": [
       "''"
      ]
     },
     "metadata": {},
     "execution_count": 9
    }
   ],
   "source": [
    "v = '      '\n",
    "v.strip()"
   ]
  },
  {
   "cell_type": "code",
   "execution_count": 2,
   "metadata": {},
   "outputs": [],
   "source": [
    "number = 0\n",
    "prime_numbers = [2, 3, 5]\n",
    "for prime in prime_numbers:\n",
    "    while number % prime == 0:\n",
    "        number = number // prime\n",
    "number"
   ]
  },
  {
   "cell_type": "code",
   "execution_count": 19,
   "metadata": {},
   "outputs": [],
   "source": [
    "num = -2147483648\n",
    "prime_numbers = [2, 3, 5]\n",
    "class Solution:\n",
    "    def isUgly(self, num: int) -> bool:\n",
    "        prime_numbers = [2, 3, 5]\n",
    "        if num <= 0: \n",
    "            return False\n",
    "        for prime in prime_numbers:\n",
    "            while num % prime == 0:\n",
    "                num = num // prime\n",
    "        return num == 1"
   ]
  },
  {
   "cell_type": "code",
   "execution_count": 26,
   "metadata": {},
   "outputs": [
    {
     "output_type": "execute_result",
     "data": {
      "text/plain": [
       "[5]"
      ]
     },
     "metadata": {},
     "execution_count": 26
    }
   ],
   "source": [
    "num = 5\n",
    "prime_factors = []\n",
    "for i in range(2, int(num ** 0.5) + 1):\n",
    "    while num % i == 0:\n",
    "        prime_factors.append(i)\n",
    "        num //= i\n",
    "if num > 1:\n",
    "    prime_factors.append(num)\n",
    "prime_factors"
   ]
  },
  {
   "cell_type": "code",
   "execution_count": null,
   "metadata": {},
   "outputs": [],
   "source": []
  }
 ]
}