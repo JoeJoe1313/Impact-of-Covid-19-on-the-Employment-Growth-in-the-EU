{
 "metadata": {
  "language_info": {
   "codemirror_mode": {
    "name": "ipython",
    "version": 3
   },
   "file_extension": ".py",
   "mimetype": "text/x-python",
   "name": "python",
   "nbconvert_exporter": "python",
   "pygments_lexer": "ipython3",
   "version": "3.8.5-final"
  },
  "orig_nbformat": 2,
  "kernelspec": {
   "name": "python3",
   "display_name": "Python 3",
   "language": "python"
  }
 },
 "nbformat": 4,
 "nbformat_minor": 2,
 "cells": [
  {
   "cell_type": "code",
   "execution_count": 1,
   "metadata": {},
   "outputs": [],
   "source": [
    "from collections import Counter \n",
    "s1 = 'showman'\n",
    "s2 = 'woman'"
   ]
  },
  {
   "cell_type": "code",
   "execution_count": 2,
   "metadata": {},
   "outputs": [
    {
     "output_type": "stream",
     "name": "stdout",
     "text": [
      "Counter({'s': 1, 'h': 1, 'o': 1, 'w': 1, 'm': 1, 'a': 1, 'n': 1})\nCounter({'w': 1, 'o': 1, 'm': 1, 'a': 1, 'n': 1})\nCounter()\nCounter({'s': 1, 'h': 1})\n"
     ]
    }
   ],
   "source": [
    "c1 = Counter(s1)\n",
    "print(c1)\n",
    "c2 = Counter(s2)\n",
    "print(c2)\n",
    "print((c2 - c1))\n",
    "print((c1 - c2))"
   ]
  },
  {
   "cell_type": "code",
   "execution_count": 3,
   "metadata": {},
   "outputs": [
    {
     "output_type": "execute_result",
     "data": {
      "text/plain": [
       "0"
      ]
     },
     "metadata": {},
     "execution_count": 3
    }
   ],
   "source": [
    "sum((c2 - c1).values())"
   ]
  },
  {
   "cell_type": "code",
   "execution_count": 4,
   "metadata": {},
   "outputs": [
    {
     "output_type": "execute_result",
     "data": {
      "text/plain": [
       "2"
      ]
     },
     "metadata": {},
     "execution_count": 4
    }
   ],
   "source": [
    "sum((c1 - c2).values())"
   ]
  },
  {
   "cell_type": "code",
   "execution_count": 12,
   "metadata": {},
   "outputs": [
    {
     "output_type": "stream",
     "name": "stdout",
     "text": [
      "Counter({'c': 1, 'd': 1, 'e': 1})\nCounter({'a': 1, 'b': 1, 'c': 1})\nCounter({'d': 1, 'e': 1})\nCounter({'a': 1, 'b': 1})\n"
     ]
    }
   ],
   "source": [
    "print(Counter('cde'))\n",
    "print(Counter('abc'))\n",
    "print(Counter('cde') - Counter('abc'))\n",
    "print(Counter('abc') - Counter('cde'))"
   ]
  },
  {
   "cell_type": "code",
   "execution_count": 13,
   "metadata": {},
   "outputs": [
    {
     "output_type": "stream",
     "name": "stdout",
     "text": [
      "AAABBBAABB\n[['A', 3], ['B', 3], ['A', 2], ['B', 2]]\n"
     ]
    },
    {
     "output_type": "execute_result",
     "data": {
      "text/plain": [
       "6"
      ]
     },
     "metadata": {},
     "execution_count": 13
    }
   ],
   "source": [
    "from itertools import groupby\n",
    "\n",
    "s = 'AAABBBAABB'\n",
    "print(s)\n",
    "\n",
    "ha = [[k, len(list(g))] for k, g in groupby(s)]\n",
    "print(ha)\n",
    "\n",
    "sum = 0 \n",
    "for el in ha:\n",
    "    sum = sum + el[1] - 1\n",
    "sum"
   ]
  },
  {
   "cell_type": "code",
   "execution_count": 14,
   "metadata": {},
   "outputs": [
    {
     "output_type": "error",
     "ename": "TypeError",
     "evalue": "'int' object is not callable",
     "traceback": [
      "\u001b[0;31m---------------------------------------------------------------------------\u001b[0m",
      "\u001b[0;31mTypeError\u001b[0m                                 Traceback (most recent call last)",
      "\u001b[0;32m<ipython-input-14-8992712ec21d>\u001b[0m in \u001b[0;36m<module>\u001b[0;34m\u001b[0m\n\u001b[1;32m      1\u001b[0m \u001b[0ms\u001b[0m \u001b[0;34m=\u001b[0m \u001b[0;34m'AAABBBAABB'\u001b[0m\u001b[0;34m\u001b[0m\u001b[0;34m\u001b[0m\u001b[0m\n\u001b[0;32m----> 2\u001b[0;31m \u001b[0msum\u001b[0m\u001b[0;34m(\u001b[0m\u001b[0mf\u001b[0m \u001b[0;34m==\u001b[0m \u001b[0ms\u001b[0m \u001b[0;32mfor\u001b[0m \u001b[0mf\u001b[0m\u001b[0;34m,\u001b[0m \u001b[0ms\u001b[0m \u001b[0;32min\u001b[0m \u001b[0mzip\u001b[0m\u001b[0;34m(\u001b[0m\u001b[0ms\u001b[0m\u001b[0;34m[\u001b[0m\u001b[0;34m:\u001b[0m\u001b[0;34m-\u001b[0m\u001b[0;36m1\u001b[0m\u001b[0;34m]\u001b[0m\u001b[0;34m,\u001b[0m \u001b[0ms\u001b[0m\u001b[0;34m[\u001b[0m\u001b[0;36m1\u001b[0m\u001b[0;34m:\u001b[0m\u001b[0;34m]\u001b[0m\u001b[0;34m)\u001b[0m\u001b[0;34m)\u001b[0m\u001b[0;34m\u001b[0m\u001b[0;34m\u001b[0m\u001b[0m\n\u001b[0m",
      "\u001b[0;31mTypeError\u001b[0m: 'int' object is not callable"
     ]
    }
   ],
   "source": [
    "s = 'AAABBBAABB'\n",
    "sum(f == s for f, s in zip(s[:-1], s[1:]))"
   ]
  },
  {
   "cell_type": "code",
   "execution_count": 15,
   "metadata": {},
   "outputs": [
    {
     "output_type": "execute_result",
     "data": {
      "text/plain": [
       "6"
      ]
     },
     "metadata": {},
     "execution_count": 15
    }
   ],
   "source": [
    "s = 'AAABBBAABB'\n",
    "count = 0 \n",
    "for i in range(len(s)- 1):\n",
    "    if s[i] == s[i+1]:\n",
    "        count += 1\n",
    "count"
   ]
  },
  {
   "cell_type": "code",
   "execution_count": 16,
   "metadata": {},
   "outputs": [
    {
     "output_type": "error",
     "ename": "ValueError",
     "evalue": "invalid literal for int() with base 10: ''",
     "traceback": [
      "\u001b[0;31m---------------------------------------------------------------------------\u001b[0m",
      "\u001b[0;31mValueError\u001b[0m                                Traceback (most recent call last)",
      "\u001b[0;32m<ipython-input-16-a4c6f1033db8>\u001b[0m in \u001b[0;36m<module>\u001b[0;34m\u001b[0m\n\u001b[1;32m      7\u001b[0m         \u001b[0;32mreturn\u001b[0m \u001b[0mfibonacci\u001b[0m\u001b[0;34m(\u001b[0m\u001b[0mn\u001b[0m \u001b[0;34m-\u001b[0m \u001b[0;36m1\u001b[0m\u001b[0;34m)\u001b[0m \u001b[0;34m+\u001b[0m \u001b[0mfibonacci\u001b[0m\u001b[0;34m(\u001b[0m\u001b[0mn\u001b[0m \u001b[0;34m-\u001b[0m \u001b[0;36m2\u001b[0m\u001b[0;34m)\u001b[0m\u001b[0;34m\u001b[0m\u001b[0;34m\u001b[0m\u001b[0m\n\u001b[1;32m      8\u001b[0m \u001b[0;34m\u001b[0m\u001b[0m\n\u001b[0;32m----> 9\u001b[0;31m \u001b[0mn\u001b[0m \u001b[0;34m=\u001b[0m \u001b[0mint\u001b[0m\u001b[0;34m(\u001b[0m\u001b[0minput\u001b[0m\u001b[0;34m(\u001b[0m\u001b[0;34m)\u001b[0m\u001b[0;34m)\u001b[0m\u001b[0;34m\u001b[0m\u001b[0;34m\u001b[0m\u001b[0m\n\u001b[0m\u001b[1;32m     10\u001b[0m \u001b[0mprint\u001b[0m\u001b[0;34m(\u001b[0m\u001b[0mfibonacci\u001b[0m\u001b[0;34m(\u001b[0m\u001b[0mn\u001b[0m\u001b[0;34m)\u001b[0m\u001b[0;34m)\u001b[0m\u001b[0;34m\u001b[0m\u001b[0;34m\u001b[0m\u001b[0m\n",
      "\u001b[0;31mValueError\u001b[0m: invalid literal for int() with base 10: ''"
     ]
    }
   ],
   "source": [
    "def fibonacci(n):\n",
    "    if n == 0:\n",
    "        return 0 \n",
    "    elif n == 1:\n",
    "        return 1\n",
    "    else: \n",
    "        return fibonacci(n - 1) + fibonacci(n - 2)\n",
    "\n",
    "n = int(input())\n",
    "print(fibonacci(n))"
   ]
  },
  {
   "cell_type": "code",
   "execution_count": 24,
   "metadata": {},
   "outputs": [],
   "source": [
    "n = 10 # -> za masiva \n",
    "queries = [[2, 6, 8], [3, 5, 7], [1, 8, 1], [5, 9, 15]]\n",
    "\n"
   ]
  },
  {
   "source": [
    "[1, 2, 3, 4, 5, 6, 7, 8, 9, 10]\n",
    "[0, 0, 0, 0, 0, 0, 0, 0, 0, 0]"
   ],
   "cell_type": "code",
   "metadata": {},
   "execution_count": 25,
   "outputs": [
    {
     "output_type": "execute_result",
     "data": {
      "text/plain": [
       "[0, 0, 0, 0, 0, 0, 0, 0, 0, 0]"
      ]
     },
     "metadata": {},
     "execution_count": 25
    }
   ]
  },
  {
   "cell_type": "code",
   "execution_count": 26,
   "metadata": {},
   "outputs": [
    {
     "output_type": "stream",
     "name": "stdout",
     "text": [
      "[2, 6, 8]\n[3, 5, 7]\n[1, 8, 1]\n[5, 9, 15]\n"
     ]
    }
   ],
   "source": [
    "for element in queries:\n",
    "    print(element)"
   ]
  },
  {
   "cell_type": "code",
   "execution_count": 27,
   "metadata": {},
   "outputs": [
    {
     "output_type": "error",
     "ename": "NameError",
     "evalue": "name 'my_list' is not defined",
     "traceback": [
      "\u001b[0;31m---------------------------------------------------------------------------\u001b[0m",
      "\u001b[0;31mNameError\u001b[0m                                 Traceback (most recent call last)",
      "\u001b[0;32m<ipython-input-27-9af163499740>\u001b[0m in \u001b[0;36m<module>\u001b[0;34m\u001b[0m\n\u001b[0;32m----> 1\u001b[0;31m \u001b[0mmy_list\u001b[0m\u001b[0;34m\u001b[0m\u001b[0;34m\u001b[0m\u001b[0m\n\u001b[0m",
      "\u001b[0;31mNameError\u001b[0m: name 'my_list' is not defined"
     ]
    }
   ],
   "source": [
    "my_list"
   ]
  },
  {
   "cell_type": "code",
   "execution_count": 28,
   "metadata": {},
   "outputs": [
    {
     "output_type": "execute_result",
     "data": {
      "text/plain": [
       "31"
      ]
     },
     "metadata": {},
     "execution_count": 28
    }
   ],
   "source": [
    "my_list = [0] * n \n",
    "for element in queries:\n",
    "    for i in range(element[0]-1, element[1]):\n",
    "        my_list[i] = my_list[i] + element[2]\n",
    "max(my_list)"
   ]
  },
  {
   "cell_type": "code",
   "execution_count": 29,
   "metadata": {},
   "outputs": [
    {
     "output_type": "error",
     "ename": "SyntaxError",
     "evalue": "invalid syntax (<ipython-input-29-1a6ce75e82ea>, line 7)",
     "traceback": [
      "\u001b[0;36m  File \u001b[0;32m\"<ipython-input-29-1a6ce75e82ea>\"\u001b[0;36m, line \u001b[0;32m7\u001b[0m\n\u001b[0;31m    using namespace std;\u001b[0m\n\u001b[0m          ^\u001b[0m\n\u001b[0;31mSyntaxError\u001b[0m\u001b[0;31m:\u001b[0m invalid syntax\n"
     ]
    }
   ],
   "source": [
    "#include <cmath>\n",
    "#include <cstdio>\n",
    "#include <vector>\n",
    "#include <iostream>\n",
    "#include <algorithm>\n",
    "\n",
    "using namespace std;\n",
    "\n",
    "\n",
    "int main() {\n",
    "    long int N, K, p, q, sum, i, j, max = 0, x = 0;\n",
    "\n",
    "    cin >> N >> K;\n",
    "    long int *a = new long int[N+1]();\n",
    "\n",
    "    for(i = 0; i < K; i++) {\n",
    "        cin >> p >> q >> sum;\n",
    "        a[p] += sum;\n",
    "        if((q+1) <= N) a[q+1] -= sum;\n",
    "    }\n",
    "\n",
    "    for(i = 1; i <= N; i++) {\n",
    "       x = x + a[i];\n",
    "       if(max < x) max = x;\n",
    "    }\n",
    "\n",
    "    cout << max;\n",
    "    return 0;\n",
    "}"
   ]
  },
  {
   "cell_type": "code",
   "execution_count": 30,
   "metadata": {},
   "outputs": [],
   "source": [
    "def arrayManipulation(n, queries):\n",
    "    for q in queries:\n",
    "        q[0] -= 1\n",
    "        q[1] -= 1\n",
    "    \n",
    "    queries = sorted(queries)\n",
    "    i = 0\n",
    "    max_sum = 0\n",
    "    cur_sum = 0\n",
    "    ending = defaultdict(int)\n",
    "    for f, s, k in queries:\n",
    "        while i < f:\n",
    "            cur_sum -= ending.get(i, 0)\n",
    "            i += 1\n",
    "        ending[s] += k\n",
    "        cur_sum += k\n",
    "        max_sum = max([cur_sum, max_sum])\n",
    "    return max_sum"
   ]
  },
  {
   "cell_type": "code",
   "execution_count": 31,
   "metadata": {},
   "outputs": [],
   "source": [
    "x = 123"
   ]
  },
  {
   "cell_type": "code",
   "execution_count": 32,
   "metadata": {},
   "outputs": [
    {
     "output_type": "execute_result",
     "data": {
      "text/plain": [
       "3"
      ]
     },
     "metadata": {},
     "execution_count": 32
    }
   ],
   "source": [
    "123 % 10"
   ]
  },
  {
   "cell_type": "code",
   "execution_count": 33,
   "metadata": {},
   "outputs": [
    {
     "output_type": "execute_result",
     "data": {
      "text/plain": [
       "12"
      ]
     },
     "metadata": {},
     "execution_count": 33
    }
   ],
   "source": [
    "123 // 10 "
   ]
  },
  {
   "cell_type": "code",
   "execution_count": 34,
   "metadata": {},
   "outputs": [
    {
     "output_type": "execute_result",
     "data": {
      "text/plain": [
       "int"
      ]
     },
     "metadata": {},
     "execution_count": 34
    }
   ],
   "source": [
    "type(x)"
   ]
  },
  {
   "cell_type": "code",
   "execution_count": 35,
   "metadata": {},
   "outputs": [
    {
     "output_type": "execute_result",
     "data": {
      "text/plain": [
       "12"
      ]
     },
     "metadata": {},
     "execution_count": 35
    }
   ],
   "source": [
    "120 // 10 "
   ]
  },
  {
   "cell_type": "code",
   "execution_count": 36,
   "metadata": {},
   "outputs": [
    {
     "output_type": "execute_result",
     "data": {
      "text/plain": [
       "1"
      ]
     },
     "metadata": {},
     "execution_count": 36
    }
   ],
   "source": [
    "12 // 10"
   ]
  },
  {
   "cell_type": "code",
   "execution_count": 37,
   "metadata": {},
   "outputs": [
    {
     "output_type": "execute_result",
     "data": {
      "text/plain": [
       "0"
      ]
     },
     "metadata": {},
     "execution_count": 37
    }
   ],
   "source": [
    "1 // 10"
   ]
  },
  {
   "cell_type": "code",
   "execution_count": 38,
   "metadata": {},
   "outputs": [
    {
     "output_type": "execute_result",
     "data": {
      "text/plain": [
       "2"
      ]
     },
     "metadata": {},
     "execution_count": 38
    }
   ],
   "source": [
    "312 % 10 "
   ]
  },
  {
   "cell_type": "code",
   "execution_count": 39,
   "metadata": {},
   "outputs": [
    {
     "output_type": "error",
     "ename": "SyntaxError",
     "evalue": "'return' outside function (<ipython-input-39-82c2242c8460>, line 21)",
     "traceback": [
      "\u001b[0;36m  File \u001b[0;32m\"<ipython-input-39-82c2242c8460>\"\u001b[0;36m, line \u001b[0;32m21\u001b[0m\n\u001b[0;31m    return new_x\u001b[0m\n\u001b[0m    ^\u001b[0m\n\u001b[0;31mSyntaxError\u001b[0m\u001b[0;31m:\u001b[0m 'return' outside function\n"
     ]
    }
   ],
   "source": [
    "x = -123\n",
    "\n",
    "x_copy1 = x \n",
    "x_copy2 = x\n",
    "my_count = 0 \n",
    "new_x = 0 \n",
    "\n",
    "if x < 0:\n",
    "    x_copy = abs(x)\n",
    "    x = abs(x)\n",
    "\n",
    "while x_copy != 0:\n",
    "    x_copy = x_copy // 10 \n",
    "    my_count += 1 \n",
    "\n",
    "for i in range(1, my_count+1):\n",
    "    new_x = new_x + (x % 10) * pow(10, my_count - i)\n",
    "    x = x // 10\n",
    "\n",
    "if x_copy2 >= 0:\n",
    "    return new_x\n",
    "else: \n",
    "    return - new_x"
   ]
  },
  {
   "cell_type": "code",
   "execution_count": 40,
   "metadata": {},
   "outputs": [
    {
     "output_type": "execute_result",
     "data": {
      "text/plain": [
       "321"
      ]
     },
     "metadata": {},
     "execution_count": 40
    }
   ],
   "source": [
    "x = 3212\n",
    "\n",
    "x // 10 "
   ]
  },
  {
   "cell_type": "code",
   "execution_count": 41,
   "metadata": {},
   "outputs": [
    {
     "output_type": "error",
     "ename": "Error",
     "evalue": "Pip module Unable to parse debugpy output, please log an issue with https://github.com/microsoft/vscode-jupyter is required for debugging cells. You will need to install it to debug cells.",
     "traceback": [
      "Error: Pip module Unable to parse debugpy output, please log an issue with https://github.com/microsoft/vscode-jupyter is required for debugging cells. You will need to install it to debug cells.",
      "at b.parseConnectInfo (/Users/joanalevtcheva/.vscode/extensions/ms-toolsai.jupyter-2020.12.414227025/out/client/extension.js:49:486311)",
      "at b.connectToLocal (/Users/joanalevtcheva/.vscode/extensions/ms-toolsai.jupyter-2020.12.414227025/out/client/extension.js:49:486838)",
      "at async b.connect (/Users/joanalevtcheva/.vscode/extensions/ms-toolsai.jupyter-2020.12.414227025/out/client/extension.js:49:484715)",
      "at async b.startDebugSession (/Users/joanalevtcheva/.vscode/extensions/ms-toolsai.jupyter-2020.12.414227025/out/client/extension.js:49:483862)",
      "at async f.submitCode (/Users/joanalevtcheva/.vscode/extensions/ms-toolsai.jupyter-2020.12.414227025/out/client/extension.js:32:585464)",
      "at async f.handleRunByLine (/Users/joanalevtcheva/.vscode/extensions/ms-toolsai.jupyter-2020.12.414227025/out/client/extension.js:9:173871)"
     ]
    }
   ],
   "source": [
    "x = 1234 \n",
    "\n",
    "while x != 0:\n",
    "    pass"
   ]
  },
  {
   "cell_type": "code",
   "execution_count": 42,
   "metadata": {},
   "outputs": [
    {
     "output_type": "error",
     "ename": "SyntaxError",
     "evalue": "'return' outside function (<ipython-input-42-892567e73757>, line 4)",
     "traceback": [
      "\u001b[0;36m  File \u001b[0;32m\"<ipython-input-42-892567e73757>\"\u001b[0;36m, line \u001b[0;32m4\u001b[0m\n\u001b[0;31m    return my\u001b[0m\n\u001b[0m    ^\u001b[0m\n\u001b[0;31mSyntaxError\u001b[0m\u001b[0;31m:\u001b[0m 'return' outside function\n"
     ]
    }
   ],
   "source": [
    "my = [0, 0]\n",
    "if (my[0] == 0) and (len(my) > 0):\n",
    "    my[-1] = 1\n",
    "    return my \n",
    "else:\n",
    "    number = 0 \n",
    "    for el in enumerate(my):\n",
    "        number = number + el[1] * pow(10, len(my)-el[0]-1)\n",
    "    number = number + 1\n",
    "    return [int(x) for x in str(number)]"
   ]
  },
  {
   "source": [
    "import math \n",
    "x = 8 \n",
    "math.trunc(x**0.5)"
   ],
   "cell_type": "code",
   "metadata": {},
   "execution_count": 43,
   "outputs": [
    {
     "output_type": "execute_result",
     "data": {
      "text/plain": [
       "2"
      ]
     },
     "metadata": {},
     "execution_count": 43
    }
   ]
  },
  {
   "cell_type": "code",
   "execution_count": 44,
   "metadata": {},
   "outputs": [
    {
     "output_type": "error",
     "ename": "TypeError",
     "evalue": "sequence item 0: expected str instance, int found",
     "traceback": [
      "\u001b[0;31m---------------------------------------------------------------------------\u001b[0m",
      "\u001b[0;31mTypeError\u001b[0m                                 Traceback (most recent call last)",
      "\u001b[0;32m<ipython-input-44-4b3af7ac7a4f>\u001b[0m in \u001b[0;36m<module>\u001b[0;34m\u001b[0m\n\u001b[1;32m      1\u001b[0m \u001b[0mmy\u001b[0m \u001b[0;34m=\u001b[0m \u001b[0;34m[\u001b[0m\u001b[0;36m1\u001b[0m\u001b[0;34m,\u001b[0m \u001b[0;36m2\u001b[0m\u001b[0;34m]\u001b[0m\u001b[0;34m\u001b[0m\u001b[0;34m\u001b[0m\u001b[0m\n\u001b[0;32m----> 2\u001b[0;31m \u001b[0mha\u001b[0m \u001b[0;34m=\u001b[0m \u001b[0mint\u001b[0m\u001b[0;34m(\u001b[0m\u001b[0;34m''\u001b[0m\u001b[0;34m.\u001b[0m\u001b[0mjoin\u001b[0m\u001b[0;34m(\u001b[0m\u001b[0mmy\u001b[0m\u001b[0;34m)\u001b[0m\u001b[0;34m)\u001b[0m\u001b[0;34m\u001b[0m\u001b[0;34m\u001b[0m\u001b[0m\n\u001b[0m\u001b[1;32m      3\u001b[0m \u001b[0mha\u001b[0m\u001b[0;34m\u001b[0m\u001b[0;34m\u001b[0m\u001b[0m\n",
      "\u001b[0;31mTypeError\u001b[0m: sequence item 0: expected str instance, int found"
     ]
    }
   ],
   "source": [
    "my = [1, 2]\n",
    "ha = int(''.join(my))\n",
    "ha\n"
   ]
  },
  {
   "source": [
    "my"
   ],
   "cell_type": "code",
   "metadata": {},
   "execution_count": 45,
   "outputs": [
    {
     "output_type": "execute_result",
     "data": {
      "text/plain": [
       "[1, 2]"
      ]
     },
     "metadata": {},
     "execution_count": 45
    }
   ]
  },
  {
   "cell_type": "code",
   "execution_count": 46,
   "metadata": {},
   "outputs": [
    {
     "output_type": "execute_result",
     "data": {
      "text/plain": [
       "'[1, 2]'"
      ]
     },
     "metadata": {},
     "execution_count": 46
    }
   ],
   "source": [
    "str(my)"
   ]
  },
  {
   "cell_type": "code",
   "execution_count": 47,
   "metadata": {},
   "outputs": [],
   "source": [
    "x = 8"
   ]
  },
  {
   "cell_type": "code",
   "execution_count": 48,
   "metadata": {},
   "outputs": [
    {
     "output_type": "execute_result",
     "data": {
      "text/plain": [
       "2"
      ]
     },
     "metadata": {},
     "execution_count": 48
    }
   ],
   "source": [
    "int(x**0.5)"
   ]
  },
  {
   "cell_type": "code",
   "execution_count": 49,
   "metadata": {},
   "outputs": [
    {
     "output_type": "error",
     "ename": "SyntaxError",
     "evalue": "'return' outside function (<ipython-input-49-aaee0cf3c65d>, line 8)",
     "traceback": [
      "\u001b[0;36m  File \u001b[0;32m\"<ipython-input-49-aaee0cf3c65d>\"\u001b[0;36m, line \u001b[0;32m8\u001b[0m\n\u001b[0;31m    return sum(my_list)\u001b[0m\n\u001b[0m    ^\u001b[0m\n\u001b[0;31mSyntaxError\u001b[0m\u001b[0;31m:\u001b[0m 'return' outside function\n"
     ]
    }
   ],
   "source": [
    "from collections import Counter\n",
    "hey = [1, 2, 4, 2]\n",
    "c = Counter(hey)\n",
    "my_list = []\n",
    "for el in c.keys():\n",
    "    if c[el] == 1:\n",
    "        my_list.append(el)\n",
    "return sum(my_list)"
   ]
  },
  {
   "cell_type": "code",
   "execution_count": 50,
   "metadata": {},
   "outputs": [
    {
     "output_type": "execute_result",
     "data": {
      "text/plain": [
       "5"
      ]
     },
     "metadata": {},
     "execution_count": 50
    }
   ],
   "source": [
    "s = \"Hello World\"\n",
    "len(s.split()[-1])"
   ]
  },
  {
   "cell_type": "code",
   "execution_count": 51,
   "metadata": {},
   "outputs": [
    {
     "output_type": "execute_result",
     "data": {
      "text/plain": [
       "['a']"
      ]
     },
     "metadata": {},
     "execution_count": 51
    }
   ],
   "source": [
    "v = 'a'\n",
    "v.split()"
   ]
  },
  {
   "cell_type": "code",
   "execution_count": 52,
   "metadata": {},
   "outputs": [
    {
     "output_type": "stream",
     "name": "stdout",
     "text": [
      "not\n"
     ]
    }
   ],
   "source": [
    "v = ''\n",
    "if v:\n",
    "    print('yup')\n",
    "else: \n",
    "    print('not')"
   ]
  },
  {
   "cell_type": "code",
   "execution_count": 53,
   "metadata": {},
   "outputs": [
    {
     "output_type": "execute_result",
     "data": {
      "text/plain": [
       "''"
      ]
     },
     "metadata": {},
     "execution_count": 53
    }
   ],
   "source": [
    "v = '      '\n",
    "v.strip()"
   ]
  },
  {
   "cell_type": "code",
   "execution_count": 63,
   "metadata": {},
   "outputs": [
    {
     "output_type": "execute_result",
     "data": {
      "text/plain": [
       "1"
      ]
     },
     "metadata": {},
     "execution_count": 63
    }
   ],
   "source": [
    "number = 12\n",
    "prime_numbers = [2, 3, 5]\n",
    "for prime in prime_numbers:\n",
    "    while number % prime == 0:\n",
    "        number = number // prime\n",
    "number"
   ]
  },
  {
   "cell_type": "code",
   "execution_count": 64,
   "metadata": {},
   "outputs": [],
   "source": [
    "num = 12\n",
    "prime_numbers = [2, 3, 5]\n",
    "\n",
    "class Solution:\n",
    "    def isUgly(self, num: int) -> bool:\n",
    "        prime_numbers = [2, 3, 5]\n",
    "        if num <= 0: \n",
    "            return False\n",
    "        for prime in prime_numbers:\n",
    "            while num % prime == 0:\n",
    "                num = num // prime\n",
    "        return num == 1"
   ]
  },
  {
   "cell_type": "code",
   "execution_count": 65,
   "metadata": {},
   "outputs": [
    {
     "output_type": "execute_result",
     "data": {
      "text/plain": [
       "[2, 2, 3]"
      ]
     },
     "metadata": {},
     "execution_count": 65
    }
   ],
   "source": [
    "num = 12\n",
    "prime_factors = []\n",
    "for i in range(2, int(num ** 0.5) + 1):\n",
    "    while num % i == 0:\n",
    "        prime_factors.append(i)\n",
    "        num //= i\n",
    "if num > 1:\n",
    "    prime_factors.append(num)\n",
    "prime_factors"
   ]
  },
  {
   "cell_type": "code",
   "execution_count": 66,
   "metadata": {},
   "outputs": [
    {
     "output_type": "execute_result",
     "data": {
      "text/plain": [
       "[[], [1], [2], [1, 2], [3], [1, 3], [2, 3], [1, 2, 3]]"
      ]
     },
     "metadata": {},
     "execution_count": 66
    }
   ],
   "source": [
    "nums = [1 ,2, 3]\n",
    "res = [[]]\n",
    "for el in nums:\n",
    "    res += [j + [el] for j in res]\n",
    "res"
   ]
  },
  {
   "cell_type": "code",
   "execution_count": 67,
   "metadata": {},
   "outputs": [
    {
     "output_type": "stream",
     "name": "stdout",
     "text": [
      "hell yeah\n"
     ]
    }
   ],
   "source": [
    "s = 'abcabcababcc'\n",
    "if 'abc' in s:\n",
    "    print('hell yeah')"
   ]
  },
  {
   "cell_type": "code",
   "execution_count": 68,
   "metadata": {},
   "outputs": [
    {
     "output_type": "error",
     "ename": "SyntaxError",
     "evalue": "unexpected EOF while parsing (<ipython-input-68-b698ccd9dd0e>, line 3)",
     "traceback": [
      "\u001b[0;36m  File \u001b[0;32m\"<ipython-input-68-b698ccd9dd0e>\"\u001b[0;36m, line \u001b[0;32m3\u001b[0m\n\u001b[0;31m    \u001b[0m\n\u001b[0m    ^\u001b[0m\n\u001b[0;31mSyntaxError\u001b[0m\u001b[0;31m:\u001b[0m unexpected EOF while parsing\n"
     ]
    }
   ],
   "source": [
    "for i in range(0, len(s)):\n",
    "    if s[i] == 'a' and s[i+1] == 'b' and s[i+2] == 'c':\n",
    "        "
   ]
  },
  {
   "cell_type": "code",
   "execution_count": 69,
   "metadata": {},
   "outputs": [
    {
     "output_type": "execute_result",
     "data": {
      "text/plain": [
       "''"
      ]
     },
     "metadata": {},
     "execution_count": 69
    }
   ],
   "source": [
    "s = 'aabcbc'\n",
    "s = s.replace('abc', '')\n",
    "s\n",
    "s.replace('abc', '')"
   ]
  },
  {
   "cell_type": "code",
   "execution_count": 70,
   "metadata": {
    "tags": []
   },
   "outputs": [
    {
     "output_type": "stream",
     "name": "stdout",
     "text": [
      "True\n"
     ]
    }
   ],
   "source": [
    "s = 'abcabc'\n",
    "while len(s) != 0:\n",
    "    s = s.replace('abc', '')\n",
    "    if (len(s) != 0) and (len(s) == len(s.replace('abc', ''))):\n",
    "        print(False)\n",
    "        break\n",
    "print(True)"
   ]
  },
  {
   "cell_type": "code",
   "execution_count": 71,
   "metadata": {},
   "outputs": [
    {
     "output_type": "execute_result",
     "data": {
      "text/plain": [
       "''"
      ]
     },
     "metadata": {},
     "execution_count": 71
    }
   ],
   "source": [
    "s = 'abcabc'\n",
    "s.replace('abc', '')"
   ]
  },
  {
   "cell_type": "code",
   "execution_count": 72,
   "metadata": {},
   "outputs": [
    {
     "output_type": "execute_result",
     "data": {
      "text/plain": [
       "3365"
      ]
     },
     "metadata": {},
     "execution_count": 72
    }
   ],
   "source": [
    "nums = [183,219,57,193,94,233,202,154,65,240,97,234,100,249,186,66,90,238,168,128,177,235,50,81,185,165,217,207,88,80,112,78,135,62,228,247,211]\n",
    "def rob(nums):\n",
    "    if len(nums) == 0:\n",
    "        return 0\n",
    "    elif len(nums) == 1:\n",
    "        return nums[0]\n",
    "    else:\n",
    "        return max(rob(nums[:-1]), nums[-1] + rob(nums[:-2]))\n",
    "rob(nums)"
   ]
  },
  {
   "cell_type": "code",
   "execution_count": 73,
   "metadata": {},
   "outputs": [
    {
     "output_type": "error",
     "ename": "NameError",
     "evalue": "name 'List' is not defined",
     "traceback": [
      "\u001b[0;31m---------------------------------------------------------------------------\u001b[0m",
      "\u001b[0;31mNameError\u001b[0m                                 Traceback (most recent call last)",
      "\u001b[0;32m<ipython-input-73-93eca44d9a99>\u001b[0m in \u001b[0;36m<module>\u001b[0;34m\u001b[0m\n\u001b[0;32m----> 1\u001b[0;31m \u001b[0;32mclass\u001b[0m \u001b[0mSolution\u001b[0m\u001b[0;34m:\u001b[0m\u001b[0;34m\u001b[0m\u001b[0;34m\u001b[0m\u001b[0m\n\u001b[0m\u001b[1;32m      2\u001b[0m     \u001b[0;32mdef\u001b[0m \u001b[0mrob\u001b[0m\u001b[0;34m(\u001b[0m\u001b[0mself\u001b[0m\u001b[0;34m,\u001b[0m \u001b[0mnums\u001b[0m\u001b[0;34m:\u001b[0m \u001b[0mList\u001b[0m\u001b[0;34m[\u001b[0m\u001b[0mint\u001b[0m\u001b[0;34m]\u001b[0m\u001b[0;34m)\u001b[0m \u001b[0;34m->\u001b[0m \u001b[0mint\u001b[0m\u001b[0;34m:\u001b[0m\u001b[0;34m\u001b[0m\u001b[0;34m\u001b[0m\u001b[0m\n\u001b[1;32m      3\u001b[0m         \u001b[0;32mif\u001b[0m \u001b[0mlen\u001b[0m\u001b[0;34m(\u001b[0m\u001b[0mnums\u001b[0m\u001b[0;34m)\u001b[0m \u001b[0;34m==\u001b[0m \u001b[0;36m0\u001b[0m\u001b[0;34m:\u001b[0m\u001b[0;34m\u001b[0m\u001b[0;34m\u001b[0m\u001b[0m\n\u001b[1;32m      4\u001b[0m             \u001b[0;32mreturn\u001b[0m \u001b[0;36m0\u001b[0m\u001b[0;34m\u001b[0m\u001b[0;34m\u001b[0m\u001b[0m\n\u001b[1;32m      5\u001b[0m         \u001b[0;32melif\u001b[0m \u001b[0mlen\u001b[0m\u001b[0;34m(\u001b[0m\u001b[0mnums\u001b[0m\u001b[0;34m)\u001b[0m \u001b[0;34m==\u001b[0m \u001b[0;36m1\u001b[0m\u001b[0;34m:\u001b[0m\u001b[0;34m\u001b[0m\u001b[0;34m\u001b[0m\u001b[0m\n",
      "\u001b[0;32m<ipython-input-73-93eca44d9a99>\u001b[0m in \u001b[0;36mSolution\u001b[0;34m()\u001b[0m\n\u001b[1;32m      1\u001b[0m \u001b[0;32mclass\u001b[0m \u001b[0mSolution\u001b[0m\u001b[0;34m:\u001b[0m\u001b[0;34m\u001b[0m\u001b[0;34m\u001b[0m\u001b[0m\n\u001b[0;32m----> 2\u001b[0;31m     \u001b[0;32mdef\u001b[0m \u001b[0mrob\u001b[0m\u001b[0;34m(\u001b[0m\u001b[0mself\u001b[0m\u001b[0;34m,\u001b[0m \u001b[0mnums\u001b[0m\u001b[0;34m:\u001b[0m \u001b[0mList\u001b[0m\u001b[0;34m[\u001b[0m\u001b[0mint\u001b[0m\u001b[0;34m]\u001b[0m\u001b[0;34m)\u001b[0m \u001b[0;34m->\u001b[0m \u001b[0mint\u001b[0m\u001b[0;34m:\u001b[0m\u001b[0;34m\u001b[0m\u001b[0;34m\u001b[0m\u001b[0m\n\u001b[0m\u001b[1;32m      3\u001b[0m         \u001b[0;32mif\u001b[0m \u001b[0mlen\u001b[0m\u001b[0;34m(\u001b[0m\u001b[0mnums\u001b[0m\u001b[0;34m)\u001b[0m \u001b[0;34m==\u001b[0m \u001b[0;36m0\u001b[0m\u001b[0;34m:\u001b[0m\u001b[0;34m\u001b[0m\u001b[0;34m\u001b[0m\u001b[0m\n\u001b[1;32m      4\u001b[0m             \u001b[0;32mreturn\u001b[0m \u001b[0;36m0\u001b[0m\u001b[0;34m\u001b[0m\u001b[0;34m\u001b[0m\u001b[0m\n\u001b[1;32m      5\u001b[0m         \u001b[0;32melif\u001b[0m \u001b[0mlen\u001b[0m\u001b[0;34m(\u001b[0m\u001b[0mnums\u001b[0m\u001b[0;34m)\u001b[0m \u001b[0;34m==\u001b[0m \u001b[0;36m1\u001b[0m\u001b[0;34m:\u001b[0m\u001b[0;34m\u001b[0m\u001b[0;34m\u001b[0m\u001b[0m\n",
      "\u001b[0;31mNameError\u001b[0m: name 'List' is not defined"
     ]
    }
   ],
   "source": [
    "class Solution:\n",
    "    def rob(self, nums: List[int]) -> int:\n",
    "        if len(nums) == 0:\n",
    "            return 0\n",
    "        elif len(nums) == 1:\n",
    "            return nums[0]\n",
    "        else:\n",
    "            return max(self.rob(nums[:-1]), nums[-1] + self.rob(nums[:-2]))"
   ]
  },
  {
   "cell_type": "code",
   "execution_count": 74,
   "metadata": {},
   "outputs": [
    {
     "output_type": "error",
     "ename": "NameError",
     "evalue": "name 'List' is not defined",
     "traceback": [
      "\u001b[0;31m---------------------------------------------------------------------------\u001b[0m",
      "\u001b[0;31mNameError\u001b[0m                                 Traceback (most recent call last)",
      "\u001b[0;32m<ipython-input-74-2b03ae132d9e>\u001b[0m in \u001b[0;36m<module>\u001b[0;34m\u001b[0m\n\u001b[0;32m----> 1\u001b[0;31m \u001b[0;32mclass\u001b[0m \u001b[0mSolution\u001b[0m\u001b[0;34m:\u001b[0m\u001b[0;34m\u001b[0m\u001b[0;34m\u001b[0m\u001b[0m\n\u001b[0m\u001b[1;32m      2\u001b[0m     \u001b[0;32mdef\u001b[0m \u001b[0m__init__\u001b[0m\u001b[0;34m(\u001b[0m\u001b[0mself\u001b[0m\u001b[0;34m)\u001b[0m\u001b[0;34m:\u001b[0m\u001b[0;34m\u001b[0m\u001b[0;34m\u001b[0m\u001b[0m\n\u001b[1;32m      3\u001b[0m         \u001b[0mself\u001b[0m\u001b[0;34m.\u001b[0m\u001b[0mmemorised\u001b[0m \u001b[0;34m=\u001b[0m \u001b[0;32mNone\u001b[0m\u001b[0;34m\u001b[0m\u001b[0;34m\u001b[0m\u001b[0m\n\u001b[1;32m      4\u001b[0m \u001b[0;34m\u001b[0m\u001b[0m\n\u001b[1;32m      5\u001b[0m     \u001b[0;32mdef\u001b[0m \u001b[0mrob\u001b[0m\u001b[0;34m(\u001b[0m\u001b[0mself\u001b[0m\u001b[0;34m,\u001b[0m \u001b[0mnums\u001b[0m\u001b[0;34m:\u001b[0m \u001b[0mList\u001b[0m\u001b[0;34m[\u001b[0m\u001b[0mint\u001b[0m\u001b[0;34m]\u001b[0m\u001b[0;34m)\u001b[0m \u001b[0;34m->\u001b[0m \u001b[0mint\u001b[0m\u001b[0;34m:\u001b[0m\u001b[0;34m\u001b[0m\u001b[0;34m\u001b[0m\u001b[0m\n",
      "\u001b[0;32m<ipython-input-74-2b03ae132d9e>\u001b[0m in \u001b[0;36mSolution\u001b[0;34m()\u001b[0m\n\u001b[1;32m      3\u001b[0m         \u001b[0mself\u001b[0m\u001b[0;34m.\u001b[0m\u001b[0mmemorised\u001b[0m \u001b[0;34m=\u001b[0m \u001b[0;32mNone\u001b[0m\u001b[0;34m\u001b[0m\u001b[0;34m\u001b[0m\u001b[0m\n\u001b[1;32m      4\u001b[0m \u001b[0;34m\u001b[0m\u001b[0m\n\u001b[0;32m----> 5\u001b[0;31m     \u001b[0;32mdef\u001b[0m \u001b[0mrob\u001b[0m\u001b[0;34m(\u001b[0m\u001b[0mself\u001b[0m\u001b[0;34m,\u001b[0m \u001b[0mnums\u001b[0m\u001b[0;34m:\u001b[0m \u001b[0mList\u001b[0m\u001b[0;34m[\u001b[0m\u001b[0mint\u001b[0m\u001b[0;34m]\u001b[0m\u001b[0;34m)\u001b[0m \u001b[0;34m->\u001b[0m \u001b[0mint\u001b[0m\u001b[0;34m:\u001b[0m\u001b[0;34m\u001b[0m\u001b[0;34m\u001b[0m\u001b[0m\n\u001b[0m\u001b[1;32m      6\u001b[0m         \u001b[0;32mif\u001b[0m \u001b[0mself\u001b[0m\u001b[0;34m.\u001b[0m\u001b[0mmemorised\u001b[0m \u001b[0;32mis\u001b[0m \u001b[0;32mNone\u001b[0m\u001b[0;34m:\u001b[0m\u001b[0;34m\u001b[0m\u001b[0;34m\u001b[0m\u001b[0m\n\u001b[1;32m      7\u001b[0m             \u001b[0mself\u001b[0m\u001b[0;34m.\u001b[0m\u001b[0mmemorised\u001b[0m \u001b[0;34m=\u001b[0m \u001b[0;34m[\u001b[0m\u001b[0;34m-\u001b[0m\u001b[0;36m1\u001b[0m\u001b[0;34m]\u001b[0m \u001b[0;34m*\u001b[0m \u001b[0;34m(\u001b[0m\u001b[0mlen\u001b[0m\u001b[0;34m(\u001b[0m\u001b[0mnums\u001b[0m\u001b[0;34m)\u001b[0m \u001b[0;34m+\u001b[0m \u001b[0;36m1\u001b[0m\u001b[0;34m)\u001b[0m\u001b[0;34m\u001b[0m\u001b[0;34m\u001b[0m\u001b[0m\n",
      "\u001b[0;31mNameError\u001b[0m: name 'List' is not defined"
     ]
    }
   ],
   "source": [
    "class Solution:\n",
    "    def __init__(self):\n",
    "        self.memorised = None \n",
    "    \n",
    "    def rob(self, nums: List[int]) -> int:\n",
    "        if self.memorised is None:\n",
    "            self.memorised = [-1] * (len(nums) + 1) \n",
    "        \n",
    "        if len(nums) == 0:\n",
    "            return 0\n",
    "        elif len(nums) == 1:\n",
    "            return nums[0]\n",
    "        \n",
    "        if self.memorised[len(nums)] != -1:\n",
    "            return self.memorised[len(nums)]\n",
    "        \n",
    "        res = max(self.rob(nums[:-1]), nums[-1] + self.rob(nums[:-2]))\n",
    "        self.memorised[len(nums)] = res \n",
    "        return res "
   ]
  },
  {
   "cell_type": "code",
   "execution_count": 75,
   "metadata": {},
   "outputs": [],
   "source": [
    "matrix = [[1,2,3,4,5], [6,7,8,9,10], [11,12,13,14,15], [16,17,18,19,20], [21,22,23,24,25]]\n",
    "#Output: [1,2,3,6,9,8,7,4,5]\n",
    "rows = len(matrix)\n",
    "cols = len(matrix[0])\n",
    "the_list = []\n",
    "\n",
    "for j in range(0, cols): # + 1 i na dwete (1, cols+1)  -> ok \n",
    "    the_list.append(matrix[0][j]) # +1 \n",
    "    matrix[0][j] = '*' # +1 \n",
    "    # left index from 0 \n",
    "\n",
    "for i in range(1, rows): #(2, rows+1) toest +1 i na dwete -> ok \n",
    "    the_list.append(matrix[i][cols-1]) # + 1 za cols \n",
    "    matrix[i][cols-1] = '*' # + 1 za cols \n",
    "    # right index from cols-1\n",
    "\n",
    "for i in range(cols-2, -1, -1): # + 1 i za cols-2 i za -1 pyrwoto \n",
    "    the_list.append(matrix[rows-1][i]) # +1 za rows\n",
    "    matrix[rows-1][i] = '*' # +1 za rows \n",
    "    # left index from rows-1\n",
    "\n",
    "for i in range(rows-2, 0, -1): # +1 i za dwete \n",
    "    the_list.append(matrix[i][0]) # + 1\n",
    "    matrix[i][0] = '*' # +1\n",
    "    #right index from 0 \n",
    "\n",
    "\n",
    "rows = rows - 2\n",
    "cols = cols - 2"
   ]
  },
  {
   "cell_type": "code",
   "execution_count": 76,
   "metadata": {},
   "outputs": [
    {
     "output_type": "stream",
     "name": "stdout",
     "text": [
      "[1, 2, 3, 4, 7, 11, '*', 10, 9, 5, 6, '*', 8, '*']\n"
     ]
    }
   ],
   "source": [
    "#matrix = [[1,2,3,4,5], [6,7,8,9,10], [11,12,13,14,15], [16,17,18,19,20], [21,22,23,24,25]]\n",
    "matrix = [[1,2,3,4],[5,6,7,8],[9,10,11,12]]\n",
    "\n",
    "rows = len(matrix)\n",
    "cols = len(matrix[0])\n",
    "the_list = []\n",
    "\n",
    "left_index_0 = 0 \n",
    "left_index_1 = 1\n",
    "\n",
    "right_index_col = cols\n",
    "right_index_col_2 = cols-2\n",
    "\n",
    "right_index_row = rows\n",
    "right_index_row_2 = rows-2\n",
    "\n",
    "\n",
    "middle_index = -1 \n",
    "\n",
    "while (rows >= -1) and (cols >= -1):\n",
    "    for j in range(left_index_0, right_index_col):\n",
    "        the_list.append(matrix[left_index_0][j])\n",
    "        matrix[left_index_0][j] = '*'\n",
    "\n",
    "    for i in range(left_index_1, right_index_row): \n",
    "        the_list.append(matrix[i][right_index_row-1])\n",
    "        matrix[i][right_index_row-1] = '*'\n",
    "\n",
    "    for i in range(right_index_col_2, middle_index, -1): \n",
    "        the_list.append(matrix[right_index_row-1][i])\n",
    "        matrix[right_index_row-1][i] = '*' \n",
    "\n",
    "    for i in range(right_index_row_2, left_index_0, -1): \n",
    "        the_list.append(matrix[i][left_index_0]) \n",
    "        matrix[i][left_index_0] = '*'\n",
    "\n",
    "\n",
    "    left_index_0 += 1 \n",
    "    left_index_1 += 1 \n",
    "    middle_index += 1\n",
    "\n",
    "    rows -= 2\n",
    "    cols -= 2\n",
    "    right_index_col = cols + 2\n",
    "    right_index_row = rows + 1\n",
    "\n",
    "    right_index_col_2 = cols - 1\n",
    "    right_index_row_2 = rows - 1\n",
    "\n",
    "\n",
    "print(the_list)"
   ]
  },
  {
   "cell_type": "code",
   "execution_count": 77,
   "metadata": {},
   "outputs": [
    {
     "output_type": "execute_result",
     "data": {
      "text/plain": [
       "[21, 22, 23, 24, 25]"
      ]
     },
     "metadata": {},
     "execution_count": 77
    }
   ],
   "source": [
    "[1, 2, 3, 4, 5]\n",
    "[6, 7, 8, 9, 10]\n",
    "[11,12,13,14,15]\n",
    "[16,17,18,19,20]\n",
    "[21,22,23,24,25]"
   ]
  },
  {
   "cell_type": "code",
   "execution_count": 78,
   "metadata": {},
   "outputs": [
    {
     "output_type": "execute_result",
     "data": {
      "text/plain": [
       "[9, 10, 11, 12]"
      ]
     },
     "metadata": {},
     "execution_count": 78
    }
   ],
   "source": [
    "[1, 2, 3, 4 ]\n",
    "[5, 6, 7, 8 ]\n",
    "[9, 10,11,12]\n"
   ]
  },
  {
   "cell_type": "code",
   "execution_count": 79,
   "metadata": {},
   "outputs": [
    {
     "output_type": "error",
     "ename": "NameError",
     "evalue": "name 'List' is not defined",
     "traceback": [
      "\u001b[0;31m---------------------------------------------------------------------------\u001b[0m",
      "\u001b[0;31mNameError\u001b[0m                                 Traceback (most recent call last)",
      "\u001b[0;32m<ipython-input-79-736fdb292ea2>\u001b[0m in \u001b[0;36m<module>\u001b[0;34m\u001b[0m\n\u001b[0;32m----> 1\u001b[0;31m \u001b[0;32mclass\u001b[0m \u001b[0mSolution\u001b[0m\u001b[0;34m:\u001b[0m\u001b[0;34m\u001b[0m\u001b[0;34m\u001b[0m\u001b[0m\n\u001b[0m\u001b[1;32m      2\u001b[0m \u001b[0;34m\u001b[0m\u001b[0m\n\u001b[1;32m      3\u001b[0m     \u001b[0;32mdef\u001b[0m \u001b[0mspiral\u001b[0m\u001b[0;34m(\u001b[0m\u001b[0mself\u001b[0m\u001b[0;34m,\u001b[0m \u001b[0mmatrix\u001b[0m\u001b[0;34m,\u001b[0m \u001b[0mc_min\u001b[0m\u001b[0;34m,\u001b[0m \u001b[0mc_max\u001b[0m\u001b[0;34m)\u001b[0m\u001b[0;34m:\u001b[0m\u001b[0;34m\u001b[0m\u001b[0;34m\u001b[0m\u001b[0m\n\u001b[1;32m      4\u001b[0m         \u001b[0;32mif\u001b[0m \u001b[0mlen\u001b[0m\u001b[0;34m(\u001b[0m\u001b[0mmatrix\u001b[0m\u001b[0;34m)\u001b[0m \u001b[0;34m==\u001b[0m \u001b[0;36m0\u001b[0m \u001b[0;32mor\u001b[0m \u001b[0mc_min\u001b[0m \u001b[0;34m>=\u001b[0m \u001b[0mc_max\u001b[0m\u001b[0;34m:\u001b[0m\u001b[0;34m\u001b[0m\u001b[0;34m\u001b[0m\u001b[0m\n\u001b[1;32m      5\u001b[0m             \u001b[0;32mreturn\u001b[0m \u001b[0;34m[\u001b[0m\u001b[0;34m]\u001b[0m\u001b[0;34m\u001b[0m\u001b[0;34m\u001b[0m\u001b[0m\n",
      "\u001b[0;32m<ipython-input-79-736fdb292ea2>\u001b[0m in \u001b[0;36mSolution\u001b[0;34m()\u001b[0m\n\u001b[1;32m     16\u001b[0m         \u001b[0;32mreturn\u001b[0m \u001b[0mresult\u001b[0m\u001b[0;34m\u001b[0m\u001b[0;34m\u001b[0m\u001b[0m\n\u001b[1;32m     17\u001b[0m \u001b[0;34m\u001b[0m\u001b[0m\n\u001b[0;32m---> 18\u001b[0;31m     \u001b[0;32mdef\u001b[0m \u001b[0mspiralOrder\u001b[0m\u001b[0;34m(\u001b[0m\u001b[0mself\u001b[0m\u001b[0;34m,\u001b[0m \u001b[0mmatrix\u001b[0m\u001b[0;34m:\u001b[0m \u001b[0mList\u001b[0m\u001b[0;34m[\u001b[0m\u001b[0mList\u001b[0m\u001b[0;34m[\u001b[0m\u001b[0mint\u001b[0m\u001b[0;34m]\u001b[0m\u001b[0;34m]\u001b[0m\u001b[0;34m)\u001b[0m \u001b[0;34m->\u001b[0m \u001b[0mList\u001b[0m\u001b[0;34m[\u001b[0m\u001b[0mint\u001b[0m\u001b[0;34m]\u001b[0m\u001b[0;34m:\u001b[0m\u001b[0;34m\u001b[0m\u001b[0;34m\u001b[0m\u001b[0m\n\u001b[0m\u001b[1;32m     19\u001b[0m         \u001b[0;32mif\u001b[0m \u001b[0;32mnot\u001b[0m \u001b[0mlen\u001b[0m\u001b[0;34m(\u001b[0m\u001b[0mmatrix\u001b[0m\u001b[0;34m)\u001b[0m\u001b[0;34m:\u001b[0m\u001b[0;34m\u001b[0m\u001b[0;34m\u001b[0m\u001b[0m\n\u001b[1;32m     20\u001b[0m             \u001b[0;32mreturn\u001b[0m \u001b[0;34m[\u001b[0m\u001b[0;34m]\u001b[0m\u001b[0;34m\u001b[0m\u001b[0;34m\u001b[0m\u001b[0m\n",
      "\u001b[0;31mNameError\u001b[0m: name 'List' is not defined"
     ]
    }
   ],
   "source": [
    "class Solution:\n",
    "\n",
    "    def spiral(self, matrix, c_min, c_max):\n",
    "        if len(matrix) == 0 or c_min >= c_max:\n",
    "            return []\n",
    "        if len(matrix) == 1:\n",
    "            return matrix[0][c_min:c_max]\n",
    "        if c_max - c_min == 1:\n",
    "            return [row[c_min] for row in matrix]\n",
    "        result = []\n",
    "        result.extend(matrix[0][c_min:c_max])\n",
    "        result.extend(row[c_max-1] for row in matrix[1:-1])\n",
    "        result.extend(matrix[-1][c_min:c_max][::-1])\n",
    "        result.extend([row[c_min] for row in matrix[1:-1]][::-1])\n",
    "        result.extend(self.spiral(matrix[1:-1], c_min + 1, c_max - 1))\n",
    "        return result\n",
    "    \n",
    "    def spiralOrder(self, matrix: List[List[int]]) -> List[int]:\n",
    "        if not len(matrix):\n",
    "            return []\n",
    "        return self.spiral(matrix, 0, len(matrix[0]))"
   ]
  },
  {
   "cell_type": "code",
   "execution_count": 80,
   "metadata": {},
   "outputs": [
    {
     "output_type": "error",
     "ename": "NameError",
     "evalue": "name 'List' is not defined",
     "traceback": [
      "\u001b[0;31m---------------------------------------------------------------------------\u001b[0m",
      "\u001b[0;31mNameError\u001b[0m                                 Traceback (most recent call last)",
      "\u001b[0;32m<ipython-input-80-ad495bc0e813>\u001b[0m in \u001b[0;36m<module>\u001b[0;34m\u001b[0m\n\u001b[0;32m----> 1\u001b[0;31m \u001b[0;32mclass\u001b[0m \u001b[0mSolution\u001b[0m\u001b[0;34m:\u001b[0m\u001b[0;34m\u001b[0m\u001b[0;34m\u001b[0m\u001b[0m\n\u001b[0m\u001b[1;32m      2\u001b[0m     \u001b[0;32mdef\u001b[0m \u001b[0mspiralOrder\u001b[0m\u001b[0;34m(\u001b[0m\u001b[0mself\u001b[0m\u001b[0;34m,\u001b[0m \u001b[0mmatrix\u001b[0m\u001b[0;34m:\u001b[0m \u001b[0mList\u001b[0m\u001b[0;34m[\u001b[0m\u001b[0mList\u001b[0m\u001b[0;34m[\u001b[0m\u001b[0mint\u001b[0m\u001b[0;34m]\u001b[0m\u001b[0;34m]\u001b[0m\u001b[0;34m)\u001b[0m \u001b[0;34m->\u001b[0m \u001b[0mList\u001b[0m\u001b[0;34m[\u001b[0m\u001b[0mint\u001b[0m\u001b[0;34m]\u001b[0m\u001b[0;34m:\u001b[0m\u001b[0;34m\u001b[0m\u001b[0;34m\u001b[0m\u001b[0m\n\u001b[1;32m      3\u001b[0m \u001b[0;34m\u001b[0m\u001b[0m\n\u001b[1;32m      4\u001b[0m         \u001b[0mresult\u001b[0m \u001b[0;34m=\u001b[0m \u001b[0;34m[\u001b[0m\u001b[0;34m]\u001b[0m\u001b[0;34m\u001b[0m\u001b[0;34m\u001b[0m\u001b[0m\n\u001b[1;32m      5\u001b[0m \u001b[0;34m\u001b[0m\u001b[0m\n",
      "\u001b[0;32m<ipython-input-80-ad495bc0e813>\u001b[0m in \u001b[0;36mSolution\u001b[0;34m()\u001b[0m\n\u001b[1;32m      1\u001b[0m \u001b[0;32mclass\u001b[0m \u001b[0mSolution\u001b[0m\u001b[0;34m:\u001b[0m\u001b[0;34m\u001b[0m\u001b[0;34m\u001b[0m\u001b[0m\n\u001b[0;32m----> 2\u001b[0;31m     \u001b[0;32mdef\u001b[0m \u001b[0mspiralOrder\u001b[0m\u001b[0;34m(\u001b[0m\u001b[0mself\u001b[0m\u001b[0;34m,\u001b[0m \u001b[0mmatrix\u001b[0m\u001b[0;34m:\u001b[0m \u001b[0mList\u001b[0m\u001b[0;34m[\u001b[0m\u001b[0mList\u001b[0m\u001b[0;34m[\u001b[0m\u001b[0mint\u001b[0m\u001b[0;34m]\u001b[0m\u001b[0;34m]\u001b[0m\u001b[0;34m)\u001b[0m \u001b[0;34m->\u001b[0m \u001b[0mList\u001b[0m\u001b[0;34m[\u001b[0m\u001b[0mint\u001b[0m\u001b[0;34m]\u001b[0m\u001b[0;34m:\u001b[0m\u001b[0;34m\u001b[0m\u001b[0;34m\u001b[0m\u001b[0m\n\u001b[0m\u001b[1;32m      3\u001b[0m \u001b[0;34m\u001b[0m\u001b[0m\n\u001b[1;32m      4\u001b[0m         \u001b[0mresult\u001b[0m \u001b[0;34m=\u001b[0m \u001b[0;34m[\u001b[0m\u001b[0;34m]\u001b[0m\u001b[0;34m\u001b[0m\u001b[0;34m\u001b[0m\u001b[0m\n\u001b[1;32m      5\u001b[0m \u001b[0;34m\u001b[0m\u001b[0m\n",
      "\u001b[0;31mNameError\u001b[0m: name 'List' is not defined"
     ]
    }
   ],
   "source": [
    "class Solution:\n",
    "    def spiralOrder(self, matrix: List[List[int]]) -> List[int]:\n",
    "        \n",
    "        result = []\n",
    "        \n",
    "        while matrix:\n",
    "            result += matrix.pop(0)\n",
    "            \n",
    "            matrix = (list(zip(*matrix)))[::-1]\n",
    "        \n",
    "        return result"
   ]
  },
  {
   "cell_type": "code",
   "execution_count": 81,
   "metadata": {},
   "outputs": [],
   "source": [
    "from collections import Counter\n",
    "l = [0,1,0,3,12]\n",
    "c = Counter(l)\n",
    "for i in range(1, c[0] + 1):\n",
    "    l.remove(0)\n",
    "    l.append(0)"
   ]
  },
  {
   "source": [
    "#s = 'ebhcgicceggecgdcibbeicigehhebabiehbdgaeaigihghbhigihfebgabicbgfhhedgbfehiahchcecedffhccebifcbdfcfaecicafahfiecceeaabbecfhgbfifabbffadcieeaiidddhfdeccaedbgcfdehbadihheieidgcfbdiiicgahebfbbdfeffegbdhgdagefhbgafaabfghdcbfdhabhfahbdhgifbghhafcieachcbeabccbiigdcfegcccfafehegbiecbdhabcffggiifaabfagbfdfbfacdcafabccgibiidgabiabigbgbbaideeagaaffcddhieicehhchfedfgbgbfhgedhacegaieeedggacbbgadeibbbcdhbabbieibcfbhgdbbiecdhbffaghhchhddcihgdgbgdcfgfggeaahffgiddeadgcegaiddhhdgagdidgacafececiebeigcbdfaedibbgbhciihcdifbacdagfbcefifefchhddadeaiegbfaidbeebiefghfghhdabdeegabagfbbdgbeaiiigeaadhbgebedddfihagdeiccdbcfchgadhgfaidaebfabbagdghebgagbfhfbgeagdgecbhfchebdgafceaffabagedbhcgcedaecdbiifefchcbgfbbibhiahchhfadffeacfbgeigaccedadaafhcieficdfhfheibfdhbgbfhhdfcghabacggchchbdaigbcihhdbifcdeggicgacehebadbdaibhdciefdgfhfeggdhgcaeeeidfebbaicgagcaiachffhadbddhhdbcehciagfdgeadidfcaaiafeadefbbbaidgiagbeacchbdaifgccgcfigefcachiiggbghfhbifciafgfigaabidhdgffcbgicbidibacbgfhddafbegdaagbhddceeifecciddigfiehdbdabahgaechffidebhicfcciahhchebdbeieafficbbgefddeaaeacbhcfcdfhheifbecacffghihgiffiibghgiaffighgbfaggahfdcffhefdeccaabgeifdbefabibebdciacaiidhdicbadiehhbfehbhbeadehcghfhheifgghiaifgedhhabgcgaaghaecdiehihfhgebhfchcacdddaaghddifcacabfeefdgbadeigbagififffcaegdbdbdibdcbfcehahchfigeabdiecbhgaiefchhgibagedaddegficgcbbddahddiiegeifafiaffbfacgchhhdiccgaccefabbdcgibicahabebifegfgihaiaddiifbcedicbdcigbcehecbdgebfhidifibcdgdgffheachhhcihfdbbiaaheihidacfeiabefbgbedgigiieebdbeibhfcifeccdbefgeeeecdidgibdeidcecadbidbahabieheheedidaicbfadhebfdeibbeeiigddefbccbiacdfgbecadeicabeacbdfefahbaaecdggfbhbbiebifgfcbbaigdhdcgfhdcbcbebcfhiaahfdiegghgcdcabdaigbdhgahecgfgheahifdbechebhbgheibebbaicigbgbhgfdcgchidcgebgbecifeaafhcfffehddifeifbdfcgfefdhhaadfeaaefaegfifgaeaicdhdbcfhbhabacihgeahbcchbhhchebefcbhiiibedaeifdfaggfbadccgbggfgffbfbibhidfagidiagdhcegcbfgadchfhdifadabaffbcidedeifcefdbegceahgfghabeefghichechbdcbdefeafbacgadegedadcbaggafbabfbegabggeahghfadecffcbhahdbhccagciegbgacbabfcbiffabcfbaghafghchcaigfhiededeefagdahafggigfeaghabbcbcbfdhfgdififdaadidhhdcigdgbahgbbfbfiiciacdicifedaigchiaaagdcigaiehdeagicigidibecieefbhadgfcgbdebefhffdgfdfiegbdcbbggbeccbbcbbdadagdaiggbdacdchgfigefchcbdbbicachfhceccidcgchdafdichghgfbbihhadbhccceggcgedfahgapgieacfdeffcddcadcgabhadhhfgfdacbhabggbedbhgfbidgfadeefbcigdaebcbehfgeaiebgiefbhidcdfhbbieahhddehgceicicfefahiaicciddhaifegciddeaedfgehddcafgihbfdgabebaifaeibhcaabifiecbcbdbhcidihggebfgadfhbbecfciegeeibfcdcdfaiedaacgdefbbiacbbcffdgahgachddiefeceffaabbfbaadbhgiidcffihihedhfdefeecdbgiibbbbahchfffhfbdaifiieebcfhfadgiaabccdchghehchcegdcghddcbffbbbhheeagaceighcdfhfhdhgchchehchadcadcidhebefgfafcihigfdigfahcdafffgadbfadccgddeccifecabicecefaiadgibfhgigbbdegfdcicfehhffeifcieeedfbeiccfefecbghifbbebcaiecachgaagfhaadehhdfhcahcediefdbcbhgbaghdfgacfgibacaggcedfbgfdcbfiiiihhheiehaehidbdaafehgefhfcbfeacifcgicbbdbfaddafhcdfiacggbeffcgbagccadeeiagfafaiiiehddfaccgceifbbdgfddeifhiibfgebcbfdeghgbbaegeeaigcbabcdgacacfbigiahiighbacdcdbadahdfigcffhbeccgfihegidgahehbdgehdfhebcaaieahbigdaidifhcdbcegichdfagedibegfhacdfibiceecbciagbefchegddehaddcdhbedcbfdgaabcgfgigcgidcifighbififhgeecgihhehichadibafggedcdbeaaaegibbffadaaeeagebibibabddbciihciegfdbaegahfdidfeaddebehibfiahggiibgchebafggcdaahdidiigigiigagfbhiadgcacddceidcifcdcegiahdgbgieegbgifhaiihbcbebgbfifedbieefdefbfdheidghehidhihddbhahiffegbahgcgbfbeeacdfeefifehaadhdibfigaebgebdaahbebidhhfeihcadbabgcagceibcedbbfgbfifgcedeacfffccdeafabdfdgifbebhghfihacdfhaacbfhgcgbehbicghicbfbbdbcgdiedgcgiibfcahcacegdeefiiefgabedchdfecfddecdeheacdhcficecdhidhbgigceachieadaffafccgdcdhffcacbgdagacdacadeefgheifhbciehehafcbhdbhafdaidbbfdeadiddiecaacbeifgcefdfieiabhffeiiigdhicgadbdafiagcheigiihaaaaafdhafhehacgfhhhihdbagbgibggcgeaghccdgbcicaichgfceicadagahgcecgdfdcegieedidfbcdfabiacegaeecddbaeecfiafibbicibcggdhgfgciddhhbdhidebaabiabeccfgfbiffhgcfcgibceecfhhcbdcbccchbfcedefhfahfffgbedbffidahibfehcghcighgifcdihhfcaeagfbfbegbfciaehcaegeffffghbaacfdacadegeehidechhhdbicffbchhehachadcgghaidgeciibhhhgchhedaddgbgcdfhhddgchbbfaeechhiggifhgabgfdghfadgigbfggbibghbebhdifceafghghdgfhhihfegdghfcgfghibghcdgddifbchgibaeicffahgbgacifhgfdafggieiifhgaifhffddeidgicdddehiiihdheeafcagfiaigbcgeaadfbddacbeiiiigchhaedehebcbhhefifccdfggfiabfhicidfebgacbgaehhceaiffdfhhaghdghhdadccaddahccidhhehgciiigebghedfcchfaeggfagahiaecbidieeffhegbgbehhggdbeggeeadifchfhcibgdgabigebgbcfgiefcdadbibefahehchdaifeecdchichcaecebefiifbdecffichhdceadiegchcfaeagiigaebcaifbfhggddfcgghdddgedhibfcafidgeacahfhbffaefedcbhchcgbbccfffibighcechgbhdhcdefhfcccciaaghihccheihafgfbdbecdfddiaebdihdhbhacfbfbaccffcaabigicdedaeadeaabghhfdeidgbicgehfceefieffheebedbhgafceibhgiecgafdhicdhieeaihcabbifgeiibhbeefacieechddebgheacabcffeagecaihcdbddicfddhgbcceiggdhcagifcaaeaeeabhaghaiiaffcidedfagceiaaagechibdehebdbghfddhceiiiehggfcfagfeibeifhgbhiicccifibdghccgbafeghbgfgicdceagdcgcfibhbgffefcgiebigigcbiicbcdfibbhiaghhhebhfgabgeidihgcbehiagggbdbadbgbdebihfghcihhgbdhafcccbhehfffhehchiicidddcgidffbieciafegiahgbciegifachfaahfifbcdigfeehhcgfigiechedddigagbchffbgihigdbcigbdiidafahbafeeggeiiafcaacifehihfbdbbfceaedbdbghfififadchaigfbgcdacbbfdgehicfbecdfbdaegchifihdeehheddbhcggabddahiiahdieecdagadheaeeahdhaaidgicheeegdefhgafdbgciegiceaieaefiadifbdidgddcadegiacefbeaaedgibfiehechidaaaiiaiieeaeafgceeegdicaachdeffhcfahbedehccbefchcechdfiaegbhahiegdigbahciicadedcbfefecbgbefaahifhdefgbhgahffiihbeabeigeiahfidfbdciabgeefhegecefbdeifggcdfiffcchidgcihicehfgfdffcehbifgafdgfgaciadccabeefaiahhceafgceacdhaihbhfcegaehfcaecbbbeggagaeeebchagcdigagbdaeieechdcahheigefefhfhebcdggebdifedgdacbgghfcbicdbceeecgcfihieiggaghfaebegdghcbfcgfagiheadhhcdchdhahgdefghfeabbhbeibagfabgdiaafhcffebhdccihhcdabghaiehefcbgiahecffgigciheahgdaebeieaaghbeeafbbdcfdhbahdbgegbigagighcibbhbdhaigcfedcdhbeeccabfieghaibgihhefigcbcbbbbabiebhhdhbahabdbggaeggciddfagabfaagaadcefdhhhchacbebidchdhgfaffccefbahcdddhfbeibdcidcihcceiccgcbfiagcgidehfbaheeggdffhdigbdebcbdhddbdgieefgeffchgbhhbeidifdefgafbbhchhgiefeebfdadggdbbagbhhaeciiefdiigaiacgfaaedhhdaechbhaacdcbheeaebfcgdigacficbahdgbgiahihdfhdbcebedghbegdiabgfeagafiegbhgbieebcadgfgbfchcgfhdhcecaihdhgdhfchcbhecigcaahfegcdihieadfgaeaghfadgabhfhaeabiiefihhegccgchddhhbdiebfcefbggddbheaceeagfibaahigedhbahhbcdabibdcaigeigabichcaeigbebddedchdcdidegagidgaififabbcdibfcahffbhhfgebiehiddchfeedeihecibagfbdiggigheebhddbffhiciidiaicdacgcaeffcccaibgdeacfdibecccdbggcgdihhhbibaiahbbaghffhhdfegddchgbgchbchidfihbchcbbchdficifcaagbbbhdedeidigbbgdaafciehficiagdhgfiehdiabdbfgdegdgacebdbbcfedahihbibfefgbfbbhdiihhhbhdhfbchcaffdeegbdggccebhecdeahdeeficabacgebcegbedagacdhhheibacghhdeeigabhgfbiafhifbhfafhiedgibceacicbdbabfgfahaecbifdabidgfdebdcefcfbaccdhdhihcffihacbaaiihaeiggehehegiiicbafdacgggcidgaadchbcbgaibefbcbbbbciceedihcgaecgdgaaadcbaiafiideabdgedghaegaeeahefechhgedbdifacifgbcgebgcdfddbhbfhcaecdbiaecdeeabacfabfcgiffgeaheaaiicbeedibgcciicfiiahaiibfeigahhabfaaaacaiabghfaefggddbbehechdcibacdhgeieccehidacbghigbciddiefhhidgddifebbbafaiihaehgceedhdchaicdgiefeadfefedhhcecedddigagdiiigdeggbbcichcbhhahghhccebafcgcacicifeecdchbehegeeaicicchgfhfcaeddeffaiebighigghigibicagaefifbiahiaiidibacchaedbdagiaeafgahaigdfhhhifbeficeabaafahhcgbhigcedahfaegfdecehbehcfcbeibgbdcciafhhhcfgcabhbhbccdhghfiefbgfhhbggdebhcehbgfdihegbhcihafihcdaeddddidfhiifbbdbacaabaeggaeahdaefgedcbbddbedaeigggbhecaffcafhfiabbcigfehcdecafdahcfigigddgehigdeegfibgegeieficaaaggfdagcagbifgabagfciaieebagigdgdcihdhdddhhdebcaehifafgggfgdddhbhhifbfdfiegfifcccddgeaagciebidaagdbghahgbidegbadgghdcgeafcgeidghcghehaigcgehiceicihgdbgggbigehfbfecggbcacfaeddfbecaiaghcggiagdaebhibhiebdfaiifehfbecgdcdbhdifheeeacaggcagbfcabadcdgidifgefaegfdeehcffcbdbcecihfacfhibhhgafbebgbdffibccfgaacadfbgccfcdbcfehhhifchhifhaghaaehgcbebhadegciaebcgchghgdgeebcbbciabhifcifigbihifedgcfcggdbfchgdbhidgihbiacfebfhfbiciedhggaeiiefidahfdcbbibhigbcehdigaicffagcddebcbcefidhbaediiaedddhgedgafcceceedagciacigeahegfefcceggbdeddaeeaehgfacdeifhfcehiiffcbibdcgcdacccciaigbcabbigbhiaaceddfahdidhiedcefaccafbcedfahidfdecedeeicedediaebhhegbgfefdidagicadihbfbegfhecagaecgfchicdfdcieehicdcfhfbigceficifggciggghdbhhgecbdiecdibhdbgaiagghdhfcahabiccbeccgfbabbfgibgehhggaicgdecaadfgeeaabagcieiiahchdcfdcfcgcbeabffggfagfcadbegbifbgfdhebcfdgcdcgdbifgaffdaigfighfabecghccdihigcchdaeddeffbgabfgegiiggccfebfcefbhfahfiiceahbedaggdfchbidaehacbacafdfhebfbggeahfadiibfbafegchaciieaiffhchbaabgdccgaafbahcbhgbgegiadaiehbidgiedddeceeiidiggafabicfhihaacaebeccgdfdfbeeheiiiaahehigeigighbfcehedfheafffcdhhgageheccfhaiafeehbaacacfifihgiibhaedidhfbiedbfedibgiaidadgdeegdbedabiehbiabiaebgdbadiefbeiabbcbichfggafceecehbaaccchhaifagcdgdahceefhebiaadgcigaeegcgehdbgfbffdibbeiegdfddidhbfchihbdgcggbifibbgddhfhfhggaagdgicdgfigdcdcahgicghdfhihbgdcdgfacfbifbbaaeagbfbfhcfhdhffeedeffaahebcbdecbbcedbaigicdfdhfhieggffdghbhbcbegihbgfbbgbgbgechbigebdefdcfadibfggadhfafbbbgiddgaeggbaceaebbchdcfcbdefaeahbbacggcacdbfaedeghcfgddgbhbgfaedbbefadbiieeccdfdcgccehbggcgegbebaecfhhcbadebfbafgefehfddbbebifbiegihheagdfaifhfbbbhggbdcchafehccbfdfceeffbfadhghdabghbfigcfccebidbcegidfifaedfbbfciaedhgcbbebeefcefdehdgdddcefbiggghdcdagcdgacbhcficacheghcbadhceehfbbcgeiedbaiiaidfaccieeccbgiaddhdiighgbbfdhbhaddcahbheibdbghhdchibagfcecccbdccidgcebbigdddcafheaiedfceidfhecchahgiadghcdgaideedcbaihdceaadfbiedhhdhdafcdcecgfaiecagieffbdbfighfffhfifhhcdcfbhabaafifhbdedaehiedagfagefeffigcfbefebieffeddfgccdcihieafcfeiaaebegahcagcgagfegfieaeaheaccdaeagdfiegdeaabgcbihhhcabichgbdeebgccheiegecdididfegghhibaadchfibbcdhcchbfgiaccgiibfebefhecbhbbgcbgicbgaafdcffbdegfichcghafabaafigfgigaeadeehgbdecbdcghchhicigcddabdbcfheddhbhhggebegghaihcdghhcfccdieacacfaadaadciigeeedaieaddaieegbfbaciiicegibfaahdbbfhffbdcgdeabfegfifcfigghfbdbfdcffieiiggeaeeghdedcbeagibfcbdbdcbgidggdidddbdeeabbaaefdhifceddghiifaehecghgehgefdcbcegebehaceaheifhbieiedgchaaihabfbcgieccffhidihbcaeaffbcefghaebcbfaccfahdedciadcghbahfdfbehdbececiaegdbbdhcffcahfhiihhedacbdhegadfacfbggbihidicagaghhbhbhfchchehhieeiehiecahdegcbaccbhehdacbfgecdgigeibedghihiccgbccedgegddiegeddhbecgcbificagbadehachgccfchdfaigdihhbdfdieidbceacgeccbdibcecgbhceidchdichehbiebhiheedaahfgiehfhabfiffhdccfabdhhhifehefibagbbaecfgfddhbbiegfccadfachggigdeiacdiffgfbcebdihchhffbihifgdfchgahfigiecdfacceihhaaacdheichdhdicadbdeiggbhhfaiabceibdfhhieciefefghgheaeabgibbiahhccbegcgbdcghfiiiaagiheacgdcaefabehdbadgeadghiegcdhehgchfaahgddeafiahdhiifadehchhhbghhihiabchbdgeihihbhfbifggbhhaaiiabddcefbdbfhegecacicdhcdaegacfibbbdgefcdbadbeehadhhgabhfeeaehbiciahfhfbehcedgbbdbeaedehaeeeffbhabidcdhgdageeiagdbfcgebfdabdbigebdfchiihdhfgcdceihdbabedfihbeccbaebeafceahibicieaigfdchghefiihhhcfcfgacbcdggaigifhhcdaaddfdcfbcdbbhfhdghhhgcbifbfgiibbcaegfcifbceeaefgfcehfecibafgefiabdhhabidfhhiggfdfiedfaagcggaaiccgecacbfegebehgiaecicagbgcebaacehbaeibieghbfadfhcddbahefdcghgfehidhfidafeccihdiaggdffbdcagbeeieebbbdccfffiaacghiigcdhicbadceggbccdbhgfacaeheadeeafdcggdfefbagigdcgaadacggdibcdgedaahgccgedhicgabiigchigiefaiaibficbffffbaiahahbhbghhhafbiiebhbhhdacdbiedghidhdadbahfcifieiddegifggdgbiahhdbcffhdbhbacibfeccgaichegghchfdeidigheieadddacifdeidicciabfdgdiacichgiahbfhaddbeahfcfhcggbeaacdifiegeihdcdcfbfegifghibhcicdebbgchaaaccgcedbcceaiaeiaegcehhaebdahfbhhhfbgafcifbfeiiagfbchfaceeiaghbiedichhhacbbicaifhcahgagbhfdbbbiagbadfieciaaecdghciigcgcfgbgcggegcfebeagfeaebafadfghaihaghgghibgdedfddhbcacieaecdeihhffaebdigceifgbifeidcfiedgaihfgbebdghidigdifcehhbfbeeadhagdfhhfcchacgifbeddehfadgbfghfdaafbehgbbcegdebchbghgafddefggggghhcehabicafbfhieabaaehbdbifhhcdgifafbcgfgeighbgdbeaechciaiaeiedbgfiadfeacgedfeaiehgffdhaahdhiheabhhidcihhaggdfdddffcabbagaafddceifgfdgccfieeehfiahaihbgdcbaaffebacfgffgbhghfiebcbcfhddfaifadeefhabbachhggedchgbdafhhghgeddaicefbificiggdbbbfiidifadibbbihhghaffcfggffffgigcbfggcgdhiheeghaddhhahiaibaachhfaiihagchdbdgcgiafaeiccabdebcfdfgeheebhaddhehbhaddhhgadifbcihbheiagdieiehcdefdieifciihbgfcddhceiaghhacehacididaiifceccdgdhaiiafaieagfdedifdichabegegiihfghggfhfibfhbbfdaiahaidgbfcibceadeieabbgdhacfgcadfgahcbdfbiaaafeehaiibafdbbfhhfagbeahdbfadgiiebgfagchefcifdfcifegfccfahhdifdgghgdfhfibfaedcdeceecfghiacddffgfdeeddacehbdbcecddehcfihicddbidedfdahheaeibihhfbgbhaedehccegghbgedaggchheaghgdegdichdgiabahccgfchcheaicdghhggdbdiaafeabhecfagcdahcafafffbebhibbddciiihcacbaaaefihafiiifigabcgceddehbdgghdcdgecbghfhcdgfabgifhcghfbifidchdeihiaiifbcihgcehabgffbbebaccigicfdghdhiaeccaididihaghaddaaihebdicahfbbccdchbacfgbdahagbgdigdibiggccibfaachiecccibfbbigegebccgddfeiibgihfcfbefiefbedfhiacgeeifgagbefegcgdaidciifddediafiaifhdecfaagibgeeidehbgghdifgafaeaddifafiebcddbiadehffbiacidhaibgegeidaibfghhgdgaheedehfedhbffggcdgdfaagebgafchgeghgddhhibdehhebbbfabbccfaagdfiafaffggibcahaegbbahhfeheghcaefhaehdfbcbefabcfacbaddaddghebchaiagaaaabaafidecaahdffecdgaeeibcdaddedcicdaedgbidefiiafieeeigifdhdddfcbhedbgeeehedgecdggchcibiddhedfbiddgfifbecadedhefeibechhfefiecbhaihaibghfbfaehgahagbghfifgidaiadiaeahhadbieahebdbggefbaiebhhdhafbgahddhfiaegfcdgcbhhdgehigebfbefaggbahabcecibdgdfifeeebchgabhgdeacgcbiiddegbcehegdfiadafadehcghhiigebifehhighfhidagaecdaahgebcihgidgeebieadggefccdicfehebbbdiaggeifiicdiihabfigeadgfagadadgecgcfgcaicfabigeffediffcchgcaeichcfccbhihdbhdibbfdbfcehiieaafhhabahdhcdfffihaihhehibffdbiafgcbabfcaefdbdcedhdacffehdaighdibefeghgbicecfegbbdefiedcifdegiibcdeihccheaciedeiiiedfgcbcdfbcghhdfgddbicicdgbedagiahgebiebbfecccedhcabgcchieabaghabbbfdgedcdeccicdgfafafdhgfcfafbfebaddgdhfafachgdaifdiafbfecbccadigigeccieabeghhbdhdhchdhaebggabfccchdaddficaiceebhbiiiibceaegcbhbiaagehgaddeiedefcbceddddabbhaachbhgheaaafibdggihcgfhfbiieeafeadfhibegaifdbccfficfghaagghfdbfbiaadbdfcchbhaagaifedaadabeibhghbaahiiiacdbfccbhcaediicfhdgaagaeagieaaceheaciiebffgcdafgeahfadchiicghedhaigegedhbggcigfahdfafbeegebdbiacchaabagfeiaiddebehfbcehffgehbbbeebdbgaeebfdabcibeebbhbeadfggbhhcdiagihifihbafiedehidfadbffiegabicddidibgdgfhfidiaiddbgadebhifgegggafaeghdiehadfadagifacffhaadhbieaffggdbaiidgecfiidechdgbgagicaiciaieeefafcdebgadigaeeaafaigbhbheidfccfddddggafcghebeficdgbgcideaaghafbcdhcdecdeichhfdfdcfiaebcidgfhbcfihbabfeaahhadfbeccceeegahahicecagaffehachefhddfgbfcacacedffbegdiacffachdacddeciddhgedehihhbdchihhggfchacdfdegbibchdbiddceddeegbdifgeaibcegaighaehabdhedgeffdbbiadahcabbhcfefhdibgcbiiacibeaagchaediceaddacfiehgdgbbbabibbccecdadgahebbchhaahcifffefbcfgdbddgbbdfehgghccffgfhdagbdgghcbiiaiddcbaefefcdeiheiahechdeecgfihgiffbchacdebedgfbfdbhehdbeiadbgbbcifbdhgdigfghdgadcghhfgicfhdabbbgihifbcchecdgbhbficchfiigbcgdeigeecggdifdfdddgiaedaddehbeebiffihceghdahdhggggibbihchghehhieicadfgggdgdcebiaibiebdigiceaiegggdbeiecgeifieaiagfeebhagceibcahicheccbdhgfbhhaahfeeccgbhegdadheddabibfggciihccegegceieicfdfeifeaiibbfaafgehfgddaefbihfbieaahcgcfcfgiaaafgifgedchfeghdafidfeggebcfabdiieghaifaifhbadfafebefddddhaiibgidhghaigccgfhfehiebchheiiggaiefgbcdfhbiffaebegcaaceeaaeahdicccgffddafafeddbdiagbcechbiafabaeaccdiababdgedededibfbaabbebiigihhdhagfbgiadeehecedaihhahgiidibbfigdhagdcecifigciedffhfgbgbchbhdahaahdhhfbefbafdfegdadfghefhiicdidfggfheidbchhchiciicbgaaaciiecfihbcbgcghfidhgchbgaffibfadighiacadcgihiegbhgeebedeadihiicacdgcdibicghdhbibeaacfffedebdchbcfhegdhfgacghhaghagigieicfhigahfgegfhghiccabaihfehabbbhfbhaeieffegehgbhhgcdgiacficiigffgddfbbfdaaeigcdfaeahcecbgedfihegcifhgghahifcddbghbfbfhbhbgfdaiecccghieddffcdaicibbeddgbhhcefiifhafbcichgiehegfdfhfgcbdabhdeddiecbgaifeibcfdfgbdieecgcahddibebaeaehhbfaibbbcediagbbghaebefdficcdggbhdibfcbhchgdeabheihgdbachgbgbgcecifaafigaffgbfaffagdihfdibfdebieeibbcffaafeihiafahhggfiahbbeiffgbabidhgicdagafgcahdbhahcdiefagigibffdaagebdbcgcfdhgidfeehcdeiaehibbfgifcedihdccfchgggfcebgbifgagccagbcdbgbbcgiaidbaciadfihbagghcbcfihfbhhacicifeaeiaddghegcagghccbgdhaidficihcadfhbhhbefbaddcbahghdghgddhcdifahafdicdfhiebbaadafafeadcgebcfggbdaeeabegieaggafecdahhbgaebebgeefdcdhhdgfacfiigcacgdibieddafdcebhgcbefaedcgieeigiddedhbaggiiigiiedefebdghbdagfhfbefebcfdfbafhcbgbefbbeghbhbgacgaifhggggccfeihchhdbfeggbfcdbcdgifddhbhihbdafhgffegcbhafccdcchagfdagihgiibbcdgigffhgaegffhcdfeefafchihhiihbfheibfdadaegdbagciebcgebbcicdibdcfbghhehfiegcaaheggageefiddbgiccghdihfcegficgiedgaeeidfhfadbdgbhfdcaagbcifbdcddhachfidficbcafbgiafacfgidefbhdaegfhfgifeccgchceecfhceahhibaefifbicedhcgahhehbecaafddgcbfaigaehfcgiagieideibighfecacfffgageigffdecieihgcehcahgiieihbbcdbacfgedagdaecheehbihhceacichefcaigbbdachahehefedbiddabeaadibdgchddgeidfaefafihaeadahfefiadghhhbdcgfgadgfaaagacgcdiiaabffcdfhiegichbahhbdfhgfgiadceieeaecdhachaggbdcdfbcfgigdaahcaagbbbacfceededgihceibaafbafcfiibgdcccbghhhhiebdhffifcieiafbcbfbhehcfhgfacbicehfedbfhbagahgcddffecgcdahfeabhaecibebaaifdiiagacaciidahiedabehgebcecabaeaegbhfebdibbaeahbfbcgeicfaebgeeabcdhabaeaebccffdfccbficdcaegiaigddfheaaiicacgheabeiiieichcdedbcefiibaighafefgabaagbeihhgagabbahicdbieddfdhiaeheibegceccihiadicfihchghgdcbecfccgdhaaicbdeccgighbcfgbcfaediaeeibabihigaagehcggcfdagehgeiahfegcdcafbehidcdbfbaihicbdahfdbaefgdaffedeadadaeghfdcaddbfagcieicbfbbhhgcidgbbgdgcdcaheebchgdadeiedadceaefcaigadefhacbafgdffbbecgegadhbgbbdiaggdibhahihchgbdeaabchaegfdafbgccgbafffabfddfhieachafbdebgbeefffecdbceafeebggdgefbcgbhachgeifcicfecggheiafedffaghbagahcgdebcgibbghdhcefcihdfibgcecabigdchiecaidadaghabibbghcddhgehehffbcebdacbhigedgicefaiiagdgghggddffidcbddhbhhifeiffeeafcfggchdbchaafffgebfhibbecciigcahhbgbicfcadfigiagdcicafefiieccahgfibeiddfcagfhdcgbfifcfhaiffchfifdbaagghfabciagefgcgeacifbdfacadiafbegfgadiaigcdaagfdafgfcgbdbgiggbhcfhaaigffadhebhhdiagbgahgdfihcacebgihhdgicgffgfceaaibefadeaiehaeahidfdeaeeffafeaehdggedcibibhfhiccfedcaaebcffcdagfbaiaiaiegfdcdaafaegicehhdcdiagbgdddehegiffahibhgibhichbdbeibeahacaagieaeeebbfefabiachdfgefcdegciedfddgdgiaifedgficibafbegigbafgfhbicbidehheffgabcchbggdhchhhbgdcaccbfiaahdiieggdbbacgfecagfiaedeiebdcfcdgegbhhgbgbfdhffhiigdifgehiahfheiaichhghcccdiifegehidafbhibeecddaghaddcihfiiffacggghbhiahfgaeahbciciedecdgdciddhdaeabhbfdiefbcegafffhcacefdiefabacifgbabdcgiadacdfcbecgdfdcgfdgdhidagfaahcbdbgfhdcaiceibibhfdgfihiddcccfhbfbaeahidfhaiegbehgiebchbahbbidccaeaeigdfchcecdagehdiegefeicdbcdihaaebeaebiibeebhehiicgdfhfifaeeheddihdaeheafiegdaidaggbcgaeahhgabiaeieggfdceddbdcfgiccahfhbdhebgdfbdfgdbechiddehcibibaheeieghadhfefhhcidhececbiihfdiggfhebiedecebcfhccdcaffaibfchadiaggefdecdifeiciieaebgihgfhgaaeibeagfeaeegabhaiicfghhhcchhbgbgbcbeaichbdggaihcbehhhecficcdggagfgfgggieiaihfefccehfgfaaebhfbbdddgbffbdebggfhdihifcgighbaceegddfaeafdidibdgdiddbcebhiiiecifegiedfibcdaibfhaggdficgcccdbghaddifiibfaihbdegdhiaheidbifdeeciiechcbcacicbigfbahgcdfedfidaghhadgbbfdeheiieddbhdiahdccbgigaaghbdbfcabfgadaagigaaechfbdfhihfedhhgabehiafbfdcfchghgeaiiabcfbafhfigffgehicibiiiadfcebciadgacdgbbfgigebchiagegegggdadaghfchidieifcccafdcacceeehhgehiffeadafibgehfgbhbehcfcafcihfdceifafecdhfagbhbfdabbhhhgiidefifiadhdibchgcgeehacafhgeaihdhfehbefebigiebbffacfahdeceaechdhdediebbgehicbcbdcggahicbbagacdibbiheagebcfdhiefafghahheehbbiaeebhfebibdgeeadcfidcfccbgaiecfdhbgdacdacbiafhaaibhgidighfaifcfcegfcacefcaeafcigcdggchbfhgeefefbbeabhhfifehhffhgihgcffabficgciafhcdcidffbfebicfcaecfebfbbbccdibdgbicbgfddhhhcgfgbcbaicdfiicifhgeceegffgdbghcihhidbgdbigeghiaaaeaccfabdadfagbeiidafcdheceafgiigccdfbhafcicgfaiccgfgagdiggcbehdbcbbbgfgdhdaddbificafddhdffgdghigiihciibfeihgaahbgcghiadagacagbeheecdadgeiaadaedebedfccbchfgabfhhdgfcbdhgcchiehdegbdfcieccbfhegcaedgecahdbiggiicedhcdgdbgeegdgbeieabaidibcbgbcicbeaffdhhhegbfeifcacecgiefhcaddbfiicfgaehhabcggfdficggeccedchgfciahfghcfbihceegfeceffifhahfiadfeeabgghhfccagebecfcbhhfhbdigbchfaebiidbbdeeahcgabhdegaaheecicffeghbeccdfhcgcgihdefcgddbihfccdfbeeehgbbfeibecdhgehbehecggbbagedafibffcbfgigifaefbffaehiiadhhdaghagbddhcahgcdfegehcdichbcdcgeeiiibgfgcfbiedicacgagadaeibgfhhcefiaaghadeaededdedcfecihehaiifcdhfchhgafheefbebfddadfficdcggaeaidegfabdbgahbchdhcfaibfifiefdgcicebcegbaceiaggahbfhffhaafacfeeahchabedciiefedicdidiafecacgdieifebebabddbaebegbigcebgggcfiabcdbibfaeccbfggheccdeedfiefbhaiaahdhabbiaedhfebgbceifcchcicchgfbghdagdffecidbgbgdceagicafhgdegbifhdhbfdgficgeffdbfieiibcbfecfaieaccddbhechhecdecdhhahihcecehchdibfgbeceigfddeffbhafbdaefdedhhahdbgdcacbaiifhchgcgigcacbfdididicgicghdihcedgehidbfdfaeecbffcdafiagidhhfihabfebceeababadebafcefhcafgdfcaiagaffbfaacedahcggedegaaaaiggeegdididfchdbbaecdibghcghadigdiffdacddfggbidbhfhcaeffdhghahfefhigidgeagciabdaiifaghfhadggefgihdbbddgdaghiaceaaiedggegfigbighcgahhhifefhceffgiaibgccdffaaffaidadhechiafdcfagdbaaeebbcbhcfigebddbafdfcgeiiaeeciiadbagfhefehachgddecddffaciidbdciccdeheiihfbfccidfefdbcfefchbgfiaghefeafdffichaahfheahabchchggegafcbbdbdabcehaefaaehbgadgifgfdfefbiffdhidcebecffdaieabahfgdfagbafhdcbaaebhiffbbiibicbggdbaghgacbdiaggbfegifbbbiedgfcihfeaedbhdhicgdfdgbbbgeibcbddedagieeeeecgehgebaddgfifcifbcbchghddfaifadfgecdbchgeabibigbbhigghdgbfaghacdfacebgeeifbgeehgggficdcghaiedihafefiicedeiahihfaghfbbhefdceabdcbcbeegeabbiegbfeecffehdabccefhibdcdaefhddeehiedhffhidfcgcabbeieaehahcbieicgigfdhfbdeeiaccigiigcebigcgbficcbhhcgfieaciihiafidadbdehhacadihciaahehhfafhadbibcafhcbcgghefggdcfghagdbaebeabbaffadbgcaehbhffgadafgdgehidafbcbedeihegaedhhihcbheecbcgbcfhaibbbhaaaffeehebhhfhidbeffcgcbecfegiedidfchfcadgibaheghdghhghfdcaifhgbbhebhibdiiddebccdeieiefdhhecifdbfchadafagbgbeebdabhgeffefahaidcfdacebgbhafhehebbgdhfgggdbbeggbahfabfafihhfhagaagifcddfieieiacabgdihbgigbeceeibchaiheifhgfbegbabhdfcbeefdchcbaedcgiaiegigheacddhcchdgfbbbceiegchbaegihaabgceahhibfdieigffdggebdfcaaaedcgghfaidhicghafcbefahahifaiefidhefcdehffcbbhgadgbhhiachghcbgbbchffcecchbdeddcegfibaiabaaieheiffbegdggibcahicihabdhhgaaaggidbbfheegeefcahbgdbhdabdagfhcadaiichhafbaagcdgfaiighegiabafahcaiidahhhbaheiehifbcachcedbbehfieghhiiicdifchihdgidicheiegdcbifgebgifchadbgibaagadgdefefbfhbeiehhhddffahchdideeiicabhicifffbafiedgieeacehcbeichgfaidddgbchchbggehcbbbccafibebggefdadecfghbiddcbihiddbbhgeiibifbecabffedfagedfichbgdaiddfbfbcigddaagfiadiicfhdiibigceehfdccacfhbgifbfdabfgegaidcebaeachhaedfacaigddiigabadeacfiggifgbfcdadiibhefdibebcbicehehhdddbihifbafggffibfdabacidffecffdbedgfadgfbibgeafaiefaghfbebdhhhagaecbbeeaaghedgghebceccbecggedieehbghdceagaabeaicbffeiffegaigfdgaehacehbcdigihabhchegecafbiibfhbeidhheebffdhafeiggbhihibadbfhiccbdffadgiefbcacgfdeagcfedciadahagieiaabidafgagibefggfiihbiiegggedeihbbigadcfgeiahabfeheadcabeffigiiiaffiaehebabhebgieaighbechbahfaeibfdaidgdhaiediggbbabgaaccffcehhihafeddgbhgddabbchfbiiddgffiheahacbicficgbdcdgecaadafcddcifbdbbchbddecdfiebhicgbabbdgaabiedgffecdcdhbcdhihhaaiaabagiiiehgdaabegefbicacidfecfdbicidbhgfiiaegddfgiicgghgihfgaddaaagdidfgfchacgffidadcdbecebdadbeiecbcdffffhccgeaeihffbcecaacbecgdaeahabddhbgchbhfgebehfgdicfigiahgegehehdcbicghhcheefbgdbaaahfbedgffadcaeeadcaaibghehgcdegfiaffbbefcegihbeghibaedfidgcihdieeiaechgaigdheedhbcbedihdcdeeideiihbibdebdabcefgfhiihibfibegcfiaegcffdhfabcbccfbbbicgaddhcbgadhfhbfbihcfbegddghechddedbfedcfggicegdehecdaddggccaaeafdaddfbfbdiececbacicgiedegfcdbeghffggifcifehaebicbhabhdffhhhfbifbhaiedbbedheahcghadaaadhefieidehibcfcchiceghbfhbbbiidfegdghhbhgeabgbhifhdgchgecbgbiheaibecgdbdegehgcihbbhfihaghaagfffhdegebeidbhhcaeahiifcaedddigcdefhecfaegbgieggccagehaeediafefghbehicceccgebbddhcfdbdachehhbacdbhgeahgagbchaciddbdhfiihfdbaehdgibhcacfaihgfdhbfgfhgbieafaeefaghefdheihfgihhgdieccbafbigafbheaddbfeehhegccdehcbebhgcfdgagidhdhddfehbgdibhcifhhdhgdgddcabiddcagihhafadbibccaibgaicdcdhbcfidiihgebgcigchecciadhidgcgcddeicgcbbdcagchbibfheedehcbfcbhgicaachgebahdhefihhfabibdecgfhgfddidicdbidgfcihcfccdbhghcgcchehacbgabgdchcgehfchiaedgbbbefifaaagceehahbegcieadfgichdieefdhcgabebiehgehbdhegheafhhdgbidfcghieeifadhieddedddhfebbcifdeegehideiagbceigcidfhacfgciaffdhbchhgdhhbgcadhgbcfaeehfdegdabbchchefbdddgehbghbgbbicbdiadhdbahagideghgihchiibfcbbibaedcbahfcebafihbiaeafhbfgibiheheigiaibeabhidhbcidacahdiiagcfeaicaiihagbcdaagfbheiehbfdbefabdbgegfeeaaibdhffgeefdahfifciicedibbbadfgbicefcifgfichfbadbhcahgfeihgafbihhefebfeigffiddffhddhbiidbaigfdebcfeicceabadieddigdehiigeiahdddgfgdadacbhabgeihbbgghffehbehbebghiahdeahdbfggdbgaeedfaahgdeefifbdcfbcdbeagafdiceadcghahehddbifcgabhegffaicfaibcdccfigffgcdfiffbgcccgiggibifcdhcfeacfagecdbhiffegheafaaghdbihcgfbdihbbbffagfaegedfcdgffchgffihffdgfiebbbicafaaahbccicggeiaeaafdhcccigbdheedbagdgiehigedcbiehbicffigiiigchchaagihbgiifhdiefgagdffcgbcbihifehehhgbdidfeefhgdcbhhfhffhcchdfihfedgghdiggbfihhcdahiagcgegfbbhcighgiccffidebghdbdicicihbfcfiecgibbfbbgeafgeddcaehbhhecbeidbccigdcdegdiacgghiehegedddabgbabfgebggicbgehdacddfahbfibfbecbgibiehigidhadgdcibdbeefhhdcedeegbfaidhbdcebhhfccighgcbchciigfffbdgcbafbehgccaddaaebbfciahbecgbcebahddgeedigfdcifaafgfbdaahifffiidfhafieggiaigfiaafgbeabcgbaheggeceiciedddcadffhfbicahhhhcifieiafdedfbchbggeeebcgebhihadbagbggdggghbegheccfafgichdafaicahfihiehfbaecgiaafhehcicifhbcgiffaacaeibbifedghhaafbigccabdaifchcbhddafebbaieiifgaghigfdcbgehhcagdcdhehgdhiabhiieeeieaaedahdgcdiiacgaffffebccgdbbigfhedddiaghiihaihdegihdgdhhbcbhbafchefbdeeghcbfecgchbagaafeeefaiaiiecddfbcgcddfeibaidifhfdbidbafhebfciehddacihgceeddibiageiiicehegifafaaiecafbcehfahhhaigffigcechgfidhcgegacccedhbhbgcihchbchadcbahagfaagggghahgcfgchfigbcbfhdieihhbhadccgeffiachegfbchiecfbfdgiececgfbheahbichihhbbihggdefbcdgbebbicehcbcdbiadfebbcdaedeacfaegeagedgfcaifcaheebehdfaihffiebfhcigcbaifeadafghfbihbdbhbhheecaihacbeibbbacbdgefhddggaeacggbhiiecbcifcafbadgfhaghgaafebcafghdahgbhcffbbgdebggfibefdaidghffadbahicdefacaadibbabiidbieaffdbaiheiefiabgfgcgicdhifhffabccfbffebffgbdihgcdfgdigfiigfedcdbddgifficdefdcabheacdbafgficifbbdaieiieehagfichdcbeabebbfaehedbgbhbcdfhchhbagifdihgfdbfehchdeifgafcebdiedcgfdfidgidfdibicbbcggabbfeffhbbcbiiihibhihgaiccafihibdhceigahefehbbcgcicedbegbadhhedbdhdcacgabiabhedceahgcfhfbiifbcgcihbccgcfibbheicagdbadgfeegicacbibbbcbgdahihiahehgibgbihhghcbgdeaedgiaacahdhhbdihchieedhhhiebeieafeeahdbdebhdgahefbdfdccffhiifihhfbgddchbagaegbbabieabadbddbfhaebagdgcfcfadeegihfhbiigfhchfcehfgieiahbhhdiidhaagibffcchddicdccfhedcfchebbadcgdadgfeeaaeadibhdfhdegeeedfaichicihbiaiibefbiagihcciabibfabhdhhhcehcdfifcfafcidfhacagcbdeifgigbefahgciffdfihgbbchieiiaegifffidbedbfgheadgeafbcfciifiddghebbecadfehiegddgeibgfgaeggibecbaceigdebgdcgaaeificadfggabcdegchcheddfbeegffbahaadahgeiafaiiabgiahfeefgdeeiebdihegcdebachedgegighaafaigeheedaefcddiccgafdfghaiahihdaacbhbgbhbcabghbcbhbbgeadggiagffcecebahgdhibhggfdghhadibichffdhfediieiggaidgbfefidfhdbcdfdigibdhdegcffdeabbcafghachbegbbcdfeahefeccgdgcihfgicafighgfgbddggiabfbgehdaedcfhedfaidebggfiebfbbichhiihbfdaifabghgacgbeeghhecfgagffbafddihfbgbdidgededdbacbcebbfhfbabgffigbbdgfefdbaacabgfgbffcdigfedghabhidbcadhaabdaeeieegeaeecefegghafidhbicigebfabggfihehhaiddfffcaeiihibiddaceciieeihfhaebggigchihgfabcbhbdaifbaaggcdaddccfcgidddacahbegicedbgfdbcgbehfbdhbhbegiceecihgfbeddgfcdbigbidgbaigfhifcddeiiiceaageicabadhiafgefehebaebhfchcffhibadgacdgbeaedfcacfgedggfgiaddhiiibffegcdigaghgecefaeeaadgfhefihggcgefiefcihdahecgcgfgaeafdcceicfficciebidcehhdccbdegiebedghaggacfaffaebbchdbeefhhhaihagcchhdihbciefhiaecicdhgficghhahabhecidhdhfciiidicafidfdbefbcibbefdiebgefedcbgaeidgdecgabbbeifigbcdbagibeebgcfbddegegbahgbibddgahcbbefadgbibcfhfifidihgbcgfhiiecfadhbeaaigihcghebibdfcebddficdefcgaaaecgehacfhcdbbbegchfifeieadcbbddcddciaiehaihdbehefehediacibeaeacaheeiadidhbhbiechcbifedabghfabgdidbaabdeibdeebeidgfegbghhbcehfhiieagecgifaieabaagbcefgadafbbhdafcebcdgadcebgeigdfegfabeaaebhicfhgcceaaagciebghbeggacffbiihihbifefcacfgbccfifaaafefdhbdgedhhgiibafhbbhcaheciaaacefdibdhcgggdgcbafieeifgcdhdafbcebebgeffdeadicbgdacgfggbegfdiigfehfeihggcgbefhaaeciiggfafgcagcficfideffiaafdieefhhecabaceecdcfgigcgbabaiahcecfcfghabcbbhdcbbigfhahcdggeehaggdeeaecgefbehbgicafaibefbdgaddedabegaiebibiaeegdegahdeidigdiggaifiibebifhbhgebciigeedecdgbhffbbfagcbgebchcbeedigfcigaggaafeaadeaabichgcadgddggdabgcheghhdiiighhciabdbcgdffgghbeahhhcfgieebfgbhfgcafeifhcaeiafgecicdhhdchcgadihiafeiiefgbciabichgfggdbggbbefdabdbffgdgeeccgfeeiebihigfghgfaibaffcdhchghhgcfdidccbgiabbifgfacfbhfagaceafbighggeaebbhiccbgbhbhfhhidecdeaheddibcgcacbdicaeghigicegegihhdbbffeehcdcffegeaaafgcbehgeeiihfhhcdfidbdcfggcfcdahecbcghifefhbafhgeifafiahdiigahhhgcdaebfbgfbagibhibebcdhicahdggicaedhehhceihhebciechgagbcfffcegdehgicaaaieibhfdibdfdcdceabebceafciadebechhcaiehfdbcfffdhfdeagcehcccdiebhehgdhechbgeiffcgdhahhghihbcfecefccdhcgdeaiagggbgbbgeeebfabgfaebgaaiaicibgacbhbchabhcbbdbgbffaihdgiidacdhhfhegafbbihgeedhchhbahhfedhiibdcgggfbigeceidcbbdfidbhfhbicihhdggghdcahcecgafafdafhgifbbdbfhhchegghegcffbghheeddhdfcgcgcedifdcdchigifcehcdaiehccgaafgbfeeigbggfhbhbcfbhiabhieegbibbagbbfdacdcdgabfcebbiggccgadhefabeiadhdafdhhafabccidfeaaefhiafhbciiadgihdcebbfebhbbgcbgcibcbchcedifcifhagifagfahgciaicbcgeefbhifffgccebfaffdebbbebbdggdccieddchbcbbbbheggbhccbabdegifgbefciiegihfideagfhbgegdahebdbeacgdbdhcaibaaacggiabfbceeaciggbggifiieaeceeagaihhbfdaihgeceefdaihccabefffdbigfhfcabiibbcebfdhgibihbiehbchaaeegbabaaaigcchcddidggidiebhgddcadfifeabbhibdedfieideecfhbfhhggdfheffeiiehdgfcfddeibbefghhbfgcfhbichbghaaffdfahddcagcaigbdhdfehghhacbdcabfbhcedeiadbfghihihafadeeabdggbhbhaigedfghaabecbieabfieddcfcihddgcaeibbigdbiiifdgcdeficbffdfadgfbihbbfccbdiaabgeafaacciebicigfdihaiaeagbdiabciehbiagadcbifgedfagbibidddheggbfhfdhfdeficcfihiicddcceedfadfdfichdgaabedhhhcdeedbeabdhdhhgheiecchachfgghghhdhggicdefbdcfghbcgaddaffchgehbgibbhhbiahddhffgeccdbdiaibbhidcghchhdacbadichccgdaegeaechhdfbdgagegbaicehbeedagdfiaifeaafbhdcdbigchbbeebchaihbaheeagdaedebhgccabicfhebbaedifaadihadgehddabfcddidfheagegbcbgifgiacaaidggfddiafadhibfhefaeaddehceaiechhhgfifeebhfgbfheddiicgebafeibbhaffeaihbfhhhgbeggbgihfafagdaddbdcaeeecdffdbfffieiffbcbideihcedifdffaaiahcgidhceigcgieiiidaiiahebihidheeccgfdiehhffacicbhfbfhhghiaidageihagidhihhfecaehfibbiefbhhdffaabadfgdahdccedbiibaafaibgedcdecccaheahfdagidgdhidbhgdehegihedahaeeeidghcifagcgfciigabeehfcbigidfdcddgadigahaeahbeiedegegagadiidefibbcebcadehgdicdabcgfgcchgeebcdeiidaihdhbddageebfaficggchbahdbgdggficiifehadddcfddfaffhhfcidgbiiadehbhbcibiecbcehhffhbbabiehicafhgidabdcebfbaiedabccgbcacgaabbiceaaahgafiicgghheaaeechhfgaeidbfafabacbfgeieffbebcieiieebcfiaidcfhacgicfchgagccddaeebbeieheagcgcecbbgefacafgfgfabdecfecaaaibgicccafighigbbbfbaafgedgdhihagccceaaadbdfgacdcfccgceiggfaadfdahfdaceeaaegbhdgbeccbgagbfciafgfeibchigaecfabiifgafdchccdbdegfhgefhdbgfebafdiagfdiffbhehgcddahfdabeabcihecfbbghheaagicdahgfciadbebeifgfaebieigaabggfcbgeiiidfagbdhhghefidaccgccaafdihdfddecfdbfdcaiebfffgficaibgeceeeihbiddgihhchbdahgghchddeaaifieghedbdeadceaaccicbfgfhdfabcghecaidchgbgaddhahgghdgceffgdeaibchebgigihhhhhgeahgibbcgdbecheifeicggchedhcgccegdicfhchedaeiiecbaaecdbdfdbigagihgaaihggadagfaeaeciabibaagifacgiibfigbiafdbgcgbhciceefhcaeagabacgiacfiahahcffficichddgbfahgfeedeeceeaibhbcicfaihaehecadeghgbeggdgfdfhigfcggeigdcbegahfdgiiihhifdfifegbehhbiddafgfeccfcdcacifafbgeecicfdfbhfcibfcdecegdbfgdefeghcaceegidbafbadbfabhceicbdfecccbcheifccabghbfgfdbdaggcchhidagfdbacaidcggbifbhiagdcibhicccgcdbfaefcgcghghciedhgbhefhfdebhecbfacfbbbbacfedaeaaddiiiegaiffcgcgbeghcbebdcfbbhgifaebifihhcihdecfhhihbhhdehehgiiegifciceaigfabffcbebcedebdhfbcadieeafifcadcgbhddeieccgbfgdfdhcaicegheffieihhddchcbgdbaibfabihcddefiiacdghihcegeddaeeecccbchbaagfageigfcbgidbaegcaefadaidedfiigeadfbacfbffbfhfhfidadbchchgiadhcficgaafafgfceeffigaffcdifdgechfcgciggdbhcbfahdibfgcigidfiafibiegachafcefadcehbheaghibeebaaigcdhdffdgfaiiidbcbbeachhgebgfdaecbfghfbbciaeaiaaiffhdbfihaifcbagghabhhhbafcidgbeibdaedbcdfcfeedehiddeacdhaefdgbhdbfeggcafhcebdbaeghgehciefhbbcegfegegbaachibeggiehahhghecafibffcdchdgbfegdhcddahabhibfbedgdfafiefhdefahfgadgcfgfbaafgebfdegbbdgefidebdbaaiedahcefdffbabfefgghieeadgbdcdhggfebdfcchhedebhggbdegibcdciefieffafefhhcbdeadfggghdcigfbaddbiaheabfgciiicchbieeibcabbdhfeebeicdeahbeicchgabeichdbhdafdbfcdfehachddfibechecfhaadifchgbgdfffaibdifdfhciibicfaigeebgffgbdibddbcdbhbbdbdabacidfgcfgegaehifeiiechgegbbffeigehebgdegcgcecciefgeahfhbgbhebagieegaehdbigecdfibgacbfhdgaeafadbdffaaigdbhgihifgadciafiaeecbdgfaececbabbhehgebcbefcififecgfhddfhbccihfffecihedcgccdfidhdceegchddiddhhaicdiiheddheheedaihaabdbadbgiaededffefcdfidigdahiadeeaicacaeccbdhchibcchffcdhgiieecbgdcfagccdcdffabigfgaffhhcbchibbaghedffgfcagichbiaahiefcgahehdbbcfdhbehedafgedagdifaahhhieighgdcciehigfhaeafeccdadeiidfcdheibbbifgbghdgiahceicfcgehgiadbbaggibicdbadcacgfifhfbhdhbbbhiiacggichebfgdhbbbhebcgaahhcaifgbciddfaihaehgfcahcifaiaaaaaahdgdfedfagcafeaefabahiaiebcgfadbdhibehheegcfifhcdiebidefgdfgiceieeiegghigachbacghahgebfcgighecbafeefegifaaafdgagdfbgfgchaaghhcbedhgbdcbfbgbagggcdibcchggefagbceheicaaeihhicfahbidbfgcbfcddiibghdfgiffbegdfbcihagdceidhdeeibdhfdafddfcbafcibbaichicigbffdihbahbfcdhcbdhhfchddfcdceedhcfhihbccbiegeccieahibddcchafagffdiehibfgaiibfdcgbegeggaacecfagfiebccfbehfaghchbigahbehbfgdhbhfbadddeigccbcebggiaeddgafcffgbeafdeeddeaaffdhdbcdffgcdieiccafbhgdacfidhcfchgieifcadebifcdeihbgficcgffiiaibhdefgedhfgaaigibfehecdefgedagaachfhiffachcfcgchaaehiacghcebaeeigfhabhaeeidehehidiggigchdiacbbchcabcdgfhaffhffhafdfihhbhdhecbiceaadbccaiacbcbcidedheadegfgdigigfbedeacbigcibhgfhedfcdigabhgbidedeecdfefifeffiiafhddeifedhaabidiecdhhceghcfcdeagdhbcdchbccegggdihhdfhffeghddaihibceicdbcdcbggeafdcdgbbgfecgifbedegiiaeihcacagefeebcbbiabacehibcheecciiccfgdafcfggcdehdacchabehdhhbdaiedaacfffaedefccddbaidhchhgeeedaaccicahahiggfdagiaccghceadfdieecehecfecfdhbdhigdibcfgggicdchgbafdfgiaaaicgeaahchibefafhaeabdcacfihcadfbgccdheihgbhbhafciadgfibiiabeafdhafhheaiciibedifabagichfcgfdbhcbbfedehidcbhffhbfahacdhcgeecahbddeafdheghebdgghcbdceccffgbcdhhdegddghidecafgffadhbfbefgccgeehigcfhgccdbiggdbiggehaicdgghagieciiihcefbeafhbdfdaaeddhbhafccbaghcgggifecbdgfbefgbchibdcgehcbbcehfdchcbfcffcbhbefgcgagidcagiadabceicdigeifgeidcfidahcehaahiehedgccehdehegfcfcgffaadidiidacbggedhagiecaibfgihhcbfbgagbhiheefcafebdgcfihbbccgibgfdicbgiiifcehfaadccdcahagbggahecefehghfibiiagidfhcedegfcdegiecbgbecebfcgfafegdacihecbgadgihcigbbbdfbcfcideddfiehgdciicfhhgdehiigcaiehhbgbiicfggadhfbeibfceefiidgbaebbhhgcdedeaddbgifgcacggfagefgbcedebiicaehfddagcebcbaeeiaachehgfacfbbhceggcgbeegfigbcfgcibigchbgciidgachcdiibffhggffhfcfdacbagabfdaicbeeicbbebahagggiahgigfaabhbaddhfidgbcdbchffieefffbdfacfhfebdafhebcahiabadededhhieachhfaffedahcahedeafdgbicbddgdafgeefcbcfahhfbfhbfeeahbcfhaifhbcehiibibdeciaeigfbcdchdcbdbfhhfacbicigdffecihfhbhddhghbgchifabgadcghbgbhhhheiaibggbgfccgcbbhdccbhhgciighbbihdeaehheghiheiffcccfhgbfhebaeididgeffabghhafbdaiaigicbabgicigcggaafhacbabhhgbcbhabhdgficebbaiiddfgigbfegbaibdeddbbafeaggdiabghhehgidcibgcihddhcfhghigieihaccdahdfbcedbbiehhabdfcdbgdabfbccccdggagfifafgegbhbaifdbdecccbfabcbcibabhcbdafabhecdbbhgdbgihefidbibdfdgaahfhfechibeafiaiiaecfgfihaidehechdffffgdedagfeehifhdcidggicfiahbeegdcidgfeebffbgcgddhhbfaigffbdhecbgecdecgggidaiddfhcfahefeafedfhbbdccgbheifiafigebggcccdbfdeibebbeaafcdcdbfihcgfbifgcecaeihhgaieeadfgaccfefbhiggaifeheccbdedghadbgidaihgeaccagihghfgfbeibaecabdcgbicbaeebgigcbacgdihciiegifeccbaiaghihabagaahaffhigghccagicgbgfgfidcbgfgcgibdiiiabccibbfdhecfdiabfiigfageebacbidedbfbffehefieabbhhachdchdbcbfaghechbhagiafdffbfbdbgbgiiiediicddfhdhgdibeddcgihdeehiidefgidfihebcdbbahfdggdeieedcegdbbfagbfefcfiegchbchdaeiedcchdiicifihiaaeahahddcihcadgahcaeibecdcafhfcichgeigahedgbedeeahiifdbhghfgigddaddhhfeiifcafaaicefhfbghfdgbbghhdieefhcabgcacgfhfifgciahaehhfdbchfbfcbddidacciagcgeeeedfddiafagdffiiecbgbifbhhbgbbdghhdifghfihcddeedbbbgfeicdfecgibfaadddfefbgcgddcfhbbbaifbaibghbdgbfcffdadedaecihbececcgheceehhhdieabbfafdgchicbaihhffdffaadfeagebaifdhcibaabcdifahcgaaaiaieahgiagbaeggbbaadiigcfiiddciceicffiibgidebbdcghggbaeagigacfcfeaahhhigfifeieedhccechfhadfchhacgefcicbhaiiaghhcbfhhiffaagcfaagfcgaaeidehdihfehgefiffcihcacggghgeggdabdbeiaabceghiccbegcdihaiefihfghhhfibgbgehcdffgfihcbhibegigdbhicceaaibgebgcegehghehcfhefgihigiebcaffeeiiiidhdheedhebgedbefhgeabfcfadaffbgabdiebdhgcgiighhaegiiecagceiadidhdhedafddeggieeedbcihhdficbefefcaeagiabefdfaagfefeaebeegfhddehhdfcdibifhecaaiighhhiehedgeaegbehdefgfaeiiihcfdbchcaeicagehhifiaachadeichibidcggdicbibdidhdifaghhcdaachgfiedfccfhfcbgaffgcfcdceeibabgeigchfcafihcfihdcfhgabgaiiiggacghgbhiihhchafhdedhbfhecfcbfghifbbchcefdbbdgafgahddbhgfffcbdeaahfgiafiigcefcicbdfchiddadhaeehdgbdeabadgiigchbhbhfgidcedddcggdfiffhffcfaedcifgcfiafgbdgcbhighccbabaaecigggceiiecffhdeaachibehbhebfdibgbfiadeibaebbdehaaggebihhffhfchdeheieifcahcggaafciggiffeabdegeebggbbceiaggifiebfaeehdcadabeagahbdgdceddhieffcadgfbcegecedadfaagefcefdggdighdadicdicaffeeidhbiafebadifddchibdbbiadfaafbifcahheaeeigdhcebeidehddeaihgheafacgagbigffdahiigdiggieehcbciecibefibhdheaibdagiaafgeehdiaebdefcchabcibdcicahhhhhaffhfcahcbieegcgcigdbdfgibdhiheeaeiiedhadcedafgchbciciihacfebbfcfdcgfeaegdigffcbibiebbafaedicadgffaghdgicahdffaaeggafiaibaieaehahcagiigfbiadagfdidceiahgiigbcbcedgcfchgdhcchiieccaghibehfaahafifbgcfdicbecdddcdddieddgiagfeiabeihfgcedeihdfibahggcfeadaccceefhccbgddcgiihbcgbfgfighidaigbgecgehehbfedgcceffdaeiafhafiahheidgaaiggddeeacaccibeeghfbhafifgddaehgfaichhhgdafbdgegigihbcdbigacfdifdeebfhgdigebggeahaghaebdeaidhggecheiafbehbgfgihgciggbgaieafgbdicgachfabfgecibicbahfacegaabifdaifceafbfbgdebhihdiiaabcgfcccgagbciiigefachcibeecfhgbibffchefibehhieecbbghiaiffhabadigiefidabegifedfbdeafeedfdaiebdifchfgdigdhabihagcahbhggcbgidabhghcafcgbfgcaddcfegechhafcihihebaaacadfdheibiichhiehegacbghhfgeeaaefeebicffadefebfdiefhhieeidggabhbhhdiieeddebfibffafcfddcihdbbhdhfiiafcbbedgfeeihdfegicbiggiggcabfdhahehffdigbdafdbcibgaghfcdgdechffggbdbiegihibcigddaagbaiiidhebdfbbfeigcbhaddaiififgggidaeeaidbgdigghhaihehbdfchbdcghbgdcbdgaahbgeddbadiheebigiagbcedaecifdidaaaeacfiefaacegdfbchcefadgbceahccefafhfdfagegiggdfibghfcehdifdbhfgaaciceafagdfbgadgfdebfgddddhfgfgbccceeghfibcgbacgeifbigieiigfdedceaheihiacfcddcabheedgiiahcfgdccibedhcaeaafabddgadibghhfgiaecebbhhbbhcfefhaihifibhabggadfeifdihgebacgifgcbiedcfgibggfcgfffgaidfdebicdbbghfigebcecdbeeaaefceceaafffcfeccahiieigehebbfhgigdefbicdfdbefcbfhdgicbeegbhgbbdfifgefiaheafdbadifefdfihhbaffahbbahiichagcfdfcdcihgadacafgeabieadfiddaahaigddgeahhdaeaegchhhfgbhfabccdfbeghbhbfehdcbcbiadbcgigdcaidhfegagiiadhaahfaeahbgbeghebaaciihhdfceibahfihgcchdidcfieideaafafdegahhdgehefcibgbabcaibbdchabbhfdggcacihaebeecbeadcicdfgbgihccadfbhdhfagddfddaaibfbeiaedehhggfhbcedacddhifeehfdehchiaaaaicaeieefadhgbgbgbgeaefgabfacggaficdbfgdfgdeccbifghgfadihaahgfgdabcaiichbedicfecidfgecffefechgdedgaebhicifadfgfebagdedchbbhcgadefdgdbgdagabbadcfhgcbgiggdacdfecdfchfafaaadiceibahiecgdahdecggciigdbeecdbifbcgecegbciiihiddehceheeiiecgdeadhbabiegafbgfhebcbcdgddcbedcddcgghacgifhiffhgghfaffbhebhgdgfgdbaffchegggedfghiaedfaeidadaiaggbcaahediibihgigfehfebaaeecagffgebeggfdfecidigddcagiaghbegbffgedehiggigegieifggfcfhddecehcaebggcecgfbecfadgcffadgeicghaegfafdbadhidaabifaiiahiebhaiidfeiecbdgbdegdfhbfabgbdefgehigcbeicadgiiahfbegggbdafcfcbhdaaeaedhchahggfcbaaegdbfefgffagbbhieaecbfebgeafceheibbccegbbbhahhbidaadfaficaacffidfdechedbcecbedeciiidaifcaefihdedcifhgddehcdcaafbaifabiidfbbhehfbificigdbefcfhhgeideiicceffhagfdabigfhadhceafhdidfbbdhbhhafhbgdcifaifbddefcacbcbahaihiiihiccgdhecdafadabccefgcadghdiibiiabfeicgecchccccichghbeiecdaefgabhebfcehdaacbgciafecaacfabghffaegbffdifbgdihfihegidggadcafefbfefbcbdgfhgeghccfhhihcgcibgdgahdhacgifddcbhfacfcfeadfaidccgfdgdcbbcefcccddbfhdbihefabacafgggfabhdiebabciechdcfhigeaebachabbhahfbdfdabfafigabhbbbhdecaiiiiccddeccccagbheifhhiefideigbcgaecgbgghgceebgfdhaabdbcadeecfddcbdggddigeagdidhgcihahghcbidhghadhfbhhgdfahbggdefifefigdgcehfacecihihaigidfecdcigfgcibaabdhaigedgiafbfiibgehdifchchegfbifcgaceebchegigiacdefahacceaadddgdhhaiecagfichcahggbghbebgdcgfcaechgcecifgiiiciaegdiibhbiffgdciccihedacdacddbehifbhcicgcigdicffebaeggedbcfbdefhecaibfgafaccgbebfaggffabedeeecefafeebdebfggcgchbfahabifeccbgcaeiadfiihiebgifahccaecadcfgbaehhdaidcghhcgchdceaaaiihgeddcdiigbbcabeibchifafecagahfgehcdbceficfefigffeddbbafcbdgehebdfcgcfeehiiffciahghagiehfefghbigbgifgafbbiegdgbahbffdhfaeiebbbgddcafgdahbhdcaibgigdiaeichfhdiaaaichdbehdgdgdcdifdagehbhbibgbgbfdihgfdidhaecgiaahahifgfbaehfigchchffddhffbabgbghfdbafcahibhgahchddibiiceeegiaacbfceiiiceehbccbfaghgggdcfgcegfbcfhhgagbgfaiiadhafhicicadicaadfhecahgcfgbfgeccbcchbbebabbibbcbcgdeigdbeihfaciaedgaebdcbabgabggebcigefiacfcfdfcfeibcfaahbhahcfbdddggffahdhhfeiechdbefiigcibgedideacdghddabfbedeedeeedahbebbbghiadggdaeegghahgfgfbgeaefdhdeiacfcdgbiccceafdicbdieedbbchaehgacffdbdebeaabcbdgiibadfieddbcaibhfiiehfggebeiddegafibaeegiadeihaibgadghgaffbbedciheghagadeceegcccgccdeeafegeeedfhddadhbccaedigdbdghbdedefhfhegghahdafbhdacacideeaacdaheahebaggcefbacddiegbbfaeagcddachfefgcffahifagaffdeefifhgihhiddiiagcceaihafgciaaebedfifiigifdigahbgeegeebdafcgggabgbaiahdhabaaiichehhcgaeigieiaacaeddfgihhheebbccfbdiieiggeggfgeicedadchfhhidhhafiffgahdiecidcbbadeiaadieegfgihigbifcebabfdciigdgcdhbgcciiceggfehfcddfgabhdcgdadeaagihgfbcgfifagcbbgdacifdgacbfcacchchigdcebegbiibagghggbhfaiiigbiedbfdiabddedgafdddbefigidifechcihaggdbbacieiaibbbfieddhbiagggiegdghcecggacfhhfbghidhbhhgagheedheeegcbhhacbcbifghibheceecidhgibgieebedageabciebifcabbibbdgehbdefgachcdeeacfhagafhcdfgbdgidgfiegbiddfgbgeiaeebgbafbcgecefaiedebcgbihdefeiggdfaddacffiegfhdagffchgabiiiigaeageaaabdahbbhchefcahdcigdedfabdbbdcifigeegaacacecbaigcdecbgabgidabbfdbabeeheahdghecfeagadcffhgfcfcabdadafacbebddgacaeebifhihcbfgcfgeiadfahbachbaabggacgcbbiebdbhcfbdadieeddaidedadadgdhdbhfeghbifhfiidbefcibcbdadfdcciedhifdcidgbcfigdbeicgihihaegecifhedigdeggbhcgbbfdhehbbacehbifhcehciaaehcccgadbabbhdfihhdgeacedgbgbdcbhbffcagcfbeggedgbbbfcibigdcggcfaiafidhibabahdddafabdadbadadihaihdbbhhhehbdehicgifgdifdffeigbhgeiddgchaaaegefgdachdhhfabbbgcdhceffibahehbdfeeegeaceiheffddaiehegacadgagdecdechbcabgcfehcchcddaaidggcdabgeefheeheiifagfacgebedbfdahdbeigaidiiibbfcdgdaefggfbcebdeaciibaddhefhicbfdgbgdgegdbggefdfhfhfbciagcfibcgbgiaaiibedeaeegdaabebdaccagfibaefcbdddbceefcfeibeeccigceifdhifciicaciffcibiihedgdhgehceggibahdggaabhbdfgccfebifchbgfdhhhcbdffedgcbbfbgcfdifhihibiddeadfhbihbhiiidcdciiaahdfiigidcfcfehheeigddiiaihebfifbbbbicfbafeeffecicicfcbhcfaefcccecdbiiigieadheeehaibfbhhichedgdcafbgiebfbhahfaahdghhgcaggagfdieicdgihdfafaeebhddidcdcifbbgbdfehgddbgdahgbfehhicadahfiehfihbfegcebhafdfbgadhcafafbafdhiaficibhgffifebhfeihdfgcebhehbfgifhhgcdhcgiafbhgbggfcacifeegedafcdachfgddeciifdfbdhdghaigfaeeiidhehaabebichffedheehgegdaeabfdhdhcehfchahecaggcgccdgefeagdagbdagiciabbccehdiagfgaacfaebigigiaeeiahiefdebhbfebdeaiibhdhfbeaacfdhgahebiageecggehdchbccdghbafibabehfafagffigiggaddbideccbeacdbdeecacidgegaicbhhfhadgeadgfcdbehddfgfihghghbcadgagfhabfgicbahbgbcbdegcfcbfiahdeaidchadieffehcifdihfieghecfbdfdbbacgddeahbfidfeabbafgbhdaaeibeahfifhdaeefcfafiagehifaecbciehdehafbhhbcfhhhcdcehcgghaifbcfdedefcggihcbhaccgihaeiegcaihagbhcfihgdgffdgdfibfacaeifbgbbcbigabgagdcfadeecdhhfgcgcfaebiefehggggbdeidabdaegegaefbigfgcceeaehgageacddfabgghaeddafigfebieddccfheiggfihbgfadicfafchihdcigbgddgbgcbfagigfcigcihchcdhgeggbihbfedgahihafabiahdedchbefhcgbecbhhdiffhahaaghehbgdhhbfhiaicagdbhbdcedcdddabedhdghadeiigaaeecbhfhcihbfcdebedgiaacfdcebcegfcbbiacgbbibgchdgfaihafdihdiafefedhcgidcchgbifhfhgbeeigaiigdbggcdggaefffcdhabcggidbibhcagbiicfchgfchgbaibhbcgegcgabfadgbdbagiiigbgbgehiccibbafahbaibhbefchiehacfdeidedafhfdghaccidfacbadigihhbhdeaccahichbhceaiacbidfgcbhigbcaebhdfebihebegaahachegdfhaedfddbbhgecgaafdicgeiedgghigcfdfaddeabchgfdieddhghefdcfdebbidaafdfhfafdeagidddhdabffdaaigdggahgchedababgieaiheeagheccfhcficifcbeebgfcdgcffaaiaahbegiigbffecichfigabdbbhhdfbaaheedabbhbedfcdacghibchidhdgfeeehbbcfgcaggbchgdgghhaafggicaacbagbdchbedbhhedgfcfcbifafiihhcfcdhhdcdeddbcfbdgaidadigbieefbchhaebfhideaabiicgcggihehghfigahgeigfbheeabchifcgcfhiieiibfibfacgheabhabechbbabdhdfihedfbebecfceefcbbhdebdeiabffdegbaiedaabcfaheceaabbgdeeigbhiiaffhhfcaacfgfbdbiecbccafheidhadhbbbdefiaaficdbddafgdeiidgcaifaaibfdiagfdggicgiacaecefbhgfgehiiggdeegaiciicdcihegdaafchibhcbacaiichhbbebihcghfeeegfaggedgficeiffgfiedfhbfagbgichhicehbcgeacgbhffiihcfbibiggabefgdfhfgagdfdbceafefbfbfgfhfihdcgbhgehcchaagebigahddbcgiicdehgbaieefdcadhiehifafediccgeabfcgeebiahfdiabffaedahbagiagefihddiggdgaacgfadahffgcgbafbibbcagafiaecbabfafdbaghdfidbcdifgdhdeaedbeadbdaecbbiefeggedfghdebghgficecbfdihgbiacagbfeaafgibaehgebhbedaeacibeeciiigieigfdbcdeddgcegigibeedbgciehehcfafgccechddbgbcehgeaficagfdiifdhchhgcieiefhgcfcbcffdaieadicaigicbccaegbhbaebadedgbcadbgfaegbcafaigbaficabibfgedehbhhefbbbgedfbbidgadfceggabagfaibibeheigcgaaicfebaeebdiiafdahcddacedbdihcbidefffhbaefddebgdhfhcaiahhbeghfdbbbhcghdheafdhhihhiaedecbcicbegiibbdagbiidefdehgdgciafcbfeedggageaeifddhbdgidcbiccfifchgecddcahgeaighicaeibbdciiigaddeibfiadggbeecaachgdfhigagadcdggaafbffhibhcffeiibiebdcbgechafheddacidfhefbeifcffaidibhaieeibeiefgeegfdbfeahgbefgiheeciccefcbceaeghgehgeibdebfedaaachbdcgeghcdcgbbgefagfbegfbiicdbcgageahegigaaaecfhfdefdhihcaggedbbdeibcdfaieegafeacacaeabbefcifeeahbgdcbhhgbhiacbhehigbdggaieecaaaedhifefbcdabcibhacgehdfhecfgidchabcgadbicdaadeidbhhbdbdiiichiagaigbebchcddgfifeaedhbegdgfcdhhbciehdidagegifdihibcgdcgcafdehcebgdgdafieafchaiddeiaagebfccibehfgfacaaffdageefaiggeecfcaaccdffhfgbiddggeigdbhbeebabifcbaggchccdicaeciceefbbcecbbfgagdhggfhehabffgfebabbdcddihfefgeehfdaaiaaiaigcigacdcaifabieihcghiidfifcdcdcfggcicdecidhddfbifhbahbibdbhcaefcacidfighhihgggfeegighffiedafgcbgcdiaebdcgeecdacaifhdcadfgbahcfhedciefcfihcbbcadeagghfihihahadagdgggdhffehgbeieahgheiabbccfcdaihafifadcdbfbgaacaiaahifhddcbhbaehhdafifhcggffhfbbdgedefcachhiadfefbbfihhigchhiahbgcgafeahhehcceddbhgbfiiidghiafbbaidcaciiaaaghiebiabcfigdfhhedecceidgdhdeagegadaefbchbbiibghggfeieadigceidiagihhfadbhiegaddbahccaebeffiiafehbafahgccbcfbiiehhdhidghahdchehcafbbaigggeeecehcecffgghbdhdhacgagigchaaebceccdbaffbbdbefeaadcebbcbffbebebabgaaeihhhahfhedfehhacgacibiffhahdebieibebcciafigggfcbghadhhgdfbiegaiccgefaiddeidafggdaacegbageghaiegfhcaihbahbagheagdeahaiggbhedecfaefhdcficdecgbcfgfcfehfeaebccdghefggigehaeehdehgahdbbfcdebifagbbhgadbdieihgdfhgcgfcgiaebgcbeeagbbegiaiiiahdfedhceagehdefihdchiedcedhddefdachfgfhfebdebdeabhddgahadgeffchafcdebeafcgaaghbbagehbghcageiichhbhgacgagdchbdcfahaedaeicegfccbghadhbfffiibbfcdhdeaahfdccgcdiigfebefaacgiahcfabbddaddhdcibaciaaficiadfdihgfiecdcdhgdgfahahfichegaaggebgdfdbieaagdgbiedbecfgfcaccheahbifdifbehfecabagbdagbcdccfcaeiaedhhegefhghaifediefeihfdhebgebggficaeacadhehedefehebebddhfbgdgeaeeaicbdhhfcfehbhfhbaiacefcbgicdecdccebadfifbbfbdgdgcdgggdhefgedaccadbdaccgdfggchbbffffbefdeaficdbbeeaegidecdebbffgcegaccacddfdaifcfbbggiigigihbechgcdcgchadcbdiibaggghdhahffaeheiebcefecdbeceddhabdfgheahhddaifefbbafchibgchiicbhfdbaiehebfgdicbgfahaccafficfhcdgfgibadgcgbaghfihfcebhaifgghiabefeabhdbfeeaafifhdfgababhedhdahaichbehfcddbeebhaabcehiccbceaghfhhebcbbbeddffcefbehafeihfcgghbehdfbchicifaadifcciidbacgeifbbabfcidgcihggbgiihiffegfafdhfhichieeabhbghgfehbaacfabbhfiigabhfhfbefageeegcffddfdhacaaghfhfaceffgibgbcbhehhfhedibdecafdfcfgaibiadhhgdigiifhfbecfgdbhhaabdceabfhfaiefidbgihgcchibbhfbcfecfhbibiafgacaeidciffigiaddbhgegbbhigefhdaiahbffehhddgafaebchfafieefadbdaegbaaceehbceddehbfifhfcddeehiacgifdahheghcaecdbhfhfdhdadcbecghefhhbdeachbhacgdcheccgabbicgigfhididgcabahfdicbeggefcchchdfibfcffbfabdgifbaghhagddbfhibhiabidcfhfccfeecciadhcbchcaebifcfgidehfdheacbgfhfbacbicedhcgicfgifgahbddeghddighbbaiigdcgdddghcehdehgahibfcdfbfafgafdihghfhfbifgbhibhfcebcfibefefbedgghcaighdaccdgeegicdhdeiaaigegahffadgiaacifdcahafgccgcaaceichbedfdbiaeahhfchcbcfahhgdiffhhhiabcbiieeigfehgddhabgefifbehhifhdfebhdfdahdcehfgiaiacgcedbfceiifghdhibehacbbhhgcddcadcchdeabbiiihecibafhfigbcaichhaacagbhdhedfhdibegaefggidchhdfeeichabeedehhgcbffbbgbhfahgdcgbhdidhdefggafihbbbbbcdhbgacacdfhcagbchbcadicdfecfaiecaaebdedddidbgficaeefdadhdhifahighbgeicghaacchddeifgbgicigdgbaehadhidfgbaedahfbeggdbcighebibfigeicegcadgceecghehggccdacdghfahcifabggfecfhgfdbaghfhidihhabbddhhcebhbehideefhccecadciiddbdcbhfciiiiaichfffidccdcdhcaedheifihcaebdhddeacgdehhabechfehiffcecgehgabgacecfefabeebaegddddaadheadaeadahbdaahghceidhdbhbahieebdfdfiageggbffaffbgcacihbbidbbegibgbgfihcedhdaacedcaccigfdggcicbhccagheidahccfhfaggihdfadhhifhahbaiiibgidcidahdcbiabhafaigbbeeafidbcfaibaaaeibgheegccbcbiabhhcgaebhbdccefadgfhbgfhihgfghefabebbeigbefbecbaahdfdceedhfdaiagcafdgedhehfcgadfahgbfadifdcdchafgfehbeahbchcihcfhghbcadceigbicgeedabbcdfdgbddhbgcidbafibhgcfdhcbdgcbbhbahiegbdhaahhbgcdbgdbaeccedehhfbbcdficbdgfhadeghahfcccieeefheeagegaifgafgfcgghifacfccfbghfibehfdebfbgehhaceifigfegbhgbcgafiiehcibfgaedbbfddicaeadiidhadciaibahfdihabeficchhefcgagdddhhcdibecebeaagdhhagdhfagegibeaidaedbhcbibcehghdbhhfgaegdhiihhgihihadfhhefbccbhdcabbiiieeefaighfggciehegiidbdabddaddffiffiieegeibagcgafdfhcihfbihiegiaadcicffegbdcbfiibcfegfbfdcdbhbegfgbhebbeidbfeccfechbbadfafcbicaebadebhaiihfeehffaehffdhcccdbbhiehgdgcfcdehccceehfeahfgbfdbhdbcabiihhibdaibhcgadfffihigggbhgfffieaccgaadbfageeiccbigbibcifcccbfbgbgifdcefdihedagbgbcdebefeciiffaacfcgdggaddfieeggdiahfhhbhafeacageddicfbcgeigfhbdciefdgfadgbbfibaabbbgghagcbbdibaifdaebadbdedihfdagecbedaaifbaehgeaehffebgcfdgbdbhbfbadheeecaecighgedcfdebaceeachcaiadcbgehcgeebieheadfeegfhdedcgeafceagaaifeggidchgghdiggggfccaehdhieafgceagchbihfeidbffefcbgecddagcfbgbcgddebiegfgiffdeabceaaggihfaafhhgfgfaicahhhbggacfdgiiedbfceeceafdffigdbeccdaecdeafbhfgbaecbbfiaicebfbgdbebihegcicgacbihaaghhihaaidgcecddchggfgiiiigfefaddgaffdifhibaiggbaebdbecheibdbggfddbcifbigchehaiecdcagificcbiiebadbegcgceebfgibhdbfaegegghcccigcbgfgegffigdfhidegchcaigaicafghedbibciddgaafgfbebgdbihafadedfcgdghgchfigcfeiihhfghffcigdaccgfcadhedegdeefahadidadhifcaiifibbbebacbefdffcbfgbaffbidfcfhgcaefhhedaibiiebegaidhgdefdhcgfhbgbiceebhgcegfababiicdaaifccfaaddbagbhddgagbdchehgadgacieghibihbafdffcdggiahdbaehfhdfgabdeiebefcfiabbdebhbdedhcdgiicacbbbbbiaccbhbhccgbchbbhhdffcghiicfecdgeafheheaaciefhfgbfhffffaebibcicbcahacigbbhddicghfegfhachdediiaedagfhicdhghhfgbfddhbbfhfcgicbccfidfdcdhgedgfggbcfehgbdibhffdicbgaaggefeehachchddcaccgfihcegbciabdcgfgbbdbiiafhhhgbbbgaeibaggaeigcdhdbfbdhbgifiaghdififadaggchhebbhifcdfhiggachbdbaggbdifgefagdebbifghggcdhaiaadfggiaghbcidadiccdadhegdbbcdfafciahaihieagiagfegidibeehfffibcaaeeggbebcdiahhfchaeggebecccdafidfdebbcefdiffffegahgigfeebhihfefbafggbahfcibbaagbidbibgccbhhiddieeafgccddfbdabcdbgibhfceedfahafdicfcecfhhbgddeeciheacbdechgcdehhghabadaifeffgifihdghdbggbfifeagcdhgiehbghfbiaehhefgdgacbcfcbigcegaffichebcecegdicbahdfdcbagcchiecgihgdbeigihabcchiecadchaghgbhfeifdbgbaccccfhfeiiidbefehhadegcecbgcbbigeaahibiicfdacifbidcffdhheeihcbbbbigcaiegbhdebeggdbbbeaaheigeighfdaedgdgafidbffbcbcfbhchfbhbegcbificiecffhcgggfiaagibfhfbhigifeedhcidbfdhfhcbiabfbefcgcbcfigbaaidaecheedeafebhchdfgfaigahiehiebifcgeeccgaehaicfhfhffbabgfedbhdabdbbcbbfagdibhceicchbfehifcdbiaaaffbefbfahecabbahibbchfbdggieifabdgbdeiefdhbbcdadcbihefhiggggagfeiffbccddgecfggbbfaaefhcggdebgadagfhfbaahbidcabcbgibcaehgbciifchacifabdgdhdgfhigbagbgfhiebcehiffdibhaihcfcdcffggdbdacdcegabeheggchhiihibahfdgcdcdccidigcbfbadighdhchegcbffafdhdhfchhcchdighiacafbghidbdhechbbdiegbaegcaidccdifeeeecabhfdgcefhchbiddahiafhcfaadcfhfegdfdgdcfacedabghhabgbiddadieaifcagadbibicchdhadgdbhadedggffgffhbhgfbhfhaeifbgedaeefcceffigdchebdcdgciibgcbeebbbhahgedgedcffgicagdcgbgeechdcfeedagbidhifigbdeigiadecgeddacficbfeabeeigiebcehhedccbecifhaehgcehbgedbfbbfiafbchgciccfbhgfbeaghbgbfchgcabchccecechdcfedibaebacfbgihieciccehchhbhdiaaddedbibdbebbacdaehgegffehfcahgdgcehihgchfhhicaafahfhadgbiihebffdffffaifefbgfeibbgabcbehdddggbbffhcfddedcdgbcbbbidaibbgbibecbcgggihihfiaefdbbhgdigihcaiaffeidedbhcgaeebgiddfefeicaabdgdfgffcbhfgbibgeacbaeeciaibifbhedcidbgcebgaibifbfdhcgcibgedeifdeihfhhebidbbiafadgaagiicghiibgadcgiaghfddcccdhiigdcgchhecdaccafdficgdbhbbacbebicgghfbeieggidaeefiacedahhdbfegedbfgigieihdhgbhiabdgchbagehfabhgaggeeehhhihfigicefdichedagdebfhgefhcfabcageffgagcaafbiggbeecebihdbagdeehfiaebgicbcadhichchbccbfaggaaebcffdiegdgabdcccdacafdefaeegdihfeaefffbgdchdaaeegacehhgihdfhfafhhhehideecbagadbfbfddadefcidbgficdbbeghgageeiahbbbbhcbgfaffichahchdeagabaaachgfgbhgacibfibbagiaadgaibggfihcgahadfichebddgehefgeadchdghihcfchfciffffghbgbgdaefcfhcebffhadbcifdehbhcicfbehhgchhcicaegfaahifhhchcdhbggcdabeeigadibddaeffcachgfichbdidieihgaeaiahbfgghgffbiggcichfgbdaebhdedigcghaidggaiihhfaebccigdhaecbfdgbabgbfiiccbecdeeaccdifihffhccbcifhcedhegfhgfcfbffcdbaahdieahdcahgabbdcfhbhaifffdibaaiehgfhhfdibabbhgcegiabahagicigceaghfacacccabbabaiabaafccacdcbceichgbfgdgdgggihfcbdcifibaeaffcdbhhahhccgffgggefbicehfaacfghibaaaffhahciidieiidiicfcaaffdgagibhahiaafgbfdcaegdibgedhibiidgdcbbecedghhhfbcdcdcfdidaiecabidcehfdiagcdfggbiagchgeaecfefcheiagbebfififbiabbihddacgiaiiehhbdgfbafiaefefebfacbiagihghhfehbifgfdcbfgacbghifeagiacafgfhcccggigbgcebfhgfdigciccdgaebcabbgbgfaehibffghfgdeaibihihbibbibfbgaieegbacaeebhfebceafcfeidbahhbciegfehddibdbbficahadffccebhdeeagdfibffifigeebhidfcgbdhdhhaccfcdcdhdcdihheagcaidegdgbgeeafecaccdefeibicaihedhgechcggeebehaciggfahdhhhadbgachcgfcefecacdhgbhffbafdcbbaahcecdigheaicihfbbeidaeggigfgifchggefbeacccdghcdgbiegfbacbchgggbghdbcbdbigaacifbbbedeaeifebigibcahbicgaiihghbceahichggcbebdcbfcdhfbcahaiebbfifhiidcabibcfchageaebcagighfceddcebbhiiddfifhfhaefifghibhdefeffdadcebhahcahigcedgehhibagddbbhgehidfbeaafegffhcbhbfffgdadfhibgcbchheihahihaeedfddaggagibchabgahdgehigdfageaefcbebdedgfgfhhcdiccdbfbidagadiaedbgbdficeciefhbgbhhceibgghaicaigicfhbacibecefehhcedgfdabdhgidffbabbdieabacabdgbgdbbabccbegfiahgefgbbbdgicecfgcbedcegghbdeiiaabbfhbccehbdffiefchfbibdhgeacfhfcahagfggadhigafehadfheeffgghgieagdgiadecdbbbfecciahabbheiheeedageaaidcbgddaffhaffffichbidgaffecfbdfhbfghgfcgcfdhgifbbgddfffaiibdiidhaaaeefaaafabhhebcdebiiacihfbidifcddefgaheafeefcaiehddecfaaigabcdecbigcdcbfbaidbfbcaihiafgcbebbefdibddccggeachebdahadeheaecicafidadgcicicbffghefcedcaieidbbdhgaahhfffafgiffdghabeagebeiiecgddagcihifacccfggeaiggddieecfcfcehbdfaagdfgbefeghafhbcbhgdecdbeefbcgidhffghdabgadehgeafeadegdfbgiddbfebdgfbhbbhibgheiaebdeddfciggbdfagciheihbiggbbggeaaddaadcehhiiddcefbhaeidggaceciaebbgffcigaeihbhchiaifghdhifbdbggecfhbgdiihiddcddachbdafcfafbdfhfihcdcbcbidgehbbfcehbbdhgdbghbcadfaegbdedhdahdbcfachhifbbiiidbhaieificfhdeedchicheaecegdgbcbcbcieefihghcfhhhbfageicdcecbdffaeifhiacfdhehbbhbidgbcaacbfiaddcadbfefbdhafgigbabdfgfgbfedgcagbhciadeibcfcceddagdafiihieaghcaiabhgbhhcieibbabafbbcdahhggdeaiiiabafdghgdiiidifiehbdfebhciiifeifecbagegiahhehiibebfegedebaheefhdcieeadehfagbdffgdbigaeddgdiciedhggchaaieidahbabcchacheedbadfahdgdcaecfgbfhhahefiddiacbhebccifdcidcbbechddciefigdfebbaaaedcggheagaeaicfcbehgbeefhaaeegdbigchdccihibbefhhgacieeffchcghdhbbgbdfcdefadcabbeceghhdegdaibhcbceafbahchdeaigbfdgdifadidcaefaefeiecedcbicdhedfbbfgifihifiaccedgbchehbbihfihdfacbacdhacgdgbeffdicfaihaeddidgiffghdhhaiedceedebafgghhaabgifcighhhbbfecfdehebgebbgffaccfbgccecbigdfaiigabfbdefdbfceadhieadhghihggedacfbhdbdedagggabcfacfdehabebiiigeaggbgaaahaeeghfcfeffghichgdcdbahbdhaadacfedhgedaecdbbaiabehedhhciffbabghhidbdeaacaciaebcebfifiaghdadacaebdcbdeacigahdfiefabggdefccigeeihdbaaeebgfegeeaecdheeicdaihcacgdicehhcacdiffcegbfaececihfgbdbgddfefbedbadabiecggbhffcegeagbddcfihehcabfeadaaghchhbgeiabidfbcbdcbccggchhbbdebefacieecfdibeegadcfihgcbegieiecahbfgdbadiiibbifdfgadcfaefeedebcehdgeagbbaifbfiedeaaacfhgeabgegadeaafgebccfffggagbeegbgdgeidcgecgigieeghbieihhchdhagffebcaeecihcedafdfdhbidggehefbbbhebahhicfaecgbggbiichfeicehagacgbddghgfadegdahcccceebhgfiheaagdabadddbcdebieifbgahfaieehahighaiccecbegbhchecifaaffeddbhcebgagafdbcaiggiihgideaggghgaaeefhbbbcegdfbcahgdchfcghafcadibdcfbdhieacibdebfgdhehcbefbbiieibegecfdhfeibhbfbdhcbcgbbabbhffedfaifebaiehdgiegbfedeegbabgbdibdcheiaigeedfhabgicbbggcdghbdbehfegacdahcaadeceifefgadcacehifbbgifihbcdbcdhcbegdbdbfaaiabfhacdccdgihdeaedadbhebifggfihfcaaefefahiiceeiedegaibhibiaadfiidgdddfgafiiibfafaaigfaifiaihhbfbddhgfhiachebedefghafbbabcgbbifdffiecgfgiifhiacaiiiiddaigchcdciicbdhfaebaidficgegfbdehfhiiaghhdecdihafcagcbhegacdfagabhhdfgeafhbifdbegedgceceehdbfffaecccaebgfgeaebhafibiebgbbececddgggccdcfdffhiaffebbbbccgbichabiahgcdbddbffdhdiicbhiehcdefchgddddhhiidcbdhcihfegbddhidbbbhfdgigfeebhfchfghfhhibegccbdgaeidccfaiciaiaedeiichhbfaedaeeifbeddhbbdgdgdbeedecdecfibgbgfafgiabbbibgegbebfigfbbgdebhibfbbhgbdfebegbgibbgdeebacfcfdefcfhbbdggbffchefhehfadbdghbgfcdbfafhffeiihcgiegdfbdfdaghehcfbcbacciiehbfabecbfeiagficbahiaaidddibicbfefigdfaheddcdabffeaebfgeeebhaefbfcegffbiaahcccfcfaidacdcbagbbcdhdcdfghcigdigcdbgdbceedaicdedaedffgdfghfehaeafcicdfiadefeheehcgbheaeaeibcabaeehgcebchbbhfgibdbghebaididhiiagigedacbhbdbiibhdgiefgbhigfabfbgfcfcdiibbfdciiaeibdidciiahfdeiidgfchbfiehbaicgiadfbfbcicggighegaccdabehceagigebcaaafddfeeghgcidfaachcbgdhfbcaeahcbggceaghefggdhceechfcbeagcicdggccbcibbihddcfcahhiiddcaaegegbfhfgabbgibiccfhadgeaegcggfafbhcdbgfgfffgfgaabceicchcbdafhicabciadeegbiiahaiebcgdbabdciigfeggaeifcffiiigihbhdechahcbcbadiedfachbhdddgcghdhgacidecbegeadecgfhdafffdhecfddcicciafbccagfffhicihccghdbicggaeghbbeaagbfdhbdeceaedeiahahfaaebabechgaabdbfggfghfghbgbffefcageaacebfcfabdgahchfgheebaagfeeccieagdighaffccbfgdfdbadheadcgehbghcaaeicidafchgbhddeeececcfiecaaficihifafdecffhaffhfadifaghhaghieegccaacgbfdaifagcfgabeibdahbbcagfecbbaifgcfcccafbaagahcfdghcgbcccbaehghagaececigdafbaiegbghedccgdffiaadgcgcgaefhefcighhiifciicihgeeachaffibbeeeahhifggegbgiaaddgfifcbgbedeahhccbacbbbhiiidhdgedhafahdiafaghgfddchdcbgeadhbcaifdhfifbgbeegeaccahhhafcahfbiafigfheegabcaighaihcbefcffdcbifdbccddahifdffhhbdicggeiafibbehadcchaagdbeebiicaigfbfhcadibaagifdahfdchbfebbhidadehadbdgdibcbbehiahacidagbfafihbicbdhfiageighbfafafaafacbbeaieghgeeghgfgabbhcdihicagbciadhffchaddhgfggfbidaifaiceddabcdgdahbdbdhbfgecefcfbffbbgaahadbgbaaggaeihaabbabiibfggegcafgdhaabcabegcddchacgecgfafdbddgibgfcbbgigcgidcddhacbahcdffcebebdfghbdehfbfdidhbhdbfdidhffegicegedddggcggcfgiaghccgfecaecfgeedabfhadgefbhgbffihihheebgfadeabiiggibbegfghigbbfbiffadbiiigbdafiiaaaedfiacaiihgdgbacidhiidaigfdfifgbgihifdgdeigiahcfgfbdagddifibcdadhaebdaifhggchebagdgfaiigeadeedcgiedieaiafgdcdidhfecabbbbfhiiaafadiichhfhdgghgdaaggghhdieahdhgihbfffdecifacdhabbghhcahfcbggbbihedadhbacchffgfefhciihbbaifgahhbacbgeahiahcgeehdghdabagaiigaeeheehaffadfhbbfgfiigaieghaddeecdfacfefiechhcidgdfabheedefchbaaiegacbbifbaificafafficidgefcccfbdichbecaaeihgdhfciedhhdaigcdedigiggaegcdacaeahgdffdihhcahibaiegcebdffbfiigcicgfdfdgfhhadiadcceedefabchighfbicabccbecicdhieaihibegihbigcieiafaffedbaefeifdigbcaaffeefbeabicegfgcehgeaagfgdcehadcbcdfgecehchcafiacedgideiiffbacichgidaeaagicgghdefcgaifdcichhdceggffahafggbbdgigbbdhgbadeiebhhfabahaccghifgidfdgccgfgdhibahfccbbbdcbcdgciiiadcaiaighebbccdaidceichchbigeeibfcdgcieccgagicgbegffbhfcciifbdbeciigfbdaccfbecfdhgafhacdbahbdddbaehefigddceiggdgidchihghadffbiedacdicacaabeedcfehiighfidgebabcciadcihaehfeeahhdcbdebecaaighcgcffiidebabfbdidcghchgfbhiegeicghaigabigihefcgggfbfdbgdeiebbgfiedeigeiidebfagdigehhfaaggaecgaccdiagaifhaeadigiacagdeieghbcaciigagdbfcaahaddaceacfhdgbhcaacdhegeceadfhdhdbifigdcefcbhhcdcdfiabccffiedfiaaccbiiigdagfdadhfabheacghbciefdgedgbbiggighggihcdbfhefdahdigaiddbcgbgadbaegedifbifabaehghdgficcfhebhbdeggeeiegcdbchdcaiacccbdgcecidaedicbhfcgbdiifhgahfbhiehbgfabcaaacacdbcecieabibdidabbhhibacihedcfcacaiefdaebbdaddhdhedgebebeadfbhhbhdgdghcgeeaahhcfhcdggcaagbgigfegdieabhedfiebhbhafcdifcfhhiiadifhiahchhecedibfgdibficacfdfaagegehbfebciihaeibeaadciecfeibbeafgfbhcbhgdhhhbigfiaaegbeabfiebhdbichehabcchefdaghidcheaigghhcechdhicdcbdadeidbdhghiidacdbbfcihhfadhgadiffaafdhdicacagfabgigcdabdgfchicbhdheihgedhgfbcighafhcedhbiibihfgdhaiggccfigcbiicaahiccghdgbagaifbcicccbfbdbcahebdadifghbefhheaebegfaaecebcbibiiiaiahhdcgghfghbchahbgibdciaacegddghibgcacbacfhgcabedbahgicfafgecccgcadaaddbdaeggibecfgabbeaccfdfbcgbdebiehifgagidhdghghchceiaefeibbhchdddaicigdegfeiagfbbdaigihhaehcghacebgchagdeffgedbddfgacdcahdbadiaabfddbcadaagdghbiafihbgfaecggbhfcbicchifdbeghbaghhffdbhbgcdhagdeehdddgegcefgeicadadgbibdadiabecgfafdiffhccgghaicaaaihddfeghehachdfhgeffbchhabbgdaechicaeiibabcbddgbbaechdafggefihagieebfihggbggdgiafhdahcgdecaedhfeeicgahbcbbbfgdcbgacihhfaiaibffiahdiadicgbidiicedfhbcbageecgfbdecaifcbdehcdbcbhabdfbidggaiaidgceggcgchchagigdigaeiiiddefaiagdbfcbdgdaddcaifdidhaicaafghgfbchahbfgeibibaeiibhcbaahifdaihhfbieeigacicecidacbefgeieehddfebcdfbafeeafgehbggcffbbgdbiifcghiehbhdhgibhffdfcahebacgiagadchaiacdiggbbeefbaiddgffebbiefddebdceaiiidbhhdbcddbdbehibihbeaeefaiacehfcfhbdfhigebifbhdiaafffcbdfcegdgaibhbacaaafahacdcbggcedbiadicbiachchdagbgdbbhacbcfhcbbdcdffbccfchgdefebbcegbbaicfdbfgffacebdehbhbccecghdhgichgecccfafheceahcbadhcccbfcehehahdgeefahccfbgbedfgbfefccgccdeibdadfacbidgagbggcfehfchhhaihibgichefadffadcaecgigaieicbgacbadbbhbccbiciafdgedicedecigdhafccdchcehigafgibddbfifecahhdgfbcbiiicgcbdibehacddcbebhchecaebedhbgbcccfgccaegbhcbhcicdafbdfaeabcddeeiebhdeaecifhiiahgbgaachibdceahfgedidafbiggehdfahhighhibdigghehafcfcifieaeeafcaddiagcdgdcdebhbhiidhhhhdeihgefgcacfffgfagabgdibciahhhhibhfiheffgdbdehbhbefhidbdabecfcdiaaggcagdigeiechiegddfiaebbfadhchedhhggfhadhbgfgfcgcbgegfbfgcgfcafigfhheaffhcibdbeffiaefhfddacdgiagihiedafhbhbfbdhhchddifchehhibaiadiaiifgabhfdchhcbcifbaeegdiedeiaefbagcfiifhhgbdicgdhiihieiacbdacddgahigfehdhibibcecdefgaiihhcdihahcaacdaadbdigehfbhecgiiaeahihheeficbdbdfaefehaggcchahfcaeafebbaafbaiadhbbdeigcadffcbeceafghggchbhghgbebcfcfedegdhgeiffdhidhhdcfgfdgdcebecfchhddchfiaeiedidfgabcfhcebiieeaiccbbedfacdhegbeedbegicgheghgeehfgiididedffgihcagghdebcfcgccehdhdfaaefgcdagadibbhcfbiidciddcfgcefdhfcdhhdiieecafchbhahihicbhicfbebhgeheaefddahiahfaebicdciicddicbeicibeaaefddacgafbaigceafehfichfidddiiidecbhfbbidegfegebgdadcccbbihefhaidichaidcegahaigabiiffcgfbdibfiibhichfahghbcbbecdbcciaadcehbaeaehcidfbcffhcahhhcchdhfeefbbcgbeadibbgceibeffbgfafiieabggcfhchbaagebgcgdfeheabdgghdeciefgiabchcieddeigiaegfagdiehbhcbbbicbigcfdbhibeihfbggafcgeegcegbahgifdghbeebfbhdicidbdgcibbchaicabbhficfhbbcdhcdbiifcchaifiddggdbbdffiecbdfdbehhaihcecadegibicehdbibeaecdbeabedfcchicdhchidhbfbedcdbidcgbdhcahfdaihccbdehfbcagededaichbcdiacicdfeifagadaidfgibgeeichcfdaedabgcachacdffffdbfidhfagfgdhdhbdhhgceaaggbbabiiefdehaadhdafabeciiebdgcgcfegecieabeggeibgfbaeggehcchidgacffgihgeggdgbbichdicgebddidhgeggfcabhgdedbdcafgihbhdihfbhhcdfbafgbcafcgbchdgdeebfeidafaddiibbdhecaeaffdfhibhgbaidbifehagagbcgbhcaecdbhabbahbebgadhihbdiebafcchficebceagbgbiccfdaadahefgehcfgbgdgddfeiiefgbdgddccgiadddedegiciahdgafbdeffbeagbeagfbicfhehbddebeigdhibhcfaaagiiiifhfefaiagaieiibihidcbcdcihabcbddgiibifhaddgehfciefgdhbdbdehiacddcddicibbfhceehgifaidbedchficgaaiiifehdegibceabdgihbhgggigfdcachfaaiddagbefhabieafcichiahefbcafbcciefaigddeebaahbadgbhifhgdedhbgaabfiigecgdadaiebcdiedceefihaeefahgagcicihedfcfdedbcfffggfbacighadbhdcibgifhieehdagcbiaigfghgidgiagdiaeaecgaegaeibeceffeegcfgdggabccdedfbhchhgefdabdeeciedfibheigffigaiebehahahhhgbcgahggaiaecghbehifdcifahdichcbibfhcbfhchhhcfcifcfahabfbahdabgeabfgddhfihcceefeedciffhgfagibdifahbifcibebeeiifceheegfcdabicbhicehgagebahfihbdifchcdebbbffehhggdefchdedcgcebigdefbichadfihbbicbigiabeccbeaifhaidbfgabdbaabcchiebeaecggbbfdahehbhecidcbagcdhcecbbeegchdaaddhhhbfadfaifcaaebhihdbbiiehhegfhbgiiibaaebcfahcfbacbbheibiieddhdcgegdhhbcigdiecfcfaeedfhieffbefagfecgfhadiifbfcbbcifgebiiifbhcaifeeiagheehgebhhgehdgabhicbghgicgfbadhebabbggaahciiefcefcbgddficbacdhahegadhigifiibdffcfhecgccieheifedafchcibbdbhefbgiabiehccfeabcgbhdghefgcaiffeeaicbchchcbiibadgcdhgfffeaaebdegcbdccgbbgahebieaigifidgdfghbaefgaicedecaggefbhhabfidfahbiibdhbgihidhghigdhibhheiebchagefgabfghdhaaddbehigbacedcdfecgceacfihhafgdgcbfefadegeceafadgbhhgdiefebcfgiecabehbebbaagbchfdbbhefidbbeacaggaeidhgbgbbeacdfafdgdafhedaachbifiheicfchffcdfadaadbchbbebibgabhiiihbdgbdibbbgbhgidehihibheifibibaaaghedegfgfaihcehghgihafcabighchfifbbbachfbcighbiaiheidhbdchhafgdighccaciefeaaadebbgbiiabbeibgghghgibfaibaidfaigggcfbgdegedbfehcfadahfihiicachedebhdheachbiadfdhhgcfaidichafgdghccaceeadfhedgdacfdhgcacbacachfchdadfccggfeigafeccieheegdeaceidgfihfgifehidfafafehcdacehfedgifbhiigdhcaghhcahagaaicafifighdhgfhedeahfbaafiebiaggcbdcdfbbggdheaiceicbcceghibihdfcecaacdgbiiieidiecbbbaeddecfbchgfhbgafcdhdbfdiabhdfeigbiidbeadaeghdgfheeeadiiiefacedadgbifdaeaicffdagbifahhafhcbiighbadcdcibchfffffbfgadggbdaiiibdefabbgadfgfcigfdeaidbgahgefhbaicdfccffhaheegibaghaifbebdacbfghhehhaggebicegafafifcfghgadbhafgfdihaacahgcbbegificgadibhdgdccifiifhgfccfahbbdhbbgehedifaficcgcicaieeaaeddgibibeafggcfabciaaabbfebegdeffaibcahbhgbbifaffdbgfabbabeibdfafafceidcicaggcdcfagaahdfdcdgadgcdddhgheagebdacgdgcehcgbaecfhhbffaggeeggccabhgbddacaebfahaebhffcfgbhhgdeiadbagcifeafahcahcicdbccadcgghdbdcehcagfbheifccidddggeacfigeacbaiaedifcfaadiabdahbbidagaaaeigeehhichecbfdehiadcaagiaehgegchhcghgggaaagcebchgdbffhedfebbhfhhdebbahhehffibiggccedebfgdehbgffageabibfiafcfegfcifchgeacgicgegbhibhabbiagddbieicfdaeegefifidaiagdaidceeehchfbfbfeedhbegfibibdfbidifibaeacgfiiddbcchibdieigbfgifcbbgaehgggaigfddhebehedhdaiaeebheibdidccgbaghacccgdeffeeagfehdaacggcdidichdbgbccccfhffghbiahecabbigbaecidefeaceaciefedbfdacehbifeefecfedcifdcbhggdacdeadeifgbehchbaadcadcggieceabbegiegdfhdfhdcbghdfhfafibecdccdeddeabebgcfeghehaggdiigeggdebdifdgeaeafdciichdaehahgecdiigfgafdcdbdedfghihigaebacihieggachcgihdidefghdeafdifhagehcabhfibcgabbifbfaceaggdegfecfgchcacgigfcdhbdfgbiaeeidbheibaiffhcdagbhaabbagegfafhcffidaefbcdiedghbbgccgbbeghaiiedebcadceeeebdbedaibbdighaccihifdhbbhiiefgbbgbghddfdcfcbbbfdbbdiidhifbedfehbicgihaehiagedfeggcgafbhbdiabdcggiecificceeideebfabgfgihbifdefieefcdaieifaaefdfcbfaacicihgbdfbaciahehigebdidfhhafcecdbabccdhfeefdgihiedaibbfabafacfghdeagiicehcibhdbddgificdeeafdgehdfdcdaffafcagebfgeaagidfdcihccagaafgifaffiieaeafbbcihbhehihecghcidafachfddcebaicegificbaahhidegighdcgfhcddfbchffhehfdhbhdbfdfdbbbahddcabcgihaafgaeacdbcachhdiifhggbcegacbddbfagahcacbiiebbechdgfddiccfafebhcehceafgbghgbiabbbbbhdgbiihfbfecifeacbfifeabgcehfcddicdcadeigabdbfcgiacadicbcgefdbafbgieciebbgheahhicbdfefbbbfhdbdcfffihdhiaddifhidbfagghbgiaccciahgiifcifbcihhdffhceidhhfdbdeahfiicicbaeiiacfgdciidefciihdfddgcdicdabihifdifdbefhechefhecbfcaafhdaaahbiggfedgiaeddehgchbhfgfdehdddagafiacggacdchchghaabechdagidhfdbgghifaedfbdgdbdfihhbaacbbiccecgcdeggcebaidfdhcbibbdbiihidhcdeababiihcbibiegeadecaffadcehiheieacdaibgicehihidffbdchdbhgbicbeaibbdcebdgidiagbhbdeiafghfffifecicafbecgbgdbfgcifcidahefbechgbbfhgbhfaiccaceedadcbbhggfffceegcfebibacaiidacehfggbeabeibfdecbgbcgaafabgbdgebgiecgchcefhecgabigedhiagfiggihfdeifgbieeegfaaahfhbgfdafiedgihdgfafdecccaihbfbidfdaahbgdghiaiaffcfaahbgbadbcfdifbhbdahfddbhegigdbhicfgcicheheaidbadcbbiidbfhdefcgahhfcdighdihaifgcdcccgigicgdecbiceecgdaaeidgcccfhgicafgdebhbbfdfdiedgecbfcfdccchbddeicgcifegfhdfabefdeddbbciahdcgbfdcebceegidfidffdcfeifebdhiccbefdbahhichffccegifchbecgahdcgdaebieeigbeifeehhfaeaagigafabaabahfgdadibcichhiaacehbibdhbicegdaebidcgciaagfcffgfdfifdfibibdcgbidcihfhggaegeehciifgiieiiiaefdgabheigdddacecebigahheegbaibbgfiieiggbiahggdgagegdhbaaeaedbbigggaedebcbfdegaiicaabggciaagaffeebhdechbhcbcdbhabefabfdaffigbfabeigbideidiigbbgdibggeieagdifbghihfdfafafefgfgdibgefieecefgbdfhhffhfeifbahadafhhaabdfeebdaccaaidceadiebheeggffaaigccifffabceieiefegbcfbdfdaadbhabdghagababfdhgdfabahgdbdhcgecaheagabbiiidggadgbhahdcddchbfhiddheigdfadicbbegbdceehhdafdcheffegebigacdbgegibdiccfibcgaefhbhfdaaaafhfagfggiiedgaecabbfegcdgeeicibigchchheffhhaddaefegbceadaiabaegdbbhgcdadiaghigfggbidbcchbfhciaebiiagbgaecdhechgaeidcifiecigaihciiifbeddbbedbfhhahgggihbicggdcabafhiebagabafcahcabigbhhdfaffhceiidcfccbchbgdihfihcgghfahehccafgbceicebiffachacbccaidbbhbfhdgfaafagfchgifcdifacdfccaieffbagbgadegfceigcechigifedfhafgdgfgiidfagadeiedhahigbeecdhhdeieiehigbddaeggfbefadffbfahddgbdiecagfeacacgagebebcgcghhahdedebbefhabiedhefciafehadcebiadfaceaifdiefeiiccafbhaeddfecgghdccbebcbdidfdchcadiafbfdeeefhieiaegaffebehaeiehgdehdbiifihgiifdhhcdfbdchiecghhedidfgbbgdegiddacegiibdfdabgdieehbcgahdeagbiffhgdgbfifecedaaiccghbhihhecbgidehabcdbedchdbacccdfhieciffdfaiceechddebhhdfhefdcbfcecaiififdgghfedacadccabbbcfcbheaachiahheagbiafciabfdfbfdagfeiaagifbbeghacaihdaighihbfeecccbacahbhfehicgibdgabfigcfacaeebffbdhaifdddcdcbhbegdhbaggccafhbigieageeihhdddffdcaeabeabhgdfeggfcdhdcicchicffbfdhfbabiaegigbeihbdiaffghdgiigefahffbcbhdhigeighfecfffdgbdfaidabdbegicgdighbfeeccahcigfegehcaibfcbiaihhcaibaidhfgfgiccadhbeieiahgbibddchcbaigeaifhcechihahehaifbfbgbhbgcabibfdbddbhiifhgacehhdhhcfeigbhiihaacgfahhaeiehhahhaieaeihiaehdgiabfecbdhgaabcaiiadghiccidcghabeifigifacibafaheabdabigfeghagehcegichdefhbihdfgfhgifgifbfifcdahfgcaadghiacgbabcbfaacadceddeegachbcicdgcacedcdcccbdcdhgdhcbaicbaibifffbhgcgebccacgciebbfdcddadagagggfidadefefbcbhhgadaigchcagffeaaifaeaadefaaiebbbfbfgbagcfbeiheaeeggdgeagiieagdffahaecgddbceebafbbihbhecighgbbcdbhcibaedfhfhdaiechbfeibgdabgbffdgecdiigihieefgeihgccefgfibidbigeiccciaigbebiabdcfccfacaiaecbcaecddiaibhabhiecaigggcfedgacighgffheiiegfdgbacdchgeccbfdhahgcgaaiciidfeegdheghfibdhgbdbbhcedaicacbfeigccigcggedbeagdbbbeiaeefdchddeiegadaeieaedffiagibhdcedidiiehibhacebdiifhcgbiaahahigbfcfehhiicefefhgfaahdfdedgdbeaccbdaddhagfdgaafffefffahhhecdfhchfdffgdhegbgghddcebdffbabgfadciddcgghbhbcgaaeeeaaciggcccidgedfadddddaebidhfhagdeaggbddddecbcgechedgcebfcccbgebcbdfefdfggeachehhafcdbcgdddiihehdcfifiaaeegcdiiecideabidbihceihcchagggbfgaeecceggefigfheeigfegdfdibfbhadfdbedbifgbigchccfeeiaiaffehgciibbbfchbgahgihbddhhibdcgaaecbhcehgdgibaeeefidfdiibifaieiagfceadcdbfifdfgadcicabcedefaacdbdchaihdhafaefcgiafcifggfgfdgaahgiacaefcfaahadibaedcfabdgiefdeidibeficibfeidiccbicffgfibdggbcgidaafdefbhddidbhfeifdgacicdcbdfiebbgcdbbhbdhgdecaccggbabdbbbdiaeeifaibbidbgideecigeafaeedhiihgfcibbicefeiddffgiiaibddchdieaegghfghdfhgbbiedegabeficeafieaiddiefddhicffecdbcbeaebbccadgbdchhdbeacafifbegficebfifgaedidbaefhgbffdidddbaggddfhcdcgebifhcafahbfafiihadfbbgfhdiecfceehdbdcefeadbhdbdacgbagbbgabgfihigihhfeegidibdbdaicighhddhgiegedgfgfabfchaibfhcgahbiedabgfahbdhaeehhbceaeichefgibcdghdfagcifaiadiahefdacfdgfdgeieieiceedhbfbgighffdbgeabigegiecfiggafiibadidbdeeeihbdfihicigfbhhibheegedhhcdiifddbdeihcabifafgfcdhccdagcheiafdcaadhggeiggaeabbcfaafbfchdiacabggffehbaedaiieeiahdaiafehgchedbbedcgfhbgacidfifaebbcefccdhadhiheffagdcihehbheiciihcdccaheeieafccgdbeachfhedgebccbggbieafahdddfggceddiggiffbbhdadfgahhchiabbfhdedigfeabacdifegifgccabihbdcfiehhhbdedehggiicicdbeegeghafeiebhddhabhhbhiefcebadbddhbigghhfgchegchbdhbfheciabgeidcibdhgfbgcaheheefbegdcabfheideffabefhgdfdgchbhfhdbaghehaahgiaigafichahbiibifaifgahbibgbheffihhbeeaageiaieaidhdgfafieggaadbiihaaiheaiccbhfechihiadaiifheahhgdefbiiehbdbigfbffhcbadafefdbcbhecbfeeehbhaicfgcbhffcaeaihedchgbbbfabgciccbbihacghifdgedddhabfdfgagbiahbeheadcaeahaecbdgbfafidiahhbbgcfhachacibhchbfceffafgcagiibghcehgfhacbihibieefbdiecfbdadffddhcdhihcgfhfbaahcbifhhhbfegbaifhfeibecfhgiffbdiieibegffbcbideeefeabefbdbhbiedchdegbggbdaidddiaabfbbaaadaeaebhedegfibhhaffgghfacfbhhfigagebebfbaeciaifhhdggfahaedggibcicahcigecbdidecbfgcebbdegiibggaaifbbaddcddefaidifcbeahagccgfadbgahgabhfdffcaacfcfbbafihefahagdhagbbbidadchciibceeedfeidhifdeciccifgfbicdcecidebebiahcaifhafafdheihbhahechicdafcbegecbdicfgebddccedfbdbiaabddhbchagcbbfdfebfbifhdhdbaeaaghfdbaedbbegcadcddhddgdeieefediiahfbeiecbehdeihcffgcgiagdecfhaaehheidhgfchigfaebbfeaggbacbgdgcidhfabhddaighagiidgiabachcgdfchaeafcefhhbgaffhcffdaefadhcgehcbfdbdcfgdahcdcbchfdefhbifedgabaddhchcdcddhffhdbbgcheahchgbcifhfaiidbibbebhidaddfceacbcaidhadefegbgfcgeahaideadbghdbficagbbcdcfabdaibacadhidbfgfdgibfbgchabbfegeeeddigddhhiigiibhfdifbffaebhgigiibiigcfdgaiiihgegaaghdgedcghiecceghgheafdefiabfaiifhhdiegfhedaeeidcbficaaidghacdhhaaifghcfddgcgdeaidceebfffhaebfhdhgfefdichgfafhfhbcgiaiaciceghbchiadhcedicfaiahacihgcdcegddhgccfbdagbhhbigahihdaaeaaciadecaaebfibeiicchdgbfefaegeigadhgbcicifadcbhcafegbgghdbiiffcbfcdibhihdgafbcbacbifcgdfiidgefiifaegdheagaggcdhiiibeidbegeahhdafecccfefeicfffhidchbigebegadbiihacgaahdebicfcbfhaabbeegebabbchhbefcbfeibghiegeaghahfedaeggdbcifaiebfcfhafggdccfieadgcbbcefcfahbdeefhdhbifdbeeegaceiibgefacddbdhhebacfddeaceadeiebifcaebfhbbiigdebgdgiacdbaebehgeeefdaagdhgfgaebagbhdbcgihcdcafigaffghcbgehdchfcbhcdgccebiaiddifeihciicaedeghfaaiiebahddeahghhbcgbghbgeahgfcifiegdfegcadhfheaedebeacdcgaicdgfdffhhhdbcfdafbhafhcdhdhedchhgeifabichediccabchhfahcfhdcdhecbiafggcgebgabbbfeifghdibgeficiiicdhgibeehdhficibibgedgfchafeiiebehiddcdfbecdfhiebcedaeagahiffhcagfchbedcgfaacbedbfigifbifhfabgfiefaifddeddicgedbhbciefdafchcfcedacdficgdgbhhdgahbbebdcgcfgheagdedhifchegcfegdidfeechahdahbbdagdgebdefeecdeabheifeacgideaebaicdabebehhicigdiefdaehbhfafhbbhebfbhicihddfiaeehceagibeeddfdcfefcadeebdhddhhfaibcficcgiiedeeeaafdaaeiicfiiaeciheiiebgiceiiighahageiaibfagfibibdiihcggdadbigaebibeadfaeaehcededbfhhbfaeadciebgbgehgiaffeacggbcidfcacbeifficdacfecaehibeieaacfiadgicfcceegagegghheeagfhdebachebadffgbibfbbffdgcgghbdiiieedabchbdeigcfgfieigcbaabebiaheebbibhgbbghffadgbafcihbabeefcbfcgfgdibcdhhfdgchaagacgicahghacchbbbbfgfbadefggichdbhbgbehfdeffhfgbcfhbgggabeiciffhhdgdefabigbbchgfdiehaeachcagghdecgchebeibafficdchadedibibficeeifgidhebhdaddcbeabdhabaiafeeebafeibfedchabidbbheddeceadacbdhaecgbiffgbgichbcacdeeeffdbdiheedgbdcdgfcaahcadedaidihiegdahbefgfeeedfihcfbbhagfdchhfhdhbdaaddfdghciehabcgdcibfgicagggcgefiebigddgigfbaieabbbcghegaghhbgdfaeeihfiidfceegaccifgchbbabacgabdigeddgbaibdfgaigdaddgfaidhhdgfeaebfdheehbdgifieeccfcadhaehgafaiabccibfbagcagbdfhifhgaidddaacebicdbfegihdegdhieccidahdeghbdffaifchbfaiggaahafagabciciieghgegbafaigchceaabfefecghffdhacdbfafdecciefeefghidafedagchfbhbafaeebgcggffddchbiaehgdhbdieefifabhhiibeadhaiiebfgadcahdeagfhhdgidihfbahdgffcbgcdhhdfgbifbhgbdchhfafhddibagbeifghdcghbccfbbhedibibfhcdihhhagciccaagcbifdfdfdiiihcbdhgihigfdiechbedchffbebbeffighcahehgfiedbgaagcebgecbaciebbhedcdheidgggcaeedbheacbhfiaccaebbiehaecabfcgehahchdgcgagdfhaehgcigefiehiadgidicfaebiiacgbifaibiaccfhabbfdafhaegiaaacadabfddbcggaifbhfhggbdahegfgibhiidbiicfgfidiidiihhfcihidddibegdbcbdgcddigcdidhiefgeeabcbbadggbaafbeagbdfebeciefeefbhcbcadhhebiaebhbafihahgfchabdhfhdaaihecabhagficeggbagebcfiggdbbdgbgiaadhbgdbcdcighgiehaehieghheiaaffgifeggciaiafdhgcgcehicfdgabccccfhhiggaiifihbgehihgdicfagdgghdghdcecideiahcabbghafgfghihiffifhdceehhdhabgfdeiichiiceccbiieedcadebhgigaccfeadgiaehehfhhhebccadceibefdeahedgfebeheffdfbigfdhfggagbbedgbhgdgedeaidifdafidggdbdggbihfiiihgagababdiggdbiehiediiigdeaaidbiggfehecgfdhdeifheffhbfghccigcbfbfdeigahfefggagfahbefdcefbiaidfcdbfbigffhccggaccifihchbcgdeiigcdgchcigdabcgcedhbaeedfdfiebiebafdbfhdheadbdcidhbgdccehhhcciibbbcideagdbbebfffcgggdgiiifbhebgefdgaeiciedhcfcgafheacbeacechhifagighiiccheigachdcegbighgdibdfahihhdigdedgcifdebhabceddegabadbefcidaidhbbdffigifabdcciefabebccebdigciadgaccbffdgiadhbcbffddgcihfbfefcbaegfdiadeihdbigdhgdddghhbdiabcdegebbbdefheddhedcdedabhechcgegfeibfdecihbacdhhcdibdadifdehiaccaffhecgcfcfhbfhbcchcdiahaceedaeacggahgbhichhcibfgfbidafidiacaiaigcdghbgehigaiegafcbigfbfddfdgadbcafafbafaiahdbcbagcafgcebbhheihgecifcgaibgibhfgigbighffiifbgggbbedhdeadcadfhhchdhbcehdeafcbafcghgiedfedeahgehbdhibfgcegeedfdibecigbcbheggcchaehgcicdeibdhbigbidgeaiagcdbcgihgcgaceecgadcdecbfehifaifidbffahfaidcacgbacggdibggceabgdbiahhdcfehagffdhdiggigfghbgfeabecihehfiddebcggcfiahgfcgcbbabgacegdbdbdccdbccabfeadfcfaghfdafedhgdeiigefgbddbddhbbcechchbcddideaefaaahgaegbdagecagdbffbdfagidhhhbibgiebaffbaidciafhdahcegbfgchafbaeidceffgdcgihaaaaigfidaefaigdeahcagacgcfbaedhacagcbeghcgcaagdcdcidhfbdgadgidabacfechcbifadfhibhadhgbidbagidadiaiadibiaddbbciehbgcaeacibhcfidbheabadhadhhgbgchieacdiahbfbihdaddcigfbgefeiihediiicfdibfigeieaagafaibhecfebfgdgbahbceghdebihhddecffchghiefidaaiddfcicfhdcbgdbhegcifahgafiacihegcgddghgfehgaffafhaiefhbacidcgcieeiagfdecefbgbgafiiddcfdigfbigfahdfghhichafefifaihdgggidedhahbaddeeabfadeggfifhhehcffbhgdgiahffagfbceccecefiaddcbfiefehfdgdhaifhfiahgaicfgecadgbchegeibfefffbgbbghicfhhdaidficgaegifbeieefdcdigihfccdfaigbcebicgcabgbdchfffhhhbfeiicdfddeefhegiggcdhfchbbdegbiaehddhcieiddciehcfddffebbdcddcgcceafceggibggdfcfcihchaahadgafbfghehdcciehcfbgccceihcaeaaacdecfgfbaidfdbfdehhafcegiihibegfhcegbichcdaegfchcdfiabffghiabbaafghebbgdihbgghedeedgbbfgcgigafahehdibdidicdgigehhbbhecdacgcdadddchfbficeagfaicegeaccfdhgadaddaiadfbiiegbdeacdihdbgebffeffgecfhdigaeicabhhebbeciaibeeegdbibbgghahbchhifaagefefhcafifachabdiahbageidihagcghheedcbhaiiabhibfffefahbicagfbdabgdbdbdfgiiaahafaabhgcdecfagceibbabaagiaififbfcacfdgceeadadahaegffadiiheaaicgahdfbcbgdfaidbbefgbfhefbfcfbggegaecgaihdbidgcddefbdgggieibbgcaggdgefhbbidbedfhbhhaaigcdfgccachhcfacgieeegbehfghffeabafdddabfhfbacegaeiachbfhgefccdibibccbgfihiiihfbigfaadichaddgeafdfbidghagichfggddeaacfbccffchaiafcgdfehccbdfegiihicddaagebiaaeiahideffdfdbcabaedihideadcgaahgdgdacaiaigfahhhbeabeihidcghbabgachidhfbcgadigahgaehhfbdhiahbbdeibiecihgbgdbeefbcahicbecifeghfdhcgaibcebhieggiceddaefbhabdddbacdaagachdaagfigedbidadbihdafigbhecfadbhbedhfefhfgfiddicgdgdghbaeiefcibcicgaeihdbcbddeihfideibhdaeffecdeaeaeghbgcafdbdgadgiaicdbffedfhibcgdefehdehfbbbeiiffacihdahicaadgaaaadaigccfgiebihdeebdegdidbdbfabiihbhfbebiaegdhidcfegiaiabehgchffiabbdhagfhdacdhgfhheficbiggfbhfagaaaciiidffifgaegdbiegdfaghiefdeihfhbcgfdebabcfbihhgfcicagiiicaeddcafgehacbdccegigcbdhebdgaecdiiebcbgifgebddbddecfedibagbfbcfcedaabfdaghichbbgfbdhfaebbdfgchecfaiceabgaagihcbegehfgichibaibibfabfafefbheedgigefdebagggfffgibdbidfihibgiahdaadbbhgghibgbiiidaaibaiefdhbdfciaggcgehahdiffbgigfhgbbgiagbafhidabbidgiciibgahafhdfihbciebccbadbfbfifadhbbicgbedcdhciiacehgabicdhdiihhbbcbghachfgddhgabbdfhdiegbebbhbaahhbfbefiiefhifgiaeaicdfgichhiagdgeiedfgcccffgagdahhdccdhbcbidcegbeffafddgcdffcfaaecfghadchfbfcgihcgighbhfbecfffhafdfchffccggbchcegeecafbgcbcbcdciacifeagebbfdghefgbaebeafhdgccigeicbicabehgchiadibagaecgdfbcgidfihebdefccgfhchiahfcaaigbggiibifaiibhigbdbihhgfafadfbbagbffeefgdcdafeigaiciddibcfbfaegehbecaadahfaggghibiggbfbihbdacaieicbieggabfabdcidafddhfcidecfaebedghbegfccffdhafecfcadgfebdbhicgfggdgadgaicbafdhbheeiehghbhfgefbcaehbedgdchggcbadfacefigfhcgebhddechcefdfgahggdhhfedhahibhhgdgdcdaghebcfedgcdaiaahdfaaeacdciedaiacieiibbecfcidgdihcbfdabcfdachigbbgdcahigaadcdebifdighcghgacfbfbeechheddhieabchiaacehffcgficaaifcdcfacfbaedbdehfbhagebaaiaifeaadbdbeahahaiahghchdaeceibaefgbggaffdegghedbigeigdgbadafbhbdcfcdcbiceefafccaceffhcibhbcfbhfdhifehdafbbhdhdfgbhaieadciadiicbdieggefbcbecbbdeeedbffcdeefdbcffifddicacbaibbedhhffacegicbdcagihidaeeaicbihddefbdeghgcffidhccgadheecefghhhdghafcbadfhfcdafahfhifbgcdaggbgfebgfacbahgcdbeheeadecfcehgdfchdeechbieegbfadacbbcbiadbicbcfiaheebafefafhihfacedihhebifeefghgehfiahgafgiabedhfhedehghbhbhegicibaicfaicdgiechcbighdbbgaabhdgdbcfefahbiccibihfgfegccggaffhcgdfbifgcaibegegbebaagdbeaebefefdddfcafcihbdabcbeehbccgiibeaadhhehahabffeehhgccgdedhbdbhchagggfhdehdifcbgibddggabfcchgiaabibcbbhhibdhbdfgfeahgfccgbfaigccdeicdheddhfgdhggffbhbehgcgdbeafcgceihdiagecadegadiabccdiidhdahffibheiiehfchefdcefhdbcigchgedhggbigdhafhhcdahbciifhcefigggabagdbgefdabediafbffiefgfedbcdaadbgcidheaddibihaabddhfahceacfefgfegedgfadaabbhchegfaghddagbdaedcghaehihddiehebaiididgihaheeceedhfhgbaefgfhgdfedacgechaceceadadedhgecidifhbddffcghfebibdeighhagbeebhiicaicdcifacgeficfbdgibdhaiiggeecegbdcgebbafaaefihhiaabhebabhigffabhbahibihiddgiaeicihefaggdcbfbegdfeghciifbhfahfedchcbdbhafciifdegafaadeegeigcdcbdhbebiabdgbaaggahcdghgcicegdfhfbcehdcedfehbebcdgebefbhifbihcbiaegbdigbcfgchegcbiddbccfcfihhegbdafdihdiceiahdiebfdafceiiciideghbaddffhcgdcfcciaeadgbefifaefddgbdhggbbiahcdhchahffhfcgeehchhaceehhfdhdadhaafgcfchhheaegdegdcidddechgghhebgfdageigaebaedehiiegaffffebihifcbacidheggbciicihbeieihhgfcfeiibhbfcgaidghadbbcgcbaibfdeffafchbebagacbabgdccaahagdbicbbfhbadefeidcaifgahbchaaccdhghcfcbheedidebceagbbbhedhhfebicbebchfeifabeecgghhafegcgbaffhffediachgcffdgdbhbcddgaafdbfbedehbgdfhhggfihichghaffbbdicggefgfehebadafgdebediadeaihaaiddffafafhafbfgecihigbddfihffbhbaiegcgiihbccgieeeihbaifgeggihhheibicchhffbgacaafiebfbchbccffeiihieihhdaibeiiecficbhffaefaaaabhiebhegbggcgfhdhhgcfgffhgeddcebheeaaiaehbiigedffgfeieidbfgfidbfgaiffedgcbbgccifddfhdcaigiabghbibgihiagdciccbfebchacdeiacfichffaeagidgabffciibihabgigeahigibbihcegifbecebfbcebefgfhfhggdbidhdadghdidachiehddbiaaaacfibhbfahagdeifaddigdbdgbabdggfbbdfhfbiabfccghfbbggdbeffcfdcahbaffefcfbchgcebighbgbbgibiefhfdgccagffficdegagbdebiebbaebgadeciiacbhiidegeahgfdfcdcceahfbgdibgggbbgafgghbgcciccgbgebfgbcgeebahgdgcaebeafhhieghiaaibiegcfabfaiefbcafgihebgbcfcfiabifdbhafbbaccgbihfabdicadfgdfdhicbbdcabdgcdfhadeheafcddchcdfdbcfdaafhfghadccicgafhdccbegihihbebbbcdifaceihhhagcfifgbdhhcadffgeeafhdebidfaefafbeaiefbagagcicbchhhgfdeccdhebbdadhegfeciaagigfdhdiadehabahdacbdadideedeifigdbchiigbahdagfagcgbaaefabfhdghgeccabdheaeabcabciaiiebhdacedehddbgahahhdhhbbiiiheiafhdfdahbchfceiebgahceiahbdahigghdaffaadahchbcfbgifgagbhacbdefbbibfahfdeibidgbiigacfhacchfdfcgdfbfgfeceiccafcbgbidfhagbgiaabfachgigefagdcbdbdeccfegdghfdfdcebbadhaedebhehidggcaghcbhghchgdcbadghabbcdcihiiiigbdbdihigiegeheicahgihcgfgibihgbgfhdiaagihieddgcgbhbdcabfaceaegddgagddafbafgfgibbdbcdbihhgciegahcahaidcfcegghiabhadhdeffghbiicgfdhhcafeabheifgdcheddeadahfcbibehgdbgchdbehdiafgehcaicdedechccdbcgaabdcciigeddfhgabhcafdagcedehfadbhiaibahdceiiefiihhicfeghiehbcghachahhdihgbfabefgbghhdgidbidigehfggbhgeefdeghbbdghdfchaddaddddefhfggagchbhgggaibdiadbihghcadechcbhhfbgifaadahdfegefciafgbhedegghfeiiffbgbchidficdibdehbbeafagiggdiehchcfggbififghchfeadefdhddfgfhiaigbbchagcieaaagggbdfhhiifedehgcidfcgicbbaededhbhfdgebbaceccdbgahahifedefcfdagigccicigibffbaigeicghhdfidhbdihicaefgiaddafhchigdhehhaicfbdfgcibhiaeahhgibcagfbfaibdibdcieiefefeaidddideiccabcdihghaaadihddhdahhfgdgfadegafgdfbabciehbgfagadfaefcaafbefidigacgchiedficccdidadcchbaicgfadhgdeaghgeeibdbhbgefgaiaiifeccecbgehhecchdafghecaccbggdfaiddgfdhfebcahfdageefaiaiefdgcegdhhehfbcdeaeiihcdeggefdbdhecbfffcfgdbahbiifcgfhcbchibhdbgcfaacihfbehbcbicgddchhbaaghhfdichaccgbbhibfhahficgeedchiaaagdddbhccgedgecaigfdeddaaccidbcfgecihciaidhhgcehhbgbicffeedfgbciieihiefdfabcggccebabgcdcfbfcehbhhcbbahbigidchchbfbageeahidiadgbdebiiddgbabfffdehbdgdebahdiifaedgfhhhcggdhhddibdagcceiggehcdgidfdaacadfageecbbeddcihghghechefgicficfeigfgfdfffgecfbidhahhebgdiehhadfadedaebhfedagddaacifiecddfbiahghibdidggdhicfhaefdghhabacfcigebcfghhehbeeefcgceiehiddfhfgddgcehbfcacfefegiidgcdaaibebdhfcahgdhgfghebicgggeafeiebieedgffihcdfibbdhabhfddcccagebdaiabhefhcdgcdeceaffhidgaghgegghhafdcdehbbfbchedaffdgaebiecfadfhaaiecefadghcfgecdfddacbhghgbbibageaehhhgicfggehhbidcgdffcahdcciaecbdfcahibiecdceibdeiifdggfcdbhiabfbcifeeafgcfgedebgegehfedcbfcbeifgdgfgiddhagddffeceabbadgibffhhhfggabedahcececfefiahfgaehfdbbdbeadbfbdbgafgggdfhghfhaeefhghdgfbifefehbdfegfheffafcgiabeacbibighibhhefdeaachdifhghbdfbibceghbfhfebdhhefcbdbeabdgcfagbfcedaiibeceafhfeebgdabcgfgdidiidfcedhbhgccafiafehaeddddfcacbaefcbdehadaiiahcdgciibfggfcbdfhageedacfigecibafheieaghefbbaeefgiccaghdfggbbgaaghidcegcfighbbcahdccffacihdffgdcaffhgbghdaahfidiageiidghiebcbheabcccadifghchhiciggfgaehdgadehaciiiahhdhdefdccahccccgagbehgccahgcdcdiaidceghfagidaeceecgigdebfafecchageegibdecdihgbbghbdbghfbgbgcabgbcifefcchhhfhhehfihadghbdhigihfgggdhfedhfagbedaciicgdafiabgbbdbciebhbhgiibgcigiigibceccdieabgfaiieafeiihiaiafhgiffbaiafafefcecadbfcdbefheecgfdafbdgaaabgaiedeccidhchfbbhabagfgcgbhichaagihdiaihfdghhciehhfdffbfiaggihhadghhibdigcbiebabifeifeaibdaghdfadghbfagggbhbfghieidcbeieiaabgdbcgdbfaccbiagfdcfabdfhfbgadcfaiegiihfedbbcccgchbdiffiibfheeehbafchedgifffbcchbgccgfegifcdacfbbgdbfcbcbgecdihfhhdgbhhihdefaigiffghicfdggeacfddfbdifadfehbdiabdbahdigehdeahgedgiiehhiidacgdaddigcdcfghbaaagdahidcbcdddfcehhehgfidfgcgcbabafahcagcgchfgdahcfffeedcdifahfddhecbffggdbhidbfabadebfdeiacgfbaagheehieibgbchcdghgdhbiffggedbihfceafeeceibededbggfdfbcddbiabicehgcfhhicghihcbbddcfgighbdaibgfbghahageheaifdifgggcaafdecffbdahhbbfeggieghfgccchggbiacedagadbedffffedifiahahfaafdfedfigaahiceigcadbedcdbieaddecgcbbcgbbgiicddbafaebbicidibgbiafhfbgbbcgcaggedfieidcedcahiddeecgiidbafehabicebifdigfdcaigighhibdiecebgehcchaecfdgdbhgaeebhgeebiiccgfabhcchfbcbbcbgdfbfhcehdgiegicdibhbhhbecigdfdbfibiaeciebdfgddbfedcdacggccidgihfefhfhhffgcahbaeaccigihagacccddhaaehbihdiabfhbgicfchighhfggffadcbcebcgbgiiggehdichhfdibhcaifefaedbbeafaaaaabicihfachdddbficacaeeafbfbagcidfiigcdageiiigigibfccdfhbhhfiaaadcehadaciehihbcgieddgdecdfbchiaaghdahicgdccefbggaecdaiidgghafcihgfcbegeehgdfiagdeccdiadafiieiiiaeaghbbegdgggeibecagihcdfagaaaaedbadfbhaebcighdbeehidbicacihgcegicdbgeghddhdgbadgbgfaihbbddbcfgacbedbihacahbgeeabfcdegfbhaicgghfdachcchffhgdgaahfhdbhibbgfaehehahbaaddbibeagebfgcggehfdcaficcedebefigaehfhgcghcgbdceacbbggeichhbhfebhebihbhedbfihgadhhcbcgibicfaagcgeffgbhdghehhbcigieabiififcibgeeccfhegececfifffcggebhbdgaciagfibabaggbceadhdbcfhgbhaaacdchbfdghbabggabbidghigdeefbihcgbechbgebabifiebadfdcahaihfbfafidbhcffafbfceediffggegegfiheiabiiiifaggcggadbbhiifigaeafaccdicaehaahfafegiehagggfagahdddagchiaciecegfafigbbfbgbaaccacacfgaddhgedcgcbhccfaifhibcbagdbffbbiddaeihfadgeaebhhfahaibaiabfagdhabeahcfadhcfcfhefaaafcdbhdgbehcfdchccchbebcgfcahcbggaahcadfdidccehfaeidhaahahgfgfchgebcafdfbfafdcfhegcahhedegcefgicbcbedacffaechgggfabdahebiciigaeghebeaceahibibcdfbghdchieeihdcdibbcfifgfeeacddhfgbdbafeddbdcgihbhggfhfchabbbefbhfgcgfagefaidhadhdcagebedhgcdfefidgbdhcigbfafbagggcdgdgeehcfafhahhddhdaffhbhedeaibhhabhadfcgbigicighefeafcegiibffgagceigdadafhdgaeebihicdidafhedgaibbgiehdaedeagfbcaeahifebciabbhgeebgehbddcghbhadacahdgachbfefgcgdfffafifgegbdhifdhedgeibhbbbhfdbaehgbceadcbeidchbghbhahfafaehgfgaefcffdfgahfahfegeieaiehhgachfdegegahabheiibbhdgebhbadibhdhffaaaiiegdfggfhggafaegfhdeaiabchdecbaecdcibgcgcgedbbcadacaaiehhadhaeebdfeehffiicffcchifgeciedfbfhafhibedacihegaeffcidhceghieciececcdhfgibbdbcfdeeaddbeeghbeehcbhecideidchgdadcaabefciecceeifgafcfeghiiacdehdbedahibhfddhcffgebigagadfihhhaehaicieeeahfhghcbcchiidcehccecigiiddgbhcdcbgfhiahbceadhihahefdebdbgbbgibddcfhhghchdeahheddcdbccdidgaddcfgccebfiifhaefeiccigdddfbdcgiahgceifbagcagbcbeaebhffdhgbdagecifiiihafibeggefefidafbeifihdhccdafabfagdbegacaebcdgfidicfcdbedidgaecdedgcbacbecbfciihbbgcfdfbebgfedhddebbgbiddbghgdcfbibigahgicaeecghhffgbiahicfhidedggehaggeahgddhgaieabdeifegdafeehceeieifadggahibhdidfcddchhbbffeiggiaahgifhgghdacdeicehecagagbdbdcbdaggfafgefdcdhihcgicceaigdgadcfdaffgaedfdiciecacheceiccidgbfeffhcfdbiifbeagbfeebbhfdicaccbaiiibgffgiaihhaeaadfciichfeabhigaibfacfciabageageigecbiibgfeaidadbdcaahihffdbabccefcefahhadecdaacfgeaghddgihcgaagciigcihidchggafefhabgcfbgigegehbgefbfhicaefggaiccdhbccfffbfaaeceigcgifciggfahdfdfhhgaddhhcfbdabfhgfagdadhgbabciaiecaefidghcgidaghhegagbbiecgfebiccgifccbidgiedbecdcidddhgiihahgbfigbefedhidaecfdgfhdhcifdbbhaddedbcdibdeahdafhahfghgcfgeceiacgfiegacbbgaifhbgfbibgfachgaecgcdcgbghaidiaehfgcidefhbaaigadabeeiciaddiebidcecdccefebaehfbdacgadiccefcgbhaccghdegbgaeigfbegdbiagfiibdhgididhecbfgegggaihccbefacdaahibhhabdiigaedifcedabichabffedaabhgffabdbcieaibcfgeaeeaacbafahdhdfefchiahiddcfdcdigbigffidbadheiiiifcegiecdbgichdaechafciiabgcaadiabhcbcaeggaeciaiabcfbbdfiibhdhcecifdacadeehgehhfhafgiaghiigfbbhcgeeehhbeechbgfbicdbeebccciehibhcgdbaibfadicehigcafffibgicaghagbehabfaecbiadaddihebbfheifbhdibcfccbaebdbbagaihcbbcgegbdbegfcifcagefgdedcaehibhdbbbfeeagadbcbffeeeaheagfbdfagcdhdiihadbdaggeihbhdgfhiifihdegbbfghffgcdhadceiaeecggichfhacffcegaeebicbeieeifacgbgfbhchidccachhcggeiafhadieeeddhehicahccaifeiiedcidahcgiacbdbccfchhggbdegdahadhcgecdcgighdfbadhhehhcdcgciabafffhhfegehifbhdgbgaihhddfiadgfefbbfcdhfegcegeffieagdgaiihbeegahgagfefceigfgiagadgeddihcagahiehiacabiagebahgcbebheacibedbaccfeddiidfbfbcgbdgcgbhiabegdcgdaidbdagbefdheaidaicdcaicdidefefdgfggaahdhahhdafehdehfggfheadicbgddbcdgddbaehgfbhbbbhebffhaafcgfbeachcdhgadhhaecbiefgdiaibbgiidbidffhdcgeadeiecabdgdheiafagddebabegdhccddhaghgfgdcehgfacfaidifcddabadfeiiabbfeaahighdafibbahgefhffhccaceigbfbbbehdecefaihgfddifahgddcfabdbgfiecbehfbfecidgeifgeaeceheghdefgcefghccfiaieahdbidggffaccdcefgeaiigebcadggfhebffcicdegdadeabdebebedaeecefghhfeihgbdfgehciagchbfhebfafcfcbfhbeeiheiebhicecdahedhchbddeiaihcedfeedfbhbebcgffcfcccbeibibdcehhbfacfifdeccgeidbiaiacegdeibdcaabadgibdfhdhbbegfdgifdehggfggeaedbhgfcddifbebiigfdgbiahfedahgbbahigedaiahcceaeeeegifeihccgaihieadggfgaihdgaicgabaddceeghibegdaefdgibifaiacacfigdfadfiabecadacfedadaebegcechbeceebddhhebhbabfgfefdidabffhccdcdiediadfgbfchggibbehiffecfcedabfbabifdibhbdigfcicifgighgfbgifhcghahheaabieigiaeeaceegccafiddiceedchecaibcaebfagifffihegfaieaiggahddghagaecddciffdedhigiceagebhacihbbhbhicdedbfeeagbdgcgbehbedcccfffeedggiaadbccechcgibbhgbegadciecgiiebhhagebgiageefcfcdahdhfecafaccccgdhabibbggafbghidfbibiccbfficecghbegihfccfhdhiefhcifbfcgebfcgcifaafheeebdchgegcgchiaciiedgbhecifcdhbadffghgffdhaechdbfhbabhfgdedfehihiighefceecffdbdagadgdadghfbabfbfabaiheebhcgebhhcbicgiedbeebdhcfheedbehibbdiciiihbbeecdhbdhbhdhagcebhahabaadcihahddcibdiefihfichhbiechddffcbhaehhaiehdaggedhahgiihbfiefbdgifiddadadahbehhcbhgacddaebeieaeffgaabhceefeafbdfcgfcgccccgbhdgidcedfcbciaiedfchhcddbgaebaeibidaabffdgiehfdfidcdfifcabiihfbfdfdddhhaihgdiidebceaahafiecifcbbaaaibfcabahiadccbbhbeeceafceghcehdfdifhdgafaddbfhadgidaggahdgcfhiefbfgdbhbdcegedfgighifbdefaeacbgaigdbeedfcdiihabafggdiddahcfcfaffefgibbgiefgbchfifiebcbaaafebhdcgefihghcdfibegbbcfdgcddgigeefeeigdeehgfahedgfdccegbieefdbadhhddfbbcegccddecfiehiicbedcgihfabcbgbcccidccaccaheaecbhhbbegdhifbabihcaiegedeaiaicgeebciicbgbffhghefeficidedehaddicigabahddeechdchceifefiehafhbbgfhccffbggbcggbffeidhiddddgdfcaggeacdeehgcfdhgbecfffgiaecddbgfhfhffgfiaedheegafbbgcccedeehcgegdeifbihcfdahgabchgdeciighfbeigfcibgeiheaifdacabhgcfdgheehagidcbfdigieafafdiccigabedicabhgbdhcfhidgdcbbcecgcdbfcfibeghdhdchbgbdebhigehehicdchhhhfafbfgefgggiffebfdggfaeddbeegibgbdgecefcfdgfadebgbihaahhachhedicahffhdichagebgcafcdagfhadchcaffacehecdicacafhebbfighaadefabiecadfgheibeecadahcdgaggefhgaiigddcacibaieffbigihhabaehhaiidhgbfbffdbcbabefedibgabhggaiididbeefeibeiieabefhgchhaahicccbgcehbhifffadihafeifcffedfegchiebdiebgigeihabahcdddaachccfhgggaeaafebigefhedecfifdeaggfihihfidagadhgcaicbachacaigcdfbdcichdfihfbhabgdgdehigeieddaeaiihhgaghcciigcefcdefdhebihbdccehcchfeefiidciibfegdehbbhhdhebeffagbehhgbbghiechdeibahaeiaagecdhgcbfihcdfgifbbehbhihdcddcacgdfegcbidcaefbfbbhegfgchdchehihafdfacafcbigdcfhdgdecdiiggbbbdfcbaebfdiceecfeebhcgdcfhidacagfdhebifdachigadedaebdibcgecdaccbdffbadagcihbgbiedeagabfiiaaeieceafchhgdcaaeigfeddahbiebbhgggeibcbfaggbffdhgbhbedabdhacihiidfedaafcfhedbiiahhhceebbhcficdchgcfdiciiaibchaaaedfegfafaahficdfgifdihdgabceecgahgefbihghfiibffeeagifbfdecebiafdahfeiefccaeceiaegdbedbaeaiifidbfgciabdegiicagdaaifccbhghdibaehidedhhdeehbgdiffbfifhadhdaceifcfcgaecfghedhfbhfacfihddafhdbbfifhbhgiidiahgabdecaihcbaiddgehidfecicfaehbagddgacghaabcdggeiecbcfcgcdbagbbcbfcicfahahbcdbedfdbehiihcibbebefgibeaadgcbebbfiececbeghchcchcdeicafiafihagdegegdcgchdahgdbdgfegegdiaffhafceaghhihgaadidifchheaeggahdahgifdiccebiecbheegichefdbaffgadcbcdafbdihgaafiiehcaieadiihiaahbhecafcaeedfdbfdgfiabgdhdbciefiacchiaiiifibhggddbfdigcccifagfihcifbhfgicdghbgdahechfafgggfcafffbcfeiahhdffhdgiaefdieaicciahhgfegaccggichfbhhibhddiegdehegbcihbffcagfgceebccdfeagefgbchcgfhbggdcidbichicghifccahedhiaaidecibeaghgebhifhhahfgiifdiggdbghbaigcgeaefaccfccifagdhegfffgiaahdefbdhbeehgadgbhefcidhbahchddcbcdibaiigcadfbbeggggecifgbacbdabeecbihcgiabggfdicdgcddaihbiiidhfifaddgfheaaadghgfdafbihgchaechafcbdahbghdgcgfbbibdiifcebdhegbfcghcdcbbbhefhffedchbffcchaagefeegfdigfhbiddhheacbgfffhcbdhfhgbgibfaddbidebcfgehigbeghcihcahfhcgghhaeeaheecchcebefdffdeccagegficecgdcbcidifffdehihgbghhbeaedabaeeiabaicgcaabggifcegidcaighfcaacdhgcgbaecgciiegbfgacieheeaahhgihgeafadbffhhhaacaebbaicdaghccebahabhgddaibcaidcbgfdbfdbifaibbdhbbggigaibgabedfghhhgbifiabbddefagaccaffdeiafihifeceeeachedhcfechghbiaicbcibdhebbehhdegeeeaiccidhfaidgchibicfigidciafhabedbafcddcgiccbdgefdafaadbdecgefifbiabfeihfcgbebfgdicdbcgeiiaghghbfeihggdbfcccadfhcdfcichdadegdhihfeiegheffgbaffafafeegehidfaeadaeciiabfibggcecehhddbhdigadgfefeicififibhibefceggbdahgceeahgbgadbgibffdgeeffifchidabgicaacggffiehifidcfhiiddcbiggfafieaaceecdihhhbfgefcceaigeddafabeigcihgafcfchbaiibegbhaiacifgacbffdiddgehecahgchbfacedgebaiidbagehadehgebbahaeagdffaidghdceccaicbbhcdfhhdhbebfcgdahdgibhedaaicibdgadadabhdhbfbgdccgageediaiccadgbgdgbgbfbahcefddcgigdbhghgfdbgbbdihfdffcegigcghfdcebahdhdcfhdfcgihddeidffhehbcbegbefidecgiddhggeihicidgihaheddgihgdggddhdhcbagegiaechebedbabdcabcfccbeebfigchbcdaabecgaadbiegfaiefheiaeaegbgdcgdhheiihibheifaiaddafdfgihgdeeadbbhecigaicbhgfdcfdgefaiagffgcbagdhafceddggaiihfggbechghagidfececehbebhcgigabdfbfbhfghiigdfhdhfaiagbcicacacbdbdiagiedficecagefggcbbbaddddhifcifghgiadgfgdbefhidcfbcefgcbdbcgeabceebiacdhcbhcbefgeehcecaidddhdacgdfhahaedagdddebgbiacfbhffcbhcdfffgdefacggeibbfdfaabdgccgffbdfiddbecdeiffcfffdbidbfddbefgccaeeehhhfdbcechabhfchhheiaddgghdeghhgfchdigeidfabhdddifgifdhfgahaggahiiadaefaiicfifehfaibaeaadaidgdabdegbaccihigieeicbdacbichdbefeigihcbeehffgdhbddfbdigacbfdeehbbfcfbacheddiaiegaaddchcafeidgiaeihbacddfgadefiaegechhbhghbahcachbahfcegbgbefiiiiaggecbfdhdgdifafaefehhigchagcffdhdebbhgbgfggdchhgggeaagcedfdcbccicgdebffadegedcggiedbhhbiaggghchhebggebdcahgahebgecgedhdicgdicafdhdibdfageagbihdigdbbbccdebfdacigdghibfchegbcegichciabacfecahghebeehhehcdffeiichbdaiagagifafhigfdeheefffggeceebdefffdgbggafceaicbbhiabagegibieeegdghbiggifcihibibahabbghighafifedeeadafdhehhfhddbicdaghghbhbcbbadahbdecbggfaacbeecbegaccedfcgbefeiefggdbidigebdbgagedaighbegadbiiiceaiieccefdbaeihhbedfgghebcdihchbaaeagbcccdgcaafcfbcacedcbfdgaiheaaegfbifcbdahibebfhbcffhfieieigfhieeiabeiiiaiehcdddgdciebebgebggefiihafhfcdbhdicaieaefigiggefdibddeigadafgbgiichfhffdddbchhcbdhcifagggghahgbgedfdgcfahibbgabiacgdbbgdgcchbgbagbiggbffigdaidiighhaheddcgcbegecihcbahcibgccfeifachhiadbiaebaadaagcbfacbdihaaffefhfiahbchhhdibeififighiecaeaieabiebcebgffebghbbaafhiadfdecbeggeadihihffdeeifcegecgcdeeciccggcbgbdcbigghicfbehhcddgdfbafigdiccieafgbafbfbgeceedhhibhcaeediedgecfbigbcebcifhhhgebedbeeeihfeehfbaciefegcahdcdadhifegfifeecchdebebegieagiddfagcfahehhfficgbihdehcgdgadbdabfefgciaiccfiffdagdfcfahhhihgcigeggigegaagiddeaeagihfabeeddfbhibchefddeabghhhhdcbiificdieifidheifefdggagdbfbgifihgibeeaffacieaeghfdeeehifaifceehbdhgbhbihcdiaedefifcaidhadehdgfhdiahaeceeegbdgbccbibcaaegidhbbccadbeacacbaafaabdbcbgedcecdidhhgdhghdafieadcbhfabbhgdfdggdafgcgdcaacfdicicdhciadagggccbifbcibgbhdiedbcdaddgcaegdfiggcgaghhaeefdcfeegidghgbhfcieabigagfchhadfafgeffcbdiefidccagfgheghffgcgdggcifbdcfaabeeihdbichgcdgdhidgbdbbiifggbighfigceehhdbdbgccgidafehbecebbihaidheahicfdfddccbhhdfigedcigficbdhhggffcbiahcddicfbhfedgfeifggfbhfcccfbdfaaiiecfgghichdhghhifidadaecaaaifbehdgedfgegbeihdhhbafegdgcahdfdiedbfbadbdaggffidggeceacbagdicbdgbfdeegfdefeccbahdcggchiadegeiicdbabgcghdhchhiabhbaagdddcafgicgbebdchiadgdiahcehaeecigbgdaiigdbedbhfhadhgfcdafcfbgaaiedgcfffhgacfifcciddigcbghgccbggdbhebfafigaibhadfhgghehcgfghcdecggabfciiiiaeaiaghbiedhbhedibcbbcaabeaaiffaacifbfecadeehdehecafccgcghegaefhdebafchbediaigihdcaceehbgicccegaccdibicbhdehghbadhiddbfeeefdfgeifeghhaiihhfaiaffbeiifggifdffiaebdfcdgecebcbddaaaihhfeeicbhfhhieifaafidbfdcecdebiffiigbidffggghaieheihdcchhfcefgahbddhhahiaidageidcddehccccebaecdhibieebihfbeeccbeeadfggcibchghfehaahhhdfbafiffadgiecbhcbhidfefficehhaehiebgicfaedcgcbafeghcdgfdffiihcgbbfdiddbhiidghiccbeeihigbadciedhddifdfcebeciccgeiicdhffaggdbfbeggdahdfadgaghiihibbiedgcgaghhccfcfgaaeahebaaiiihagadahcgbiebfcbhchhgiiebifhcdcagffeeaffbbciaigaffhaichcdhhddchdebfiidachffbhbgiebifcgddhgfccciiecaggdhaedbdbdedegaddbigiaheeiafifbgagfhfeibieacbgibedbhhaabgiigdbfhbfgcgfifbeegfachfdfdddbbfcdfgdaccaeafaegfgihicaifcgcfiggdiaeeceiegeigfheadbfhhagcgadbidfhafehhfgdddceccfbfgbifhfgheadidbebhiahfaedaibibeiaihgdgibgigaiedabifefgfdgfcibhbbbgieibhdigiihahaafdadffccfdibfahaibfffbaabgigddhbdigddcadfdedeigfibaidbccffciegacicchiiegigbdicihecbcidbceaehgahdibbiihibgdffgaahgcaagihaddidedfgbdaaffeeddefchhdibidabcdhbbhbgdaffgahfdiffeeacbcaghgggecdhegcgfhebbgfdffhgbcdbbdaeffgfcghfcadifihbgahhccafaahbcgeeaeagciieachdgccfcdhehfihbaeeciiheffcgbihieeiefeiaihfefiahchcfbhfcdhfihebeeffefiafcghbhiiahgeebcgbacgdageiiibhbihbgchgdiafacfabcaihgbhheaafagddfhhefffcigehccedifcdhebdcfciahdieabcbifhaffdcifcecdeihgifeebggaaiacgcdheagichihefceihcecddicgighachiebhbfdddhddaagidcfabfhbggdhbgiebebebbcafhefaeiahgcggiiacadaicchbdiaeachddefdigidiebcghcdfdaaibfcecihbdcdbieheaedaificfhiibifcdeeccbhgcigcebbcbbdebabhicdcgcedfbfidcghbaaehfiiicbggdhfbacbghceiiefifghhhahcghddedghbhcaefgddibchhihhhcacgcdhcibeahabebhcbicicbdifhdgfhhheceadeibbebgfchfaiiecaiahcghcaeadhdiicgaeibabbgibhigbiebiacgfeiidgdgfddccedecdfdcehaiecacabigcfadhhaiihbhhieegdagdichcdefcefbhiiigfebhghfediihbcggafaccaiebeidabhddhhhaiifiigichegfhghhcdcbahiifeieeafdgffcbgefdfidfhdidihdchdbcbhfdhggihdfdgcgcbdeifefcigafhfcbhehhgaiaaicchhhfiffffdhiiiebhacgbdbdahhigfdeiigageeiaahceiiehaechcegiicbigidficbaeaaiffebfaichffhiagfghgffedhciegeidfedecidcficicihcbedhbgheiegihhabdghdigcdhhabifbcdhdciageaccdhdfhfhdcdeibaffigbecihiiifegagbebehicdiaegaefaecichdfehcaheefaccbchbahgdahagcidacegggbdfefgeacdffcbhaddidgifdgfcbibifegbggiabcfadbafeiceagbgdabcgiieheeheahdhbeaifehggdhbehfeaefffhfccfdfeficcdeceghefacgdahceciafhebehdhbahiihdhggbchhgbedcgdhdfhbhedidhcacdigadggcfhdcbiedgihfbdbgedhiidiigfbdfifigfheeidhcbeefideeaaebgebdhccaddfficcdefibhbdabggeihgegdehfahehiciceeabhegchhigcggadddieaicgdeedhdehdidifgbccieddagbaeefifgafgiciggeecfbicfihdciafdceaiahhebgiaedeiaieiccdhhcehbbfghgdebahhiccfaagafbehbaiifgegfbfhaaeegechhcdaahehabhchchihhbabigfffdagciiidefbhabfeeeegihcddeacacdfadhhbfidcfbgaedfabceabhgdcadegfigedghedeabhbdbeiheebcdbfaiacccdcgdchgababihbedagffbchefdchecgfhecfabceffhafbgebceeaahcdgfegafggbabbddadbadbibadgfafhbfcgghccgcfffgdhhigaafdehchdbhaabbfgddfeiiibbhecfcfcbbibcggeafcgehdghaechfbhdbfedcdgeicgfdgafdfdifbhcaacibeagfgbichagdbeggeddiadeheaheaciagafcfdheehbcdacchgbgdecdcadacbfceaeiabhfccgaafihdbfdggiibbhihdaahbcfedbaiibadiceggbicbabchdhbhiachiciefcehigeieibdicheeccdhceeafiggcgbidhddgchfceaddcaffdbcegbbafghgecageeciagihfagbgidhafafefcahggbgbfehhfbahddebficgeaggeefhigfabcegegfaffdicceigahibhhaghiegddhfghaaaeaiacggdbhaddcgcfdbecfddagffihehcbhcdehhaiafgccdfigecifbfhdafbbbbbdfdehedidhchbddfhbidfgfddacdggcgdaehddgbgdhdcidgbdcgfdfhbbghiggbhibeghacieeabhghigciibecbbeihihebbaacdeadedfecchidciffdaigbabchhdcdbbiiaihgifhgfdiabbceiggigehibeafhhhiegibadfcbggfbieccdbceaeegchadgehaaiaafgadfecbihffhdfabiidbaafafbghfeacdgcbbbbgiebgbeehghcgeadffghcbbigbdbaehihbaedicfeehcgichiecgecebbcaifccgcfigifcfacddigbhhgffgihcigfgcddihbdagadbhbecheghdabieidgdheiigddaabhcbggcgcebehgggchcfiadbibfdigcfgffdicdicagcecdibabdabaeehhihcibdhfgdddagfhhghehbebachbciigfacaggdhaghfcaefbbeaeibggeacgbfffbgdhhifcidbffeedcaeghicdcddgdiiihbagdifaafgghbgdcefdihegecaeaifihaebgbaeagbdahdcfeiieibgicfcbifaeccabfiihbabdfedgdhbbifgfcidacdbdhhicfegiggbeifibciifhfbeaeiabgeigagfbchhefiiafbaiegagecfheifbifgedbgbdbfdahabhhdibebgdegageaigiaecgiiiabghiiafiihgaehdcbficegfahhdhdeageeighaageaihigieifiieedbeeeiiggeahhfhfigeacecghghbadiffcadiccgefehifecfgdgcgddcbaidgeiaiedbahaedegebiieieffbibabaaahhaeiiffffgfabbeefhehcddeigdibaahfcbibfeafhhacdcfiddcbhigbhdhhdbidfcffdaahhdhhbachgdagbaeiaaddbcbehdefdfidiihhdfcieehgfbggfdccbdghhhhihcbebdcebibhbhdiiddeegifdfiideefghabcaacgcfiecdhadiecaaifdgfaebfafcfgaaddebbcaafiacafbdbdeebaihiibgfhcighbgaicehdgigbidfgghaeddegbeghihdibidbbgbghhfhcbdaiccahhheaifcfhacaagaagefadgiaedhgidcdgihghbhaedggfchighihehdfgfeceiedeahbgddgbbicaaheebbdifhbdiebieghdgheggeedigicchiggigehdbeddfeefdhfgigichchigchcgbgieacehbehecefhgceibadbcdecafdafaiggiigcahiafihafcaieegbgccddfecfeieihdibeifehbddagibhfhbggagfefhiehchbchegddfichahabhhfeehffdicifaegcbbccefbfadabdicdcefgigaciiibdebadhiahdfciffdfighhacbeabhahbhfhgdiccegcfchgihhgiffgbbagfhhihhbggiidhahgeedhdifhbdcagdcdiidefgehfbaaebgaaaecffgbigaddefcbdidbihadghiiibgiibffieidefccfgdgggdagibifbgfhebebidbhabdcfedbaicfhdahaidaghdfgghbecehdfadehbbeheifhagebaihbfifibgfddecdgddhihbddhcciheiaefgbegdaaebeafbdhhfadffhgidigehfcfiiieadafcibidcbiehibcbhgeadggeaedhfeggccaeafceiecdhcegiiedccbgbiadfaicaggagbafhefaddbbagbhcheiagcigeffehfbfdgdcihdieifgiaeiecdgebehebbcaieihfacighfebedfedgifihfiehfdfaeeegeiggdhfadcigcdccgiaiggfccadgfiiifichdbiaifgefbfieaaaaiffahdhecddiaiebfihbdgfbcdcabidifdddeheddidbfbdcfbagchhedfddcbhheabidbcebccihfegfbcaigdfaidffhcefghbiibfhgegfbgebiidieffgaafdcgccfaahhgaigfaeiihahicabhahefbdigagggigbbeiiaddbhidcgbigecggcahcgebgddbccbagagbddgghbbchacgffddhffdbhefhbhdcdfdacfaggghaahaiefbchddaibiahiahdbhbigfcceiifggcbihaabbbiedabciafdgibgaaggfidhicahaeheggdebfcccgefefaicahfbigbhfbeddagibadehdddbagiaibafegigdaahageabaddheehhahfeggigbedaebgggaebiehcbgbbaehbgdbadcdcgicgbfhebgihedefhhgbacgahahabhebaibdfigeiddbgbabgcbbeegcgfefdhehbghecbheeddfeeebachbgcibfgdcbebfiiigibdacihededhcdhdbhedeecchdiihfdebedgbgbiibfedegcaiaacdihcbbccfhbddcibachidbihbcbgbgfbibifgcfggfieigccfafcbfdeaihdgidgfidcahfbaaffegchbcabfcebfifdabdccigebhhedhebcbbhfafebcbfbhhbedicfabdhgdahaggbgchedbibhdfcfeaiahcggiifeihheieheegciihghhihhdhhfggggddadaeeecfdbgchfceahehefcdihefcfhbehbbhbeefbbeeigieaegchiibfhidaaddicdiacihaaecfggfihbefaegihfiifeggcccdefafcidfgiebidbhacbehfifegagddgdcfigdghchbedffafgcghfbghddahbfdegeaiabafdhgehicfeehdafacfadggaiahddafgdfaiigcghceffaedabciafdgdedddabbebfdibdeifbbcebfgceaaedhgbaieadfiibbbfddggicgcdgcdfcciegdegbbaibggeihhfdfgbahaehaieehcdiiihbdcaahdchdhiefhcaacgbdcbihhbebccgahehcbfgdhciacefbbgadfhagebidhiegeiffcfcdahhifbhfehggcbedceahibiigiffhbecffhghciccaibeffaffccbdbeighcecgdheehdchbgadiidbgfhdfacbgceddgcfcdgcfhcgbeddbhdfdehefeicchcggibhegifdfchgbgegeccfcfbcgdcbbhcfdcdacbaeefhhfgibbeihahaidcgchfcbafbccfgcafhfhcdbhffgefbhbfhfhiagchccbhfaifebfaiabchghdeiffebidfeafigcfgggagddheacdebidbbifgdidficbcdidggghigfbfceigbgbacfbaibfhdedabhdabhgbgiifebidbafgghecaegcaghdgbgadebecgafihhafghhddchebdagbcdggidhigdbaghdhiedcefggidfggegffhcbaeidgcgfhbdgifgchhaahfhbbdadbaccgiighdehcceifidafhgeacfafbfghfadfdhaadfgcahccaheggggaeddgebfgcgceadegdabfcaggigahcdgffdhdeggibigdeihchfcbaghhebecefcgggeabaagbaiibifcabgdacfiebbedgidfahgbaciggdahbcfaahfggcahdigfaebifhahghdiidagiadbiibcfihahcifcifcacigabddfgihcdhgdhggcbfdbffcehfaefaeggaihdbgghhbeigagciaidchcgebcibffdhigfiiicfhbhdgfacbibiaeeifffdfbchfbcgiiigdhhghffefdahaffececbghgfbaahaedfiecgbfcghhhcicidgebcbegbeahfggdgifffcbbhgebagaifiaeihhgiibigfbhdbhehhdiicfehbabidaccghhhacegebahcbchhibfecegcgcghbfadabdaidbheafcbfecdfehghbeafefgefecadcfdbiaahigcccdhfeeiehcdbfgebgcfffchdbidfbaeaaeheihciceffiffahcgacfbfdadeeaahhfdgibbbaabgffbbahehfcgchedcedgaaeaeghgidedghhdhceiiiheghacfacgfgddfdiihddefiggcbigahggecbdiaabibgdbaedfgiaecbhaeacfgfbhghgfhgbaafedididdfciecfhghgefaagiebibbcbicdfhadgceiggfgdcceehbbbdccbacgighfghacciegfccaefdhbhigccfbfcfiacegbeedbiddchbacbffcdeibbgceiaidhfdhhdbiahbeifgdaaiffeebiacbdidhhebbbcbgdddiecabfiicccihidaggacgbadhaiddibfhfhfghhbdhbbbcafgidegbicdfhhfbabheagbcidfbahbhgbfdahiaaffbbbgigeaccdicfhiichahhcfhbdafbhfidhfddggegacgahgecfieabbdfdcechcedihcihbfgbaghgfghhihghheaghgdddegffaddaeddhiiahdhieicbfffgfihaddbdcgeidgfagghiaaieghchchggbbcbggcadeeihafheebcbchbceghihcccihcfadbhcfhdeadafbgfdahghhffaciaffeibccaabiabcbhfeaffdegehaiefecccehhcfifbefabhifadffidehcegggedfdfaafhaafgddihgcbhhfehdieeiecdcgafbafhdheccfhefgigaahggecaheaeeiidbfeedagceecbachaiiegghcahifediadbfhgcbaigibhhbcfhbfaccdibiechaghefeaihhaadaeaefbffghfbabeiifgiaafieedghbgbcfbcaeagfhgaffdafdghefhceiagegfahdcdgdiigibefgacccbffhdghaecdbifhcihffdifdicdicacbfddidihgbbfghbeaighihegedhdababdcbahebigeegbdahdafeceecffiigegghebffigceddedgbdhfdeah'\n",
    "\n",
    "c_letters = Counter(s)\n",
    "print(c_letters)\n",
    "values = list(c_letters.values())\n",
    "c_numbers = Counter(values)\n",
    "print(c_numbers)\n",
    "\n",
    "if len(c_numbers) > 2:\n",
    "    print('NO')\n",
    "elif len(c_numbers) == 1:\n",
    "    print('YES')\n",
    "elif len(c_numbers) == 0:\n",
    "    print('YES')\n",
    "else:\n",
    "    #if c_numbers[max(c_numbers.keys())] >= 1:\n",
    "    \n",
    "    #if abs(list(c_numbers.keys())[0] - list(c_numbers.keys())[1]) == 1:\n",
    "        if (c_numbers[list(c_numbers.keys())[0]] == 1) or (c_numbers[list(c_numbers.keys())[1]]) == 1:\n",
    "            print('yes')\n",
    "        else: \n",
    "            print('no')\n",
    "    #else:\n",
    "        #print('NO')"
   ],
   "cell_type": "markdown",
   "metadata": {}
  },
  {
   "cell_type": "code",
   "execution_count": 82,
   "metadata": {},
   "outputs": [
    {
     "output_type": "execute_result",
     "data": {
      "text/plain": [
       "[3, 2, 1]"
      ]
     },
     "metadata": {},
     "execution_count": 82
    }
   ],
   "source": [
    "l = [1, 2, 3]\n",
    "l[::-1]"
   ]
  },
  {
   "cell_type": "code",
   "execution_count": 83,
   "metadata": {},
   "outputs": [
    {
     "output_type": "execute_result",
     "data": {
      "text/plain": [
       "Counter({1: 1, 4: 3})"
      ]
     },
     "metadata": {},
     "execution_count": 83
    }
   ],
   "source": [
    "c_numbers"
   ]
  },
  {
   "cell_type": "code",
   "execution_count": 84,
   "metadata": {},
   "outputs": [
    {
     "output_type": "execute_result",
     "data": {
      "text/plain": [
       "3"
      ]
     },
     "metadata": {},
     "execution_count": 84
    }
   ],
   "source": [
    "c_numbers[max(c_numbers.keys())]"
   ]
  },
  {
   "source": [
    "max(c_numbers.keys())"
   ],
   "cell_type": "code",
   "metadata": {},
   "execution_count": 22,
   "outputs": [
    {
     "output_type": "execute_result",
     "data": {
      "text/plain": [
       "4"
      ]
     },
     "metadata": {},
     "execution_count": 22
    }
   ]
  },
  {
   "cell_type": "code",
   "execution_count": 23,
   "metadata": {},
   "outputs": [
    {
     "output_type": "execute_result",
     "data": {
      "text/plain": [
       "1"
      ]
     },
     "metadata": {},
     "execution_count": 23
    }
   ],
   "source": [
    "list(c_numbers.keys())[0] "
   ]
  },
  {
   "cell_type": "code",
   "execution_count": 17,
   "metadata": {},
   "outputs": [
    {
     "output_type": "stream",
     "name": "stdout",
     "text": [
      "YES\n"
     ]
    }
   ],
   "source": [
    "from collections import Counter \n",
    "\n",
    "#s = 'aabbc'\n",
    "#s = 'abcdefghhgfedecba'\n",
    "#s = 'aab'\n",
    "#s = 'xxxaabbccrry'\n",
    "#s = 'aaaabbcc'\n",
    "#s = 'aabbccddeefghi'\n",
    "#s = 'aabbcd'\n",
    "s = 'abbbbccccdddd'\n",
    "#s = 'aaaaabc'\n",
    "#s='ibfdgaeadiaefgbhbdghhhbgdfgeiccbiehhfcggchgghadhdhagfbahhddgghbdehidbibaeaagaeeigffcebfbaieggabcfbiiedcabfihchdfabifahcbhagccbdfifhghcadfiadeeaheeddddiecaicbgigccageicehfdhdgafaddhffadigfhhcaedcedecafeacbdacgfgfeeibgaiffdehigebhhehiaahfidibccdcdagifgaihacihadecgifihbebffebdfbchbgigeccahgihbcbcaggebaaafgfedbfgagfediddghdgbgehhhifhgcedechahidcbchebheihaadbbbiaiccededchdagfhccfdefigfibifabeiaccghcegfbcghaefifbachebaacbhbfgfddeceababbacgffbagidebeadfihaefefegbghgddbbgddeehgfbhafbccidebgehifafgbghafacgfdccgifdcbbbidfifhdaibgigebigaedeaaiadegfefbhacgddhchgcbgcaeaieiegiffchbgbebgbehbbfcebciiagacaiechdigbgbghefcahgbhfibhedaeeiffebdiabcifgccdefabccdghehfibfiifdaicfedagahhdcbhbicdgibgcedieihcichadgchgbdcdagaihebbabhibcihicadgadfcihdheefbhffiageddhgahaidfdhhdbgciiaciegchiiebfbcbhaeagccfhbfhaddagnfieihghfbaggiffbbfbecgaiiidccdceadbbdfgigibgcgchafccdchgifdeieicbaididhfcfdedbhaadedfageigfdehgcdaecaebebebfcieaecfagfdieaefdiedbcadchabhebgehiidfcgahcdhcdhgchhiiheffiifeegcfdgbdeffhgeghdfhbfbifgidcafbfcd'\n",
    "\n",
    "c_letters = Counter(s)\n",
    "values = list(c_letters.values())\n",
    "c_numbers = Counter(values)\n",
    "\n",
    "if len(c_numbers) > 2:\n",
    "    print('NO')\n",
    "elif len(c_numbers) == 1:\n",
    "    print('YES')\n",
    "elif len(c_numbers) == 0:\n",
    "    print('YES')\n",
    "else:\n",
    "    if abs(list(c_numbers.keys())[0] - list(c_numbers.keys())[1]) == 1:\n",
    "        if (c_numbers[list(c_numbers.keys())[0]] == 1) or (c_numbers[list(c_numbers.keys())[1]]) == 1:\n",
    "            print('yes')\n",
    "        else: \n",
    "            print('no')\n",
    "    else:\n",
    "        if (list(c_numbers.values())[0] == 1 or list(c_numbers.values())[1] == 1) and (list(c_numbers.keys())[0] == 1 or list(c_numbers.keys())[1] == 1):\n",
    "            if (list(c_numbers.values())[0] == list(c_numbers.keys())[0]) or (list(c_numbers.values())[1] == list(c_numbers.keys())[1]):\n",
    "                print('YES')\n",
    "            else: \n",
    "                print('NO')\n",
    "        else: \n",
    "            print('NO')"
   ]
  },
  {
   "cell_type": "code",
   "execution_count": 18,
   "metadata": {},
   "outputs": [],
   "source": [
    "def isValid(s):\n",
    "    string=Counter(s)\n",
    "    string=Counter(string.values())\n",
    "    if len(string.keys())==1:\n",
    "        return \"YES\"\n",
    "    elif len(string.values())==2:\n",
    "        key1,key2=string.keys()\n",
    "        if string[key1]==1 and (key1-1==key2 or key1-1==0):\n",
    "            return \"YES\"\n",
    "        elif string[key2]==1 and (key2-1==key1 or key2-1==0):\n",
    "            return \"YES\"\n",
    "        else:\n",
    "            return \"NO\"\n",
    "    else:\n",
    "        return \"NO\""
   ]
  },
  {
   "cell_type": "code",
   "execution_count": 5,
   "metadata": {},
   "outputs": [
    {
     "output_type": "stream",
     "name": "stdout",
     "text": [
      "8\n"
     ]
    }
   ],
   "source": [
    "nums = [9,6,4,2,3,5,7,0,1]\n",
    "for i in range(0, len(nums)):\n",
    "    if i not in nums:\n",
    "        print(i)\n",
    "# формула на гаус!"
   ]
  },
  {
   "cell_type": "code",
   "execution_count": 19,
   "metadata": {},
   "outputs": [
    {
     "output_type": "stream",
     "name": "stdout",
     "text": [
      "2\n"
     ]
    }
   ],
   "source": [
    "nums = [1,0,1,1,0,1]\n",
    "s = 0 \n",
    "s_list = []\n",
    "for i in range(0, len(nums)):\n",
    "    if nums[i] == 1:\n",
    "        s += 1\n",
    "        if i == len(nums)-1:\n",
    "            s_list.append(s)\n",
    "    else:\n",
    "        s_list.append(s)\n",
    "        s = 0\n",
    "print(max(s_list))"
   ]
  },
  {
   "source": [
    "#grid = [[2,1,1],[1,1,0],[0,1,1]]\n",
    "#grid = [[2,1,1],[0,1,1],[1,0,1]]\n",
    "#grid = [[1,2]]\n",
    "grid = [[2,0,1,1,1,1,1,1,1,1],[1,0,1,0,0,0,0,0,0,1],[1,0,1,0,1,1,1,1,0,1],[1,0,1,0,1,0,0,1,0,1],[1,0,1,0,1,0,0,1,0,1],[1,0,1,0,1,1,0,1,0,1],[1,0,1,0,0,0,0,1,0,1],[1,0,1,1,1,1,1,1,0,1],[1,0,0,0,0,0,0,0,0,1], [1,1,1,1,1,1,1,1,1,1]]\n",
    "#grid = [[2, 0, 1], [1, 0, 1], [1, 1, 1]]\n",
    "minutes = 0\n",
    "\n",
    "rows = len(grid)\n",
    "cols = len(grid[0]) \n",
    "flag = 0 \n",
    "flag2 = -1\n",
    "br = 0 \n",
    "for row in grid:\n",
    "    for el in row:\n",
    "        if el == 1:\n",
    "            br += 1\n",
    "if br == 0:\n",
    "    print(0)\n",
    "\n",
    "grid_copy = [[]]\n",
    "\n",
    "while flag2 != 0:\n",
    "    grid_copy = grid\n",
    "    for i in range(0, rows):\n",
    "        for j in range(0, cols):\n",
    "            flag = 0\n",
    "            if grid[i][j] == 2:\n",
    "                if (i-1 >= 0) and (grid[i-1][j] == 1):\n",
    "                    grid[i-1][j] = 2\n",
    "                    flag = 1\n",
    "                if (j+1 < cols) and (grid[i][j+1] == 1):\n",
    "                    grid[i][j+1] = 2\n",
    "                    flag = 1\n",
    "                if (i+1 < rows) and (grid[i+1][j] == 1):\n",
    "                    grid[i+1][j] = 2\n",
    "                    flag = 1\n",
    "                if (j-1 >= 0) and (grid[i][j-1] == 1):\n",
    "                    grid[i][j-1] = 2\n",
    "                    flag = 1\n",
    "                if flag == 1:\n",
    "                    minutes += 1\n",
    "                    flag2 = 1\n",
    "                else: \n",
    "                    flag2 = 0\n",
    "\n",
    "\n",
    "for row in grid:\n",
    "    for el in row:\n",
    "        if el == 1:\n",
    "            print(-1)\n",
    "            break\n",
    "print(minutes)\n",
    "print(grid_copy)\n",
    "print(grid)"
   ],
   "cell_type": "code",
   "metadata": {},
   "execution_count": 12,
   "outputs": [
    {
     "output_type": "stream",
     "name": "stdout",
     "text": [
      "-1\n-1\n-1\n-1\n-1\n-1\n-1\n-1\n20\n[[2, 0, 1, 1, 1, 1, 1, 1, 1, 1], [2, 0, 1, 0, 0, 0, 0, 0, 0, 1], [2, 0, 1, 0, 1, 1, 1, 1, 0, 1], [2, 0, 1, 0, 1, 0, 0, 1, 0, 1], [2, 0, 1, 0, 1, 0, 0, 1, 0, 1], [2, 0, 1, 0, 1, 1, 0, 1, 0, 1], [2, 0, 1, 0, 0, 0, 0, 1, 0, 1], [2, 0, 1, 1, 1, 1, 1, 1, 0, 2], [2, 0, 0, 0, 0, 0, 0, 0, 0, 2], [2, 2, 2, 2, 2, 2, 2, 2, 2, 2]]\n[[2, 0, 1, 1, 1, 1, 1, 1, 1, 1], [2, 0, 1, 0, 0, 0, 0, 0, 0, 1], [2, 0, 1, 0, 1, 1, 1, 1, 0, 1], [2, 0, 1, 0, 1, 0, 0, 1, 0, 1], [2, 0, 1, 0, 1, 0, 0, 1, 0, 1], [2, 0, 1, 0, 1, 1, 0, 1, 0, 1], [2, 0, 1, 0, 0, 0, 0, 1, 0, 1], [2, 0, 1, 1, 1, 1, 1, 1, 0, 2], [2, 0, 0, 0, 0, 0, 0, 0, 0, 2], [2, 2, 2, 2, 2, 2, 2, 2, 2, 2]]\n"
     ]
    }
   ]
  },
  {
   "cell_type": "code",
   "execution_count": 21,
   "metadata": {},
   "outputs": [
    {
     "output_type": "stream",
     "name": "stdout",
     "text": [
      "yes\n"
     ]
    }
   ],
   "source": [
    "for row in grid:\n",
    "    for el in row:\n",
    "        if el == 1:\n",
    "            print('yes')"
   ]
  },
  {
   "cell_type": "code",
   "execution_count": null,
   "metadata": {},
   "outputs": [],
   "source": [
    "[2,0,1,1,1,1,1,1,1,1]\n",
    "[2,0,1,0,0,0,0,0,0,1]\n",
    "[2,0,1,0,1,1,1,1,0,1]\n",
    "[2,0,1,0,1,0,0,1,0,1]\n",
    "[2,0,1,0,1,0,0,1,0,1]\n",
    "[2,0,1,0,1,1,0,1,0,1]\n",
    "[2,0,1,0,0,0,0,1,0,1]\n",
    "[2,0,1,1,1,1,1,1,0,1]\n",
    "[2,0,0,0,0,0,0,0,0,1]\n",
    "[2,2,2,2,2,2,2,2,2,2]"
   ]
  },
  {
   "cell_type": "code",
   "execution_count": 4,
   "metadata": {},
   "outputs": [
    {
     "output_type": "execute_result",
     "data": {
      "text/plain": [
       "[2, 2, 2, 2, 2, 2, 2, 2, 2, 2]"
      ]
     },
     "metadata": {},
     "execution_count": 4
    }
   ],
   "source": [
    "[2, 0, 1, 1, 1, 1, 1, 1, 1, 1]\n",
    "[2, 0, 1, 0, 0, 0, 0, 0, 0, 1]\n",
    "[2, 0, 1, 0, 1, 1, 1, 1, 0, 1]\n",
    "[2, 0, 1, 0, 1, 0, 0, 1, 0, 1]\n",
    "[2, 0, 1, 0, 1, 0, 0, 1, 0, 1]\n",
    "[2, 0, 1, 0, 1, 1, 0, 1, 0, 1]\n",
    "[2, 0, 1, 0, 0, 0, 0, 1, 0, 1]\n",
    "[2, 0, 1, 1, 1, 1, 1, 1, 0, 1]\n",
    "[2, 0, 0, 0, 0, 0, 0, 0, 0, 2]\n",
    "[2, 2, 2, 2, 2, 2, 2, 2, 2, 2]\n"
   ]
  },
  {
   "cell_type": "code",
   "execution_count": 11,
   "metadata": {},
   "outputs": [
    {
     "output_type": "execute_result",
     "data": {
      "text/plain": [
       "True"
      ]
     },
     "metadata": {},
     "execution_count": 11
    }
   ],
   "source": [
    "[] != [[2, 0, 1], [1, 0, 1], [1, 1, 1]]"
   ]
  },
  {
   "cell_type": "code",
   "execution_count": 4,
   "metadata": {},
   "outputs": [
    {
     "output_type": "execute_result",
     "data": {
      "text/plain": [
       "[[2, 0, 1], [1, 0, 1], [1, 1, 1]]"
      ]
     },
     "metadata": {},
     "execution_count": 4
    }
   ],
   "source": [
    "grid1 = [[2, 0, 1], [1, 0, 1], [1, 1, 1]]\n",
    "grid2 = grid1\n",
    "grid1 = [[2, 0, 1], [1, 0, 1], [1, 1, 2]]\n",
    "grid2"
   ]
  },
  {
   "cell_type": "code",
   "execution_count": null,
   "metadata": {},
   "outputs": [],
   "source": []
  }
 ]
}